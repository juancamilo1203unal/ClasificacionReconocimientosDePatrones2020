{
  "nbformat": 4,
  "nbformat_minor": 0,
  "metadata": {
    "colab": {
      "name": "Análisis de Vibraciones.ipynb",
      "provenance": [],
      "collapsed_sections": [],
      "include_colab_link": true
    },
    "kernelspec": {
      "display_name": "Python 3",
      "language": "python",
      "name": "python3"
    },
    "language_info": {
      "codemirror_mode": {
        "name": "ipython",
        "version": 3
      },
      "file_extension": ".py",
      "mimetype": "text/x-python",
      "name": "python",
      "nbconvert_exporter": "python",
      "pygments_lexer": "ipython3",
      "version": "3.7.4"
    }
  },
  "cells": [
    {
      "cell_type": "markdown",
      "metadata": {
        "id": "view-in-github",
        "colab_type": "text"
      },
      "source": [
        "<a href=\"https://colab.research.google.com/github/juancamilo1203unal/ClasificacionReconocimientosDePatrones2020/blob/master/An%C3%A1lisis_de_Vibraciones.ipynb\" target=\"_parent\"><img src=\"https://colab.research.google.com/assets/colab-badge.svg\" alt=\"Open In Colab\"/></a>"
      ]
    },
    {
      "cell_type": "markdown",
      "metadata": {
        "_cell_guid": "459ad1ed-0e10-4dd1-a4f1-893ba5368175",
        "_uuid": "08bb7d7c3677ca15a39a3569cef5d2071e9b015e",
        "colab_type": "text",
        "id": "qOyrGlavzu_O"
      },
      "source": [
        "# Clasificador de fallas en sistemas de vibraciones\n",
        "\n",
        "**Datos de varible de vibración en molino industrial**\n",
        "\n",
        "Una de las empresas  A-MAQ S.A. (https://a-maq.com/) tiene instalado un sistema de monitereo 24/7 para medir las variables de vibraciones en una máquina de una industria Colombiana.\n",
        "\n",
        "La máquina es un molino triturador de granos para el proceso de generar concentrado de alimentos para animales.\n",
        "\n",
        "La máquina esta en configuración Motor con acople directo al molino. El Eje del molino está suportado sobre 2 rodamientos que a su vez están soportados sobre 2 chumaceras. El molino tiene una serie de martillos para hacer el proceso de triturado.\n",
        "\n",
        "Cuenta con 4 sensores de vibración ubicados diagonalmente en los 4 rodamientos (2 del motor y 2 del molino), 1 sensor de vibración axial ubicado en uno de los rodamientos del motor y un sensor de referencia angular para medir la frecuencia a la que gira la máquina.\n",
        "\n",
        "La empresa tiene datos históricos desde el 16/04/2019 hasta hoy, pero se tomarán los datos hasta el 11/03/2020. El perido de guardado de los datos varía dependiendo del estado de la máquina:\n",
        "\n",
        "1.   Apagada: Si la máquina está apagada no se guarnan datos\n",
        "2.   Delta de velocidad: Si la máquina pasó de estar apagada a prendida o viceversa, se guardan datos a mayor resolución (4 segundos) mientras pasa el evento.\n",
        "2.   Normal: Si la máquina está en estado normal, es decir, los niveles de vibración está dentro del umbral definido por un especialista para catalogar las vibraciones normales, se guardan datos cada 10 minutos.\n",
        "3. Alarma: Si la máquina está en un estado de criticidad en el que los mantenedores deben atender la máquina con un ajunte o un mantenimiento, se guardan datos a cada segundo durante un minuto.\n",
        "4. Disparo: Si la máquina está en un estado crítico y se debe apagar inmediatamente, se guardan datos a cada segundo durante un minuto..\n",
        "\n",
        "Los datos está etiquetados por un analista de vibraciónes que determiná las fallas que tiene el sistema en un instante determinado. De acuerdo a los sensores implementados el analista puede detectar diferentes fallas, pero la máquina no presentó todos tipos de fallas en este año de funcionamiento:\n",
        "\n",
        "*   Soltura estructural en la base (SoltEst_BM)\n",
        "*   Holgura eje agujero rodamiento 1\n",
        "*   Holgura eje agujero rodamiento 2\n",
        "*   Desbalanceo del motor\n",
        "*   Desalineación en el acople (Desal_Acople)\n",
        "*   Holgura eje agujero chumacera 3 (HolgEjeAg_ChuP3)\n",
        "*   Soltura estructural chumacera 3 (SoltEst_BChumP3)\n",
        "*   Desbalanceo Molino (Desb_Molino)\n",
        "*   Holgura eje agujero chumacera 4 (HolgEjeAg_ChuP4)\n",
        "*   Soltura estructural chumacera 4 (SoltEst_BChumP4)\n",
        "\n",
        "**Objetivo**\n",
        "\n",
        "Crear un modelo de clasificación, que prediga la falla de la máquina en un instante de tiempo determinado.\n",
        "\n",
        "\n",
        "\n"
      ]
    },
    {
      "cell_type": "markdown",
      "metadata": {
        "id": "5NPZkLPu3g_v",
        "colab_type": "text"
      },
      "source": [
        "**Contenido**\n",
        "\n",
        "*   Importar librerías\n",
        "*   Importar la base de datos y descripción de los datos\n",
        "*   Analítica a los datos y limpieza de datos\n",
        "*   ModeloS de clasificación\n",
        "    - Árboles de decisión\n",
        "    - Random Forest"
      ]
    },
    {
      "cell_type": "markdown",
      "metadata": {
        "id": "YvCjSqJw4krR",
        "colab_type": "text"
      },
      "source": [
        "**LIBRERÍAS**"
      ]
    },
    {
      "cell_type": "code",
      "metadata": {
        "_cell_guid": "9e92f1a3-3e81-4ec6-a567-890827b0555c",
        "_uuid": "e5338e8c3fa6dc8f410d8b868aa78cb54621780b",
        "colab_type": "code",
        "id": "jHCgGXJBzu_P",
        "colab": {}
      },
      "source": [
        "# Importamos las librerías\n",
        "import pandas as pd\n",
        "import numpy as np\n",
        "\n",
        "# Librerías para graficar\n",
        "import seaborn as sns\n",
        "import matplotlib.pyplot as plt\n",
        "from matplotlib.pylab import rcParams\n",
        "import graphviz\n",
        "\n",
        "# Librerías de Aprendizaje de máquinas\n",
        "from sklearn.model_selection import train_test_split\n",
        "from sklearn import tree\n",
        "from sklearn.ensemble import RandomForestClassifier\n",
        "\n",
        "# Importar librería para métricas\n",
        "from sklearn import metrics\n",
        "from sklearn.metrics import confusion_matrix"
      ],
      "execution_count": 0,
      "outputs": []
    },
    {
      "cell_type": "markdown",
      "metadata": {
        "id": "N26Hnv6g4oWs",
        "colab_type": "text"
      },
      "source": [
        "**BASE DE DATOS Y DESCRIPCIÓN**"
      ]
    },
    {
      "cell_type": "markdown",
      "metadata": {
        "id": "-Q5SOPYErWtB",
        "colab_type": "text"
      },
      "source": [
        "Se leen los datos desde el GitHub: variables de global en velocidad (RMS)"
      ]
    },
    {
      "cell_type": "code",
      "metadata": {
        "_cell_guid": "52a87df3-04c2-4515-994a-9a3d0b85d3c3",
        "_uuid": "9700cff3c818070f8f202bc964e2a5ffc8c72aa5",
        "colab_type": "code",
        "id": "6VMz18QFzu_U",
        "outputId": "f8f21e17-aa73-4607-bd74-87cf103f33b1",
        "colab": {
          "base_uri": "https://localhost:8080/",
          "height": 271
        }
      },
      "source": [
        "data_vel = pd.read_csv(\n",
        "    \"https://raw.githubusercontent.com/juancamilo1203unal/ClasificacionReconocimientosDePatrones2020/master/dataset/Velocidad.csv\",\n",
        "    sep = ';',         # Se especifica el separador de los datos\n",
        "    thousands = None,  # Se especifica el separador de miles\n",
        "    decimal = ',')     # Se especifica el separador de los decimales\n",
        "\n",
        "# Imprimir las primeras 7 líneas\n",
        "print(data_vel.shape)\n",
        "data_vel.head(7)"
      ],
      "execution_count": 174,
      "outputs": [
        {
          "output_type": "stream",
          "text": [
            "(39666, 7)\n"
          ],
          "name": "stdout"
        },
        {
          "output_type": "execute_result",
          "data": {
            "text/html": [
              "<div>\n",
              "<style scoped>\n",
              "    .dataframe tbody tr th:only-of-type {\n",
              "        vertical-align: middle;\n",
              "    }\n",
              "\n",
              "    .dataframe tbody tr th {\n",
              "        vertical-align: top;\n",
              "    }\n",
              "\n",
              "    .dataframe thead th {\n",
              "        text-align: right;\n",
              "    }\n",
              "</style>\n",
              "<table border=\"1\" class=\"dataframe\">\n",
              "  <thead>\n",
              "    <tr style=\"text-align: right;\">\n",
              "      <th></th>\n",
              "      <th>Estampa de tiempo</th>\n",
              "      <th>KPH</th>\n",
              "      <th>1DIAG</th>\n",
              "      <th>2DIAG</th>\n",
              "      <th>2AXI</th>\n",
              "      <th>3DIAG</th>\n",
              "      <th>4DIAG</th>\n",
              "    </tr>\n",
              "  </thead>\n",
              "  <tbody>\n",
              "    <tr>\n",
              "      <th>0</th>\n",
              "      <td>16/04/2019 16:22</td>\n",
              "      <td>0.00</td>\n",
              "      <td>5.309</td>\n",
              "      <td>2.503</td>\n",
              "      <td>0.029</td>\n",
              "      <td>10.931</td>\n",
              "      <td>1.352</td>\n",
              "    </tr>\n",
              "    <tr>\n",
              "      <th>1</th>\n",
              "      <td>16/04/2019 16:22</td>\n",
              "      <td>0.00</td>\n",
              "      <td>5.259</td>\n",
              "      <td>2.456</td>\n",
              "      <td>0.028</td>\n",
              "      <td>10.896</td>\n",
              "      <td>1.587</td>\n",
              "    </tr>\n",
              "    <tr>\n",
              "      <th>2</th>\n",
              "      <td>16/04/2019 16:22</td>\n",
              "      <td>0.00</td>\n",
              "      <td>5.295</td>\n",
              "      <td>2.366</td>\n",
              "      <td>0.022</td>\n",
              "      <td>11.036</td>\n",
              "      <td>1.701</td>\n",
              "    </tr>\n",
              "    <tr>\n",
              "      <th>3</th>\n",
              "      <td>16/04/2019 16:22</td>\n",
              "      <td>0.00</td>\n",
              "      <td>5.359</td>\n",
              "      <td>2.432</td>\n",
              "      <td>0.026</td>\n",
              "      <td>11.022</td>\n",
              "      <td>2.065</td>\n",
              "    </tr>\n",
              "    <tr>\n",
              "      <th>4</th>\n",
              "      <td>16/04/2019 16:23</td>\n",
              "      <td>2621.97</td>\n",
              "      <td>5.401</td>\n",
              "      <td>2.575</td>\n",
              "      <td>0.040</td>\n",
              "      <td>25.400</td>\n",
              "      <td>25.400</td>\n",
              "    </tr>\n",
              "    <tr>\n",
              "      <th>5</th>\n",
              "      <td>16/04/2019 16:23</td>\n",
              "      <td>0.00</td>\n",
              "      <td>5.356</td>\n",
              "      <td>2.535</td>\n",
              "      <td>0.024</td>\n",
              "      <td>10.905</td>\n",
              "      <td>11.708</td>\n",
              "    </tr>\n",
              "    <tr>\n",
              "      <th>6</th>\n",
              "      <td>16/04/2019 16:23</td>\n",
              "      <td>0.00</td>\n",
              "      <td>5.322</td>\n",
              "      <td>2.401</td>\n",
              "      <td>0.026</td>\n",
              "      <td>10.997</td>\n",
              "      <td>11.617</td>\n",
              "    </tr>\n",
              "  </tbody>\n",
              "</table>\n",
              "</div>"
            ],
            "text/plain": [
              "  Estampa de tiempo      KPH  1DIAG  2DIAG   2AXI   3DIAG   4DIAG\n",
              "0  16/04/2019 16:22     0.00  5.309  2.503  0.029  10.931   1.352\n",
              "1  16/04/2019 16:22     0.00  5.259  2.456  0.028  10.896   1.587\n",
              "2  16/04/2019 16:22     0.00  5.295  2.366  0.022  11.036   1.701\n",
              "3  16/04/2019 16:22     0.00  5.359  2.432  0.026  11.022   2.065\n",
              "4  16/04/2019 16:23  2621.97  5.401  2.575  0.040  25.400  25.400\n",
              "5  16/04/2019 16:23     0.00  5.356  2.535  0.024  10.905  11.708\n",
              "6  16/04/2019 16:23     0.00  5.322  2.401  0.026  10.997  11.617"
            ]
          },
          "metadata": {
            "tags": []
          },
          "execution_count": 174
        }
      ]
    },
    {
      "cell_type": "markdown",
      "metadata": {
        "id": "8jQD1BjtW4ay",
        "colab_type": "text"
      },
      "source": [
        "**DATOS GLOBAL DE VELOCIDAD**\n",
        "<br>**[1] Estampa de tiempo:** fecha y hora de la medida\n",
        "<br> **[2] kPH:** velocidad del motor en RPM (revoluciones por segundo)\n",
        "<br>**[3] 1DIAG:** Medida de vibración en el sensor 1 diagonal, global en velociad. mm/(s^2)\n",
        "<br>**[4] 2DIAG:** Medida de vibración en el sensor 2 diagonal, global en velociad. mm/(s^2)\n",
        "<br>**[5] 2AXI:** Medida de vibración en el sensor 2 axial, global en velociad. mm/(s^2)\n",
        "<br>**[6] 3DIAG:** Medida de vibración en el sensor 3 diagonal, global en velociad. mm/(s^2)\n",
        "<br>**[7] 4DIAG:** Medida de vibración en el sensor 4 diagonal, global en velociad. mm/(s^2)"
      ]
    },
    {
      "cell_type": "markdown",
      "metadata": {
        "id": "-3TD2gPor4ty",
        "colab_type": "text"
      },
      "source": [
        "Se leen los datos desde el GitHub: componente de amplitud 1X. Componenete de velocidad a la frecuencia de rotación de la máquina"
      ]
    },
    {
      "cell_type": "code",
      "metadata": {
        "id": "FFbVTMvbWj90",
        "colab_type": "code",
        "outputId": "623d5188-d59f-446f-943c-f2d23f110602",
        "colab": {
          "base_uri": "https://localhost:8080/",
          "height": 271
        }
      },
      "source": [
        "data_amp1X = pd.read_csv(\n",
        "    \"https://raw.githubusercontent.com/juancamilo1203unal/ClasificacionReconocimientosDePatrones2020/master/dataset/Amp1X.csv\",\n",
        "    sep = ';',         # Se especifica el separador de los datos\n",
        "    thousands = None,  # Se especifica el separador de miles\n",
        "    decimal = ',')     # Se especifica el separador de los decimales\n",
        "\n",
        "# Imprimir las primeras 7 líneas\n",
        "print(data_amp1X.shape)\n",
        "data_amp1X.head(7)"
      ],
      "execution_count": 175,
      "outputs": [
        {
          "output_type": "stream",
          "text": [
            "(39666, 8)\n"
          ],
          "name": "stdout"
        },
        {
          "output_type": "execute_result",
          "data": {
            "text/html": [
              "<div>\n",
              "<style scoped>\n",
              "    .dataframe tbody tr th:only-of-type {\n",
              "        vertical-align: middle;\n",
              "    }\n",
              "\n",
              "    .dataframe tbody tr th {\n",
              "        vertical-align: top;\n",
              "    }\n",
              "\n",
              "    .dataframe thead th {\n",
              "        text-align: right;\n",
              "    }\n",
              "</style>\n",
              "<table border=\"1\" class=\"dataframe\">\n",
              "  <thead>\n",
              "    <tr style=\"text-align: right;\">\n",
              "      <th></th>\n",
              "      <th>Estampa de tiempo</th>\n",
              "      <th>KPH</th>\n",
              "      <th>1DIAG</th>\n",
              "      <th>2DIAG</th>\n",
              "      <th>2AXI</th>\n",
              "      <th>3DIAG</th>\n",
              "      <th>4DIAG</th>\n",
              "      <th>Falla</th>\n",
              "    </tr>\n",
              "  </thead>\n",
              "  <tbody>\n",
              "    <tr>\n",
              "      <th>0</th>\n",
              "      <td>16/04/2019 16:22</td>\n",
              "      <td>0.00</td>\n",
              "      <td>0.000000</td>\n",
              "      <td>0.000000</td>\n",
              "      <td>0.000000</td>\n",
              "      <td>0.000000</td>\n",
              "      <td>0.000000</td>\n",
              "      <td>OK</td>\n",
              "    </tr>\n",
              "    <tr>\n",
              "      <th>1</th>\n",
              "      <td>16/04/2019 16:22</td>\n",
              "      <td>0.00</td>\n",
              "      <td>0.000000</td>\n",
              "      <td>0.000000</td>\n",
              "      <td>0.000000</td>\n",
              "      <td>0.000000</td>\n",
              "      <td>0.000000</td>\n",
              "      <td>OK</td>\n",
              "    </tr>\n",
              "    <tr>\n",
              "      <th>2</th>\n",
              "      <td>16/04/2019 16:22</td>\n",
              "      <td>0.00</td>\n",
              "      <td>0.000000</td>\n",
              "      <td>0.000000</td>\n",
              "      <td>0.000000</td>\n",
              "      <td>0.000000</td>\n",
              "      <td>0.000000</td>\n",
              "      <td>OK</td>\n",
              "    </tr>\n",
              "    <tr>\n",
              "      <th>3</th>\n",
              "      <td>16/04/2019 16:22</td>\n",
              "      <td>0.00</td>\n",
              "      <td>0.000000</td>\n",
              "      <td>0.000000</td>\n",
              "      <td>0.000000</td>\n",
              "      <td>0.000000</td>\n",
              "      <td>0.000000</td>\n",
              "      <td>OK</td>\n",
              "    </tr>\n",
              "    <tr>\n",
              "      <th>4</th>\n",
              "      <td>16/04/2019 16:23</td>\n",
              "      <td>2621.97</td>\n",
              "      <td>1.863805</td>\n",
              "      <td>1.979871</td>\n",
              "      <td>0.197882</td>\n",
              "      <td>91.155264</td>\n",
              "      <td>212.856235</td>\n",
              "      <td>OK</td>\n",
              "    </tr>\n",
              "    <tr>\n",
              "      <th>5</th>\n",
              "      <td>16/04/2019 16:23</td>\n",
              "      <td>0.00</td>\n",
              "      <td>0.000000</td>\n",
              "      <td>0.000000</td>\n",
              "      <td>0.000000</td>\n",
              "      <td>0.000000</td>\n",
              "      <td>0.000000</td>\n",
              "      <td>OK</td>\n",
              "    </tr>\n",
              "    <tr>\n",
              "      <th>6</th>\n",
              "      <td>16/04/2019 16:23</td>\n",
              "      <td>0.00</td>\n",
              "      <td>0.000000</td>\n",
              "      <td>0.000000</td>\n",
              "      <td>0.000000</td>\n",
              "      <td>0.000000</td>\n",
              "      <td>0.000000</td>\n",
              "      <td>OK</td>\n",
              "    </tr>\n",
              "  </tbody>\n",
              "</table>\n",
              "</div>"
            ],
            "text/plain": [
              "  Estampa de tiempo      KPH     1DIAG  ...      3DIAG       4DIAG  Falla\n",
              "0  16/04/2019 16:22     0.00  0.000000  ...   0.000000    0.000000     OK\n",
              "1  16/04/2019 16:22     0.00  0.000000  ...   0.000000    0.000000     OK\n",
              "2  16/04/2019 16:22     0.00  0.000000  ...   0.000000    0.000000     OK\n",
              "3  16/04/2019 16:22     0.00  0.000000  ...   0.000000    0.000000     OK\n",
              "4  16/04/2019 16:23  2621.97  1.863805  ...  91.155264  212.856235     OK\n",
              "5  16/04/2019 16:23     0.00  0.000000  ...   0.000000    0.000000     OK\n",
              "6  16/04/2019 16:23     0.00  0.000000  ...   0.000000    0.000000     OK\n",
              "\n",
              "[7 rows x 8 columns]"
            ]
          },
          "metadata": {
            "tags": []
          },
          "execution_count": 175
        }
      ]
    },
    {
      "cell_type": "markdown",
      "metadata": {
        "colab_type": "text",
        "id": "Qfe6eJXuH_Ib"
      },
      "source": [
        "**DATOS AMPLITUD 1X**\n",
        "<br>**[1] Estampa de tiempo:** fecha y hora de la medida\n",
        "<br> **[2] kPH:** velocidad del motor en RPM (revoluciones por segundo)\n",
        "<br>**[3] 1DIAG:** Medida de vibración, Amplitud 1X. mm/(s^2)\n",
        "<br>**[4] 2DIAG:** Medida de vibración, Amplitud 1X. mm/(s^2)\n",
        "<br>**[5] 2AXI:** Medida de vibración, Amplitud 1X. mm/(s^2)\n",
        "<br>**[6] 3DIAG:** Medida de vibración, Amplitud 1X. mm/(s^2)\n",
        "<br>**[7] 4DIAG:** Medida de vibración, Amplitud 1X. mm/(s^2)\n",
        "<br>**[8] Falla:** falla del sistema\n",
        "*   Soltura estructural en la base (SoltEst_BM)\n",
        "*   Holgura eje agujero rodamiento 1\n",
        "*   Holgura eje agujero rodamiento 2\n",
        "*   Desbalanceo del motor\n",
        "*   Desalineación en el acople (Desal_Acople)\n",
        "*   Holgura eje agujero chumacera 3 (HolgEjeAg_ChuP3)\n",
        "*   Soltura estructural chumacera 3 (SoltEst_BChumP3)\n",
        "*   Desbalanceo Molino (Desb_Molino)\n",
        "*   Holgura eje agujero chumacera 4 (HolgEjeAg_ChuP4)\n",
        "*   Soltura estructural chumacera 4 (SoltEst_BChumP4)"
      ]
    },
    {
      "cell_type": "markdown",
      "metadata": {
        "id": "beowKoYR-TOo",
        "colab_type": "text"
      },
      "source": [
        "**ANALÍTICA DE DATOS Y LIMPIEZA DE DATOS**"
      ]
    },
    {
      "cell_type": "markdown",
      "metadata": {
        "id": "tgGi2PacsWTS",
        "colab_type": "text"
      },
      "source": [
        "Se verifica si las estampas de tiempo coincida en los dos archvos"
      ]
    },
    {
      "cell_type": "code",
      "metadata": {
        "id": "CahQFia2W520",
        "colab_type": "code",
        "outputId": "8fa41b6c-a725-4e89-90e8-fe701a6ffb6a",
        "colab": {
          "base_uri": "https://localhost:8080/",
          "height": 334
        }
      },
      "source": [
        "data_vel['compare Time'] = np.where((data_vel['Estampa de tiempo'] == data_amp1X['Estampa de tiempo']), 'Igual', 'Diferente')\n",
        "# Agrupar los datos por falso o verdadero\n",
        "plt.figure(figsize=(5, 5))\n",
        "sns.countplot(data_vel['compare Time'])\n",
        "# Como todas las fechas coinciden se puede hacer la unión de las tablas\n",
        "data_vel.drop('compare Time', axis=1, inplace=True)"
      ],
      "execution_count": 176,
      "outputs": [
        {
          "output_type": "display_data",
          "data": {
            "image/png": "[encoded data removed]",
            "text/plain": [
              "<Figure size 360x360 with 1 Axes>"
            ]
          },
          "metadata": {
            "tags": []
          }
        }
      ]
    },
    {
      "cell_type": "markdown",
      "metadata": {
        "id": "r19HTKH5siEg",
        "colab_type": "text"
      },
      "source": [
        "Se verifica que la referencia angular (KPH) coincida en todas las medidas"
      ]
    },
    {
      "cell_type": "code",
      "metadata": {
        "id": "abKqAZtZcDCk",
        "colab_type": "code",
        "outputId": "aab0065e-d827-40a1-fc6c-63b0f6159dc0",
        "colab": {
          "base_uri": "https://localhost:8080/",
          "height": 334
        }
      },
      "source": [
        "data_vel['compare KPH'] = np.where((data_vel['KPH'] == data_amp1X['KPH']), 'Igual', 'Diferente')\n",
        "# Agrupar los datos por falso o verdadero\n",
        "plt.figure(figsize=(5, 5))\n",
        "sns.countplot(data_vel['compare KPH'])\n",
        "# Como todas las fechas coinciden se puede hacer la unión de las tablas\n",
        "data_vel.drop('compare KPH', axis=1, inplace=True)"
      ],
      "execution_count": 177,
      "outputs": [
        {
          "output_type": "display_data",
          "data": {
            "image/png": "[encoded data removed]",
            "text/plain": [
              "<Figure size 360x360 with 1 Axes>"
            ]
          },
          "metadata": {
            "tags": []
          }
        }
      ]
    },
    {
      "cell_type": "markdown",
      "metadata": {
        "id": "KcY9TONLsn5a",
        "colab_type": "text"
      },
      "source": [
        "Se eliminan la componente kph de una de las dos tablas de dato porque es la misma"
      ]
    },
    {
      "cell_type": "code",
      "metadata": {
        "id": "3ajJz2aeDY-m",
        "colab_type": "code",
        "colab": {}
      },
      "source": [
        "data_amp1X.drop('KPH', axis=1, inplace=True)"
      ],
      "execution_count": 0,
      "outputs": []
    },
    {
      "cell_type": "markdown",
      "metadata": {
        "id": "0bVsOGbistoK",
        "colab_type": "text"
      },
      "source": [
        "Se cambian los nombres de las tablas de datos para que se distingan y se unen"
      ]
    },
    {
      "cell_type": "code",
      "metadata": {
        "id": "UcitKSt_a7F7",
        "colab_type": "code",
        "outputId": "91745892-86b0-4cdd-c53d-5c00bba42cd3",
        "colab": {
          "base_uri": "https://localhost:8080/",
          "height": 212
        }
      },
      "source": [
        "data_vel.columns = ['TimeStamp', 'KPH', 'DIAG1', 'DIAG2', 'AXI2', 'DIAG3', 'DIAG4']\n",
        "data_amp1X.columns = ['TimeStamp', 'DIAG1_1X', 'DIAG2_1X', 'AXI2_1X', 'DIAG3_1X', 'DIAG4_1X', 'Falla']\n",
        "\n",
        "# Se hace una combinación de las tablas para tener una sola\n",
        "data_vel['DIAG1_1X'] = data_amp1X['DIAG1_1X']\n",
        "data_vel['DIAG2_1X'] = data_amp1X['DIAG2_1X']\n",
        "data_vel['AXI2_1X'] = data_amp1X['AXI2_1X']\n",
        "data_vel['DIAG3_1X'] = data_amp1X['DIAG3_1X']\n",
        "data_vel['DIAG4_1X'] = data_amp1X['DIAG4_1X']\n",
        "data_vel['Falla'] = data_amp1X['Falla']\n",
        "dataTable = data_vel.copy()\n",
        "\n",
        "print(dataTable.shape)\n",
        "dataTable.head()"
      ],
      "execution_count": 179,
      "outputs": [
        {
          "output_type": "stream",
          "text": [
            "(39666, 13)\n"
          ],
          "name": "stdout"
        },
        {
          "output_type": "execute_result",
          "data": {
            "text/html": [
              "<div>\n",
              "<style scoped>\n",
              "    .dataframe tbody tr th:only-of-type {\n",
              "        vertical-align: middle;\n",
              "    }\n",
              "\n",
              "    .dataframe tbody tr th {\n",
              "        vertical-align: top;\n",
              "    }\n",
              "\n",
              "    .dataframe thead th {\n",
              "        text-align: right;\n",
              "    }\n",
              "</style>\n",
              "<table border=\"1\" class=\"dataframe\">\n",
              "  <thead>\n",
              "    <tr style=\"text-align: right;\">\n",
              "      <th></th>\n",
              "      <th>TimeStamp</th>\n",
              "      <th>KPH</th>\n",
              "      <th>DIAG1</th>\n",
              "      <th>DIAG2</th>\n",
              "      <th>AXI2</th>\n",
              "      <th>DIAG3</th>\n",
              "      <th>DIAG4</th>\n",
              "      <th>DIAG1_1X</th>\n",
              "      <th>DIAG2_1X</th>\n",
              "      <th>AXI2_1X</th>\n",
              "      <th>DIAG3_1X</th>\n",
              "      <th>DIAG4_1X</th>\n",
              "      <th>Falla</th>\n",
              "    </tr>\n",
              "  </thead>\n",
              "  <tbody>\n",
              "    <tr>\n",
              "      <th>0</th>\n",
              "      <td>16/04/2019 16:22</td>\n",
              "      <td>0.00</td>\n",
              "      <td>5.309</td>\n",
              "      <td>2.503</td>\n",
              "      <td>0.029</td>\n",
              "      <td>10.931</td>\n",
              "      <td>1.352</td>\n",
              "      <td>0.000000</td>\n",
              "      <td>0.000000</td>\n",
              "      <td>0.000000</td>\n",
              "      <td>0.000000</td>\n",
              "      <td>0.000000</td>\n",
              "      <td>OK</td>\n",
              "    </tr>\n",
              "    <tr>\n",
              "      <th>1</th>\n",
              "      <td>16/04/2019 16:22</td>\n",
              "      <td>0.00</td>\n",
              "      <td>5.259</td>\n",
              "      <td>2.456</td>\n",
              "      <td>0.028</td>\n",
              "      <td>10.896</td>\n",
              "      <td>1.587</td>\n",
              "      <td>0.000000</td>\n",
              "      <td>0.000000</td>\n",
              "      <td>0.000000</td>\n",
              "      <td>0.000000</td>\n",
              "      <td>0.000000</td>\n",
              "      <td>OK</td>\n",
              "    </tr>\n",
              "    <tr>\n",
              "      <th>2</th>\n",
              "      <td>16/04/2019 16:22</td>\n",
              "      <td>0.00</td>\n",
              "      <td>5.295</td>\n",
              "      <td>2.366</td>\n",
              "      <td>0.022</td>\n",
              "      <td>11.036</td>\n",
              "      <td>1.701</td>\n",
              "      <td>0.000000</td>\n",
              "      <td>0.000000</td>\n",
              "      <td>0.000000</td>\n",
              "      <td>0.000000</td>\n",
              "      <td>0.000000</td>\n",
              "      <td>OK</td>\n",
              "    </tr>\n",
              "    <tr>\n",
              "      <th>3</th>\n",
              "      <td>16/04/2019 16:22</td>\n",
              "      <td>0.00</td>\n",
              "      <td>5.359</td>\n",
              "      <td>2.432</td>\n",
              "      <td>0.026</td>\n",
              "      <td>11.022</td>\n",
              "      <td>2.065</td>\n",
              "      <td>0.000000</td>\n",
              "      <td>0.000000</td>\n",
              "      <td>0.000000</td>\n",
              "      <td>0.000000</td>\n",
              "      <td>0.000000</td>\n",
              "      <td>OK</td>\n",
              "    </tr>\n",
              "    <tr>\n",
              "      <th>4</th>\n",
              "      <td>16/04/2019 16:23</td>\n",
              "      <td>2621.97</td>\n",
              "      <td>5.401</td>\n",
              "      <td>2.575</td>\n",
              "      <td>0.040</td>\n",
              "      <td>25.400</td>\n",
              "      <td>25.400</td>\n",
              "      <td>1.863805</td>\n",
              "      <td>1.979871</td>\n",
              "      <td>0.197882</td>\n",
              "      <td>91.155264</td>\n",
              "      <td>212.856235</td>\n",
              "      <td>OK</td>\n",
              "    </tr>\n",
              "  </tbody>\n",
              "</table>\n",
              "</div>"
            ],
            "text/plain": [
              "          TimeStamp      KPH  DIAG1  ...   DIAG3_1X    DIAG4_1X  Falla\n",
              "0  16/04/2019 16:22     0.00  5.309  ...   0.000000    0.000000     OK\n",
              "1  16/04/2019 16:22     0.00  5.259  ...   0.000000    0.000000     OK\n",
              "2  16/04/2019 16:22     0.00  5.295  ...   0.000000    0.000000     OK\n",
              "3  16/04/2019 16:22     0.00  5.359  ...   0.000000    0.000000     OK\n",
              "4  16/04/2019 16:23  2621.97  5.401  ...  91.155264  212.856235     OK\n",
              "\n",
              "[5 rows x 13 columns]"
            ]
          },
          "metadata": {
            "tags": []
          },
          "execution_count": 179
        }
      ]
    },
    {
      "cell_type": "markdown",
      "metadata": {
        "id": "N2cQ0gQws2XC",
        "colab_type": "text"
      },
      "source": [
        "Información de la base de datos: Se ve que la base de datos 39666 registros, además que no hay datos nulos y los datos son tipo float64 excepto la estampa de tiempo y la falla."
      ]
    },
    {
      "cell_type": "code",
      "metadata": {
        "colab_type": "code",
        "id": "QXKqD4aXBwsu",
        "outputId": "d461ce22-2fac-4f00-9c6b-46ed0fbd5672",
        "colab": {
          "base_uri": "https://localhost:8080/",
          "height": 319
        }
      },
      "source": [
        "dataTable.info()"
      ],
      "execution_count": 180,
      "outputs": [
        {
          "output_type": "stream",
          "text": [
            "<class 'pandas.core.frame.DataFrame'>\n",
            "RangeIndex: 39666 entries, 0 to 39665\n",
            "Data columns (total 13 columns):\n",
            "TimeStamp    39666 non-null object\n",
            "KPH          39666 non-null float64\n",
            "DIAG1        39666 non-null float64\n",
            "DIAG2        39666 non-null float64\n",
            "AXI2         39458 non-null float64\n",
            "DIAG3        39666 non-null float64\n",
            "DIAG4        39666 non-null float64\n",
            "DIAG1_1X     39666 non-null float64\n",
            "DIAG2_1X     39666 non-null float64\n",
            "AXI2_1X      39458 non-null float64\n",
            "DIAG3_1X     39666 non-null float64\n",
            "DIAG4_1X     39666 non-null float64\n",
            "Falla        39666 non-null object\n",
            "dtypes: float64(11), object(2)\n",
            "memory usage: 3.9+ MB\n"
          ],
          "name": "stdout"
        }
      ]
    },
    {
      "cell_type": "markdown",
      "metadata": {
        "id": "RCyJYaIjtQpC",
        "colab_type": "text"
      },
      "source": [
        "Descripción de los datos numéricos de la base de datos"
      ]
    },
    {
      "cell_type": "code",
      "metadata": {
        "_cell_guid": "a484827c-4ca4-42ce-895a-8228f4b86c31",
        "_uuid": "8d03c75ae5115ebc97a26ac95408240177c7fc3f",
        "colab_type": "code",
        "id": "LpocRdWuzu_d",
        "outputId": "7a74df0a-41e1-44b1-cf81-dbc56d54586f",
        "colab": {
          "base_uri": "https://localhost:8080/",
          "height": 284
        }
      },
      "source": [
        "dataTable.describe()"
      ],
      "execution_count": 181,
      "outputs": [
        {
          "output_type": "execute_result",
          "data": {
            "text/html": [
              "<div>\n",
              "<style scoped>\n",
              "    .dataframe tbody tr th:only-of-type {\n",
              "        vertical-align: middle;\n",
              "    }\n",
              "\n",
              "    .dataframe tbody tr th {\n",
              "        vertical-align: top;\n",
              "    }\n",
              "\n",
              "    .dataframe thead th {\n",
              "        text-align: right;\n",
              "    }\n",
              "</style>\n",
              "<table border=\"1\" class=\"dataframe\">\n",
              "  <thead>\n",
              "    <tr style=\"text-align: right;\">\n",
              "      <th></th>\n",
              "      <th>KPH</th>\n",
              "      <th>DIAG1</th>\n",
              "      <th>DIAG2</th>\n",
              "      <th>AXI2</th>\n",
              "      <th>DIAG3</th>\n",
              "      <th>DIAG4</th>\n",
              "      <th>DIAG1_1X</th>\n",
              "      <th>DIAG2_1X</th>\n",
              "      <th>AXI2_1X</th>\n",
              "      <th>DIAG3_1X</th>\n",
              "      <th>DIAG4_1X</th>\n",
              "    </tr>\n",
              "  </thead>\n",
              "  <tbody>\n",
              "    <tr>\n",
              "      <th>count</th>\n",
              "      <td>39666.000000</td>\n",
              "      <td>39666.000000</td>\n",
              "      <td>39666.000000</td>\n",
              "      <td>39458.000000</td>\n",
              "      <td>39666.000000</td>\n",
              "      <td>39666.000000</td>\n",
              "      <td>39666.000000</td>\n",
              "      <td>39666.000000</td>\n",
              "      <td>39458.000000</td>\n",
              "      <td>39666.000000</td>\n",
              "      <td>39666.000000</td>\n",
              "    </tr>\n",
              "    <tr>\n",
              "      <th>mean</th>\n",
              "      <td>3398.255732</td>\n",
              "      <td>3.896145</td>\n",
              "      <td>4.886199</td>\n",
              "      <td>2.938312</td>\n",
              "      <td>6.308209</td>\n",
              "      <td>6.638470</td>\n",
              "      <td>58.840416</td>\n",
              "      <td>84.622809</td>\n",
              "      <td>40.726980</td>\n",
              "      <td>55.816554</td>\n",
              "      <td>34.034825</td>\n",
              "    </tr>\n",
              "    <tr>\n",
              "      <th>std</th>\n",
              "      <td>827.906876</td>\n",
              "      <td>2.873748</td>\n",
              "      <td>3.792881</td>\n",
              "      <td>2.781790</td>\n",
              "      <td>5.362376</td>\n",
              "      <td>5.943709</td>\n",
              "      <td>146.578368</td>\n",
              "      <td>211.141279</td>\n",
              "      <td>100.237011</td>\n",
              "      <td>138.511763</td>\n",
              "      <td>116.984521</td>\n",
              "    </tr>\n",
              "    <tr>\n",
              "      <th>min</th>\n",
              "      <td>0.000000</td>\n",
              "      <td>0.000000</td>\n",
              "      <td>0.000000</td>\n",
              "      <td>0.000000</td>\n",
              "      <td>0.005000</td>\n",
              "      <td>0.005000</td>\n",
              "      <td>0.000000</td>\n",
              "      <td>0.000000</td>\n",
              "      <td>0.000000</td>\n",
              "      <td>0.000000</td>\n",
              "      <td>0.000000</td>\n",
              "    </tr>\n",
              "    <tr>\n",
              "      <th>25%</th>\n",
              "      <td>3600.000000</td>\n",
              "      <td>1.683250</td>\n",
              "      <td>1.967250</td>\n",
              "      <td>0.925250</td>\n",
              "      <td>3.311000</td>\n",
              "      <td>2.514000</td>\n",
              "      <td>0.000000</td>\n",
              "      <td>0.000000</td>\n",
              "      <td>0.000000</td>\n",
              "      <td>0.000000</td>\n",
              "      <td>0.000000</td>\n",
              "    </tr>\n",
              "    <tr>\n",
              "      <th>50%</th>\n",
              "      <td>3600.000000</td>\n",
              "      <td>3.639500</td>\n",
              "      <td>4.286000</td>\n",
              "      <td>2.581000</td>\n",
              "      <td>5.298000</td>\n",
              "      <td>4.732000</td>\n",
              "      <td>1.491833</td>\n",
              "      <td>2.289457</td>\n",
              "      <td>1.276850</td>\n",
              "      <td>1.922508</td>\n",
              "      <td>2.857627</td>\n",
              "    </tr>\n",
              "    <tr>\n",
              "      <th>75%</th>\n",
              "      <td>3600.000000</td>\n",
              "      <td>5.876750</td>\n",
              "      <td>7.183000</td>\n",
              "      <td>4.400000</td>\n",
              "      <td>8.232000</td>\n",
              "      <td>9.320000</td>\n",
              "      <td>5.905795</td>\n",
              "      <td>7.705409</td>\n",
              "      <td>4.895388</td>\n",
              "      <td>7.168042</td>\n",
              "      <td>11.839424</td>\n",
              "    </tr>\n",
              "    <tr>\n",
              "      <th>max</th>\n",
              "      <td>19726.940000</td>\n",
              "      <td>50.800000</td>\n",
              "      <td>48.895000</td>\n",
              "      <td>34.839000</td>\n",
              "      <td>50.800000</td>\n",
              "      <td>50.800000</td>\n",
              "      <td>1062.762235</td>\n",
              "      <td>1380.647495</td>\n",
              "      <td>646.727708</td>\n",
              "      <td>871.164209</td>\n",
              "      <td>1246.692987</td>\n",
              "    </tr>\n",
              "  </tbody>\n",
              "</table>\n",
              "</div>"
            ],
            "text/plain": [
              "                KPH         DIAG1  ...      DIAG3_1X      DIAG4_1X\n",
              "count  39666.000000  39666.000000  ...  39666.000000  39666.000000\n",
              "mean    3398.255732      3.896145  ...     55.816554     34.034825\n",
              "std      827.906876      2.873748  ...    138.511763    116.984521\n",
              "min        0.000000      0.000000  ...      0.000000      0.000000\n",
              "25%     3600.000000      1.683250  ...      0.000000      0.000000\n",
              "50%     3600.000000      3.639500  ...      1.922508      2.857627\n",
              "75%     3600.000000      5.876750  ...      7.168042     11.839424\n",
              "max    19726.940000     50.800000  ...    871.164209   1246.692987\n",
              "\n",
              "[8 rows x 11 columns]"
            ]
          },
          "metadata": {
            "tags": []
          },
          "execution_count": 181
        }
      ]
    },
    {
      "cell_type": "markdown",
      "metadata": {
        "id": "3lPCW5wwtT9c",
        "colab_type": "text"
      },
      "source": [
        "Análisis para la limpieza de datos: \n",
        "Se sabe que la velocidad nominal de la máquina es de 3600 RPM, por eso se analiza cuantos valores son menores o mayores con un 1.3%, es decir 50 RPM por encima y 50 RPM por debajo."
      ]
    },
    {
      "cell_type": "code",
      "metadata": {
        "id": "1IRlJ8b3msvn",
        "colab_type": "code",
        "outputId": "3a0ddd1f-92c6-4e6b-d853-2918b76cfc4f",
        "colab": {
          "base_uri": "https://localhost:8080/",
          "height": 101
        }
      },
      "source": [
        "#velocidadCero = (dataTable[dataTable['KPH'] == 0].count())['TimeStamp']\n",
        "velocidadnominal = (dataTable[dataTable['KPH'] == 3600].count())['TimeStamp']\n",
        "\n",
        "menores = (dataTable[dataTable['KPH'] < 3550].count())['TimeStamp']\n",
        "mayores = (dataTable[dataTable['KPH'] > 3650].count())['TimeStamp']\n",
        "\n",
        "print(' Total de datos: ', len(dataTable['KPH']),'\\n', \n",
        "      'Datos en la velocidad nominal: ', velocidadnominal, '\\n',\n",
        "      #'Total datos en la velocidad nominal: ', round(velocidadnominal/len(dataTable['KPH'])*100),'%', '\\n',\n",
        "      'Datos por debajo de la velocidad nominal: ', menores, '\\n',\n",
        "      'Datos por encima de la velocidad nominal: ', mayores, '\\n',\n",
        "      'Total datos por fuera de la velocidad nominal: ', round((menores+mayores)/len(dataTable['KPH'])*100),'%'\n",
        "      \n",
        "      )"
      ],
      "execution_count": 182,
      "outputs": [
        {
          "output_type": "stream",
          "text": [
            " Total de datos:  39666 \n",
            " Datos en la velocidad nominal:  29454 \n",
            " Datos por debajo de la velocidad nominal:  2303 \n",
            " Datos por encima de la velocidad nominal:  38 \n",
            " Total datos por fuera de la velocidad nominal:  6.0 %\n"
          ],
          "name": "stdout"
        }
      ]
    },
    {
      "cell_type": "markdown",
      "metadata": {
        "id": "2g_QTmgItgqd",
        "colab_type": "text"
      },
      "source": [
        "Se puede observar que el 6% de los datos están por fuera de la velocidad nominal, esto quiere decir que son medidas de la maquina apagada, prendiendo, apagando, o son medidas erroneas. El análisis de las fallas se hace con la máquina en la velocidad nominal, por esto se toma la decición de eliminar estos datos"
      ]
    },
    {
      "cell_type": "code",
      "metadata": {
        "id": "2vkYIxN3ruxt",
        "colab_type": "code",
        "outputId": "2ecdc3c9-0943-4fc9-9b6f-8a453fe13f26",
        "colab": {
          "base_uri": "https://localhost:8080/",
          "height": 168
        }
      },
      "source": [
        "# Se eliminan los datos por fuera de la velocidad nominal de la máquina\n",
        "dataTable.drop( dataTable[ dataTable['KPH'] < 3550 ].index , inplace=True)\n",
        "dataTable.drop( dataTable[ dataTable['KPH'] > 3650 ].index , inplace=True)\n",
        "# Descripción de los datos numéricos de la base de datos\n",
        "dataTable.KPH.describe()"
      ],
      "execution_count": 183,
      "outputs": [
        {
          "output_type": "execute_result",
          "data": {
            "text/plain": [
              "count    37325.000000\n",
              "mean      3600.307669\n",
              "std          6.592165\n",
              "min       3553.200000\n",
              "25%       3600.000000\n",
              "50%       3600.000000\n",
              "75%       3600.000000\n",
              "max       3649.820000\n",
              "Name: KPH, dtype: float64"
            ]
          },
          "metadata": {
            "tags": []
          },
          "execution_count": 183
        }
      ]
    },
    {
      "cell_type": "markdown",
      "metadata": {
        "id": "KSEghNYlt1pC",
        "colab_type": "text"
      },
      "source": [
        "Ver la distribución de los datos de la velocidad angular. Se ve que los datos están muy concentrados en 3600 que es la velocidad nominal de la máquina"
      ]
    },
    {
      "cell_type": "code",
      "metadata": {
        "id": "dseULGjiuTWe",
        "colab_type": "code",
        "outputId": "5d881309-db32-46fc-f14b-dee883ce0723",
        "colab": {
          "base_uri": "https://localhost:8080/",
          "height": 351
        }
      },
      "source": [
        "plt.figure(figsize=(5, 5))\n",
        "sns.distplot(dataTable.KPH)"
      ],
      "execution_count": 184,
      "outputs": [
        {
          "output_type": "execute_result",
          "data": {
            "text/plain": [
              "<matplotlib.axes._subplots.AxesSubplot at 0x7fb561396550>"
            ]
          },
          "metadata": {
            "tags": []
          },
          "execution_count": 184
        },
        {
          "output_type": "display_data",
          "data": {
            "image/png": "[encoded data removed]",
            "text/plain": [
              "<Figure size 360x360 with 1 Axes>"
            ]
          },
          "metadata": {
            "tags": []
          }
        }
      ]
    },
    {
      "cell_type": "markdown",
      "metadata": {
        "id": "4WW1X82xuBEY",
        "colab_type": "text"
      },
      "source": [
        "Se ve que el dataset paso de tener 39666 datos a tener 37325 datos"
      ]
    },
    {
      "cell_type": "code",
      "metadata": {
        "id": "gs_ngEy8x0uz",
        "colab_type": "code",
        "outputId": "2e981b72-8024-4b79-885c-8c39418f127c",
        "colab": {
          "base_uri": "https://localhost:8080/",
          "height": 319
        }
      },
      "source": [
        "dataTable.info()"
      ],
      "execution_count": 185,
      "outputs": [
        {
          "output_type": "stream",
          "text": [
            "<class 'pandas.core.frame.DataFrame'>\n",
            "Int64Index: 37325 entries, 13 to 39665\n",
            "Data columns (total 13 columns):\n",
            "TimeStamp    37325 non-null object\n",
            "KPH          37325 non-null float64\n",
            "DIAG1        37325 non-null float64\n",
            "DIAG2        37325 non-null float64\n",
            "AXI2         37117 non-null float64\n",
            "DIAG3        37325 non-null float64\n",
            "DIAG4        37325 non-null float64\n",
            "DIAG1_1X     37325 non-null float64\n",
            "DIAG2_1X     37325 non-null float64\n",
            "AXI2_1X      37117 non-null float64\n",
            "DIAG3_1X     37325 non-null float64\n",
            "DIAG4_1X     37325 non-null float64\n",
            "Falla        37325 non-null object\n",
            "dtypes: float64(11), object(2)\n",
            "memory usage: 4.0+ MB\n"
          ],
          "name": "stdout"
        }
      ]
    },
    {
      "cell_type": "markdown",
      "metadata": {
        "id": "TitnpXJ0uGx3",
        "colab_type": "text"
      },
      "source": [
        "Ver la distribución las variables diagonales"
      ]
    },
    {
      "cell_type": "code",
      "metadata": {
        "_cell_guid": "42f62c14-5580-4d61-93ae-183544f8aed7",
        "_uuid": "c4fea6ac4146428ee87a210f0bcd3cd6bc635a46",
        "colab_type": "code",
        "id": "GghdNCV5zu_t",
        "outputId": "372c166c-3575-4f24-ff1d-827683372a8d",
        "colab": {
          "base_uri": "https://localhost:8080/",
          "height": 297
        }
      },
      "source": [
        "f, axes = plt.subplots(1, 5, figsize=(19, 4), sharex=True)\n",
        "sns.distplot(dataTable.DIAG1, ax=axes[0])\n",
        "sns.distplot(dataTable.DIAG2, ax=axes[1])\n",
        "sns.distplot(dataTable.AXI2, ax=axes[2])\n",
        "sns.distplot(dataTable.DIAG3, ax=axes[3])\n",
        "sns.distplot(dataTable.DIAG4, ax=axes[4])\n",
        "plt.setp(axes, yticks=[])\n",
        "plt.tight_layout()"
      ],
      "execution_count": 186,
      "outputs": [
        {
          "output_type": "display_data",
          "data": {
            "image/png": "[encoded data removed]",
            "text/plain": [
              "<Figure size 1368x288 with 5 Axes>"
            ]
          },
          "metadata": {
            "tags": []
          }
        }
      ]
    },
    {
      "cell_type": "markdown",
      "metadata": {
        "id": "53twKX19uJ_H",
        "colab_type": "text"
      },
      "source": [
        "El analista de vibraciones determina unos niveles de vibración para cada sensor (deacuerdo con la norma). Esto con el fín de determinar los niveles normales de operación, niveles en condición de alarma, niveles en condición de disparo o datos atípicos.\n",
        "\n",
        "* DIAG1 Alarma = 5 mm/s2, Disparo = 8 mm/s\n",
        "* DIAG2 Alarma = 5 mm/s2, Disparo = 8 mm/s\n",
        "* AXI2 Alarma = 5 mm/s2, Disparo = 8 mm/s\n",
        "* DIAG3 Alarma = 10 mm/s2, Disparo = 18 mm/s\n",
        "* DIAG4 Alarma = 10 mm/s2, Disparo = 18 mm/s\n",
        "\n",
        "Debido a estos valores de vibraciones se pueden determinar un umbral de valores atípicos del sistema\n"
      ]
    },
    {
      "cell_type": "code",
      "metadata": {
        "id": "ja_BokKYyMy8",
        "colab_type": "code",
        "outputId": "461cff5a-53e9-4ab6-c621-12beca2bec99",
        "colab": {
          "base_uri": "https://localhost:8080/",
          "height": 134
        }
      },
      "source": [
        "a = (dataTable[dataTable['DIAG1'] > 20].count())['TimeStamp']\n",
        "b = (dataTable[dataTable['DIAG2'] > 20].count())['TimeStamp']\n",
        "c = (dataTable[dataTable['AXI2'] > 20].count())['TimeStamp']\n",
        "d = (dataTable[dataTable['DIAG3'] > 30].count())['TimeStamp']\n",
        "e = (dataTable[dataTable['DIAG4'] > 30].count())['TimeStamp']\n",
        "\n",
        "print(' Total de datos: ',len(dataTable['DIAG1']),'\\n',\n",
        "      'Datos atípicos DIAG1: ', a,'\\n',\n",
        "      'Datos atípicos DIAG2: ',b,'\\n',\n",
        "      'Datos atípicos AXI2: ',c,'\\n',\n",
        "      'Datos atípicos DIAG3: ',d,'\\n',\n",
        "      'Datos atípicos DIAG4: ',e,'\\n'\n",
        "      )"
      ],
      "execution_count": 187,
      "outputs": [
        {
          "output_type": "stream",
          "text": [
            " Total de datos:  37325 \n",
            " Datos atípicos DIAG1:  9 \n",
            " Datos atípicos DIAG2:  18 \n",
            " Datos atípicos AXI2:  172 \n",
            " Datos atípicos DIAG3:  206 \n",
            " Datos atípicos DIAG4:  197 \n",
            "\n"
          ],
          "name": "stdout"
        }
      ]
    },
    {
      "cell_type": "markdown",
      "metadata": {
        "id": "D9xN05Ceuwo6",
        "colab_type": "text"
      },
      "source": [
        "Se eliminan los datos que son posibles errores"
      ]
    },
    {
      "cell_type": "code",
      "metadata": {
        "id": "dy1-IsRl3zGq",
        "colab_type": "code",
        "outputId": "43f0fcd2-a83d-4244-f77f-283378b2d51e",
        "colab": {
          "base_uri": "https://localhost:8080/",
          "height": 319
        }
      },
      "source": [
        "dataTable.drop( dataTable[dataTable['DIAG1'] > 20].index , inplace=True)\n",
        "dataTable.drop( dataTable[dataTable['DIAG2'] > 20].index , inplace=True)\n",
        "dataTable.drop( dataTable[dataTable['AXI2'] > 20].index , inplace=True)\n",
        "dataTable.drop( dataTable[dataTable['DIAG3'] > 30].index , inplace=True)\n",
        "dataTable.drop( dataTable[dataTable['DIAG4'] > 30].index , inplace=True)\n",
        "# El dataset paso de tener 39627 datos a tener 38766 dator\n",
        "dataTable.info()"
      ],
      "execution_count": 188,
      "outputs": [
        {
          "output_type": "stream",
          "text": [
            "<class 'pandas.core.frame.DataFrame'>\n",
            "Int64Index: 36809 entries, 13 to 39665\n",
            "Data columns (total 13 columns):\n",
            "TimeStamp    36809 non-null object\n",
            "KPH          36809 non-null float64\n",
            "DIAG1        36809 non-null float64\n",
            "DIAG2        36809 non-null float64\n",
            "AXI2         36601 non-null float64\n",
            "DIAG3        36809 non-null float64\n",
            "DIAG4        36809 non-null float64\n",
            "DIAG1_1X     36809 non-null float64\n",
            "DIAG2_1X     36809 non-null float64\n",
            "AXI2_1X      36601 non-null float64\n",
            "DIAG3_1X     36809 non-null float64\n",
            "DIAG4_1X     36809 non-null float64\n",
            "Falla        36809 non-null object\n",
            "dtypes: float64(11), object(2)\n",
            "memory usage: 3.9+ MB\n"
          ],
          "name": "stdout"
        }
      ]
    },
    {
      "cell_type": "markdown",
      "metadata": {
        "id": "LdYPmnauu0bX",
        "colab_type": "text"
      },
      "source": [
        "Se hace el mismo procedimiento para los niveles de la componente 1X. Niveles de vibración:\n",
        "* DIAG1 Alarma = 5 mm/s2, Disparo = 8 mm/s\n",
        "* DIAG2 Alarma = 5 mm/s2, Disparo = 8 mm/s\n",
        "* AXI2 Alarma = 5 mm/s2, Disparo = 8 mm/s\n",
        "* DIAG3 Alarma = 10 mm/s2, Disparo = 18 mm/s\n",
        "* DIAG4 Alarma = 10 mm/s2, Disparo = 18 mm/s"
      ]
    },
    {
      "cell_type": "code",
      "metadata": {
        "id": "zbm6E5Tq5ee5",
        "colab_type": "code",
        "outputId": "f903992d-95fe-489a-d804-f29e152cd95e",
        "colab": {
          "base_uri": "https://localhost:8080/",
          "height": 134
        }
      },
      "source": [
        "# Debido a estos valores de vibraciones se pueden determinar un umbral de valores atípicos del sistema\n",
        "\n",
        "a = (dataTable[dataTable['DIAG1_1X'] > 20].count())['TimeStamp']\n",
        "b = (dataTable[dataTable['DIAG2_1X'] > 20].count())['TimeStamp']\n",
        "c = (dataTable[dataTable['AXI2_1X'] > 20].count())['TimeStamp']\n",
        "d = (dataTable[dataTable['DIAG3_1X'] > 30].count())['TimeStamp']\n",
        "e = (dataTable[dataTable['DIAG4_1X'] > 30].count())['TimeStamp']\n",
        "\n",
        "print(' Total de datos: ',len(dataTable['DIAG1']),'\\n',\n",
        "      'Datos atípicos DIAG1_1X: ', a,'\\n',\n",
        "      'Datos atípicos DIAG2_1X: ',b,'\\n',\n",
        "      'Datos atípicos AXI2_1X: ',c,'\\n',\n",
        "      'Datos atípicos DIAG3_1X: ',d,'\\n',\n",
        "      'Datos atípicos DIAG4_1X: ',e,'\\n'\n",
        "      )"
      ],
      "execution_count": 189,
      "outputs": [
        {
          "output_type": "stream",
          "text": [
            " Total de datos:  36809 \n",
            " Datos atípicos DIAG1_1X:  6063 \n",
            " Datos atípicos DIAG2_1X:  6063 \n",
            " Datos atípicos AXI2_1X:  6063 \n",
            " Datos atípicos DIAG3_1X:  6108 \n",
            " Datos atípicos DIAG4_1X:  4725 \n",
            "\n"
          ],
          "name": "stdout"
        }
      ]
    },
    {
      "cell_type": "markdown",
      "metadata": {
        "id": "vudTW1UfvD1Y",
        "colab_type": "text"
      },
      "source": [
        "Se eliminan los datos que son posibles errores"
      ]
    },
    {
      "cell_type": "code",
      "metadata": {
        "id": "kTyKqNgA53hK",
        "colab_type": "code",
        "outputId": "2737f312-c010-4ca5-8561-5a1598eb5c54",
        "colab": {
          "base_uri": "https://localhost:8080/",
          "height": 319
        }
      },
      "source": [
        "dataTable.drop( dataTable[dataTable['DIAG1_1X'] > 20].index , inplace=True)\n",
        "dataTable.drop( dataTable[dataTable['DIAG2_1X'] > 20].index , inplace=True)\n",
        "dataTable.drop( dataTable[dataTable['AXI2_1X'] > 20].index , inplace=True)\n",
        "dataTable.drop( dataTable[dataTable['DIAG3_1X'] > 30].index , inplace=True)\n",
        "dataTable.drop( dataTable[dataTable['DIAG4_1X'] > 30].index , inplace=True)\n",
        "# El dataset paso de tener 38766 datos a tener 31620 dator\n",
        "dataTable.info()"
      ],
      "execution_count": 190,
      "outputs": [
        {
          "output_type": "stream",
          "text": [
            "<class 'pandas.core.frame.DataFrame'>\n",
            "Int64Index: 29673 entries, 13 to 39665\n",
            "Data columns (total 13 columns):\n",
            "TimeStamp    29673 non-null object\n",
            "KPH          29673 non-null float64\n",
            "DIAG1        29673 non-null float64\n",
            "DIAG2        29673 non-null float64\n",
            "AXI2         29465 non-null float64\n",
            "DIAG3        29673 non-null float64\n",
            "DIAG4        29673 non-null float64\n",
            "DIAG1_1X     29673 non-null float64\n",
            "DIAG2_1X     29673 non-null float64\n",
            "AXI2_1X      29465 non-null float64\n",
            "DIAG3_1X     29673 non-null float64\n",
            "DIAG4_1X     29673 non-null float64\n",
            "Falla        29673 non-null object\n",
            "dtypes: float64(11), object(2)\n",
            "memory usage: 3.2+ MB\n"
          ],
          "name": "stdout"
        }
      ]
    },
    {
      "cell_type": "markdown",
      "metadata": {
        "id": "8hUqzf4wvHUf",
        "colab_type": "text"
      },
      "source": [
        "Se eliminan los datos que son cero. Esto porque hay ausencia de medida y no es útil para el análisis de vibraciones."
      ]
    },
    {
      "cell_type": "code",
      "metadata": {
        "id": "YtxDJNwk6IAY",
        "colab_type": "code",
        "outputId": "7186c91c-8c57-435f-95ef-6b6e86a58801",
        "colab": {
          "base_uri": "https://localhost:8080/",
          "height": 319
        }
      },
      "source": [
        "dataTable.drop( dataTable[dataTable['DIAG1'] == 0].index , inplace=True)\n",
        "dataTable.drop( dataTable[dataTable['DIAG2'] == 0].index , inplace=True)\n",
        "dataTable.drop( dataTable[dataTable['AXI2'] == 0].index , inplace=True)\n",
        "dataTable.drop( dataTable[dataTable['DIAG3'] == 0].index , inplace=True)\n",
        "dataTable.drop( dataTable[dataTable['DIAG4'] == 0].index , inplace=True)\n",
        "dataTable.drop( dataTable[dataTable['DIAG1_1X'] == 0].index , inplace=True)\n",
        "dataTable.drop( dataTable[dataTable['DIAG2_1X'] == 0].index , inplace=True)\n",
        "dataTable.drop( dataTable[dataTable['AXI2_1X'] == 0].index , inplace=True)\n",
        "dataTable.drop( dataTable[dataTable['DIAG3_1X'] == 0].index , inplace=True)\n",
        "dataTable.drop( dataTable[dataTable['DIAG4_1X'] == 0].index , inplace=True)\n",
        "# El dataset paso de tener 31620 datos a tener 19027 dator\n",
        "dataTable.info()"
      ],
      "execution_count": 191,
      "outputs": [
        {
          "output_type": "stream",
          "text": [
            "<class 'pandas.core.frame.DataFrame'>\n",
            "Int64Index: 19027 entries, 102 to 39665\n",
            "Data columns (total 13 columns):\n",
            "TimeStamp    19027 non-null object\n",
            "KPH          19027 non-null float64\n",
            "DIAG1        19027 non-null float64\n",
            "DIAG2        19027 non-null float64\n",
            "AXI2         19027 non-null float64\n",
            "DIAG3        19027 non-null float64\n",
            "DIAG4        19027 non-null float64\n",
            "DIAG1_1X     19027 non-null float64\n",
            "DIAG2_1X     19027 non-null float64\n",
            "AXI2_1X      19027 non-null float64\n",
            "DIAG3_1X     19027 non-null float64\n",
            "DIAG4_1X     19027 non-null float64\n",
            "Falla        19027 non-null object\n",
            "dtypes: float64(11), object(2)\n",
            "memory usage: 2.0+ MB\n"
          ],
          "name": "stdout"
        }
      ]
    },
    {
      "cell_type": "markdown",
      "metadata": {
        "id": "ZJtoM5ThvQhv",
        "colab_type": "text"
      },
      "source": [
        "Ver la distribución de las componenetes 1X de cada sensor"
      ]
    },
    {
      "cell_type": "code",
      "metadata": {
        "id": "8iaVC-oPxVnM",
        "colab_type": "code",
        "outputId": "83b93bbe-a4f6-44ce-d1c7-6e25b2b263ef",
        "colab": {
          "base_uri": "https://localhost:8080/",
          "height": 297
        }
      },
      "source": [
        "f, axes = plt.subplots(1, 5, figsize=(19, 4), sharex=True)\n",
        "sns.distplot(dataTable.DIAG1_1X, ax=axes[0])\n",
        "sns.distplot(dataTable.DIAG2_1X, ax=axes[1])\n",
        "sns.distplot(dataTable.AXI2_1X, ax=axes[2])\n",
        "sns.distplot(dataTable.DIAG3_1X, ax=axes[3])\n",
        "sns.distplot(dataTable.DIAG4_1X, ax=axes[4])\n",
        "plt.setp(axes, yticks=[])\n",
        "plt.tight_layout()"
      ],
      "execution_count": 192,
      "outputs": [
        {
          "output_type": "display_data",
          "data": {
            "image/png": "[encoded data removed]",
            "text/plain": [
              "<Figure size 1368x288 with 5 Axes>"
            ]
          },
          "metadata": {
            "tags": []
          }
        }
      ]
    },
    {
      "cell_type": "markdown",
      "metadata": {
        "id": "M5-PCgFMvT1p",
        "colab_type": "text"
      },
      "source": [
        "Ahora se hace el análisis de las fallas que se presentaron en la máquina. Cabe anotar que en diferentes momentos la máquina no presenta falla, entonces la condición 'OK' representa que el activo está en buenas condiciones."
      ]
    },
    {
      "cell_type": "code",
      "metadata": {
        "_cell_guid": "6516214b-7dab-4c4b-9abe-dd53db689a79",
        "_uuid": "791b50d069b7a06e57095974f5c9c0e0d0c9b55d",
        "colab_type": "code",
        "id": "YFsK2-BhzvAO",
        "outputId": "571a9766-27f1-49a1-ee9a-95a2507d3db9",
        "colab": {
          "base_uri": "https://localhost:8080/",
          "height": 168
        }
      },
      "source": [
        "# Suma del las fallas\n",
        "dataTable.Falla.value_counts()"
      ],
      "execution_count": 193,
      "outputs": [
        {
          "output_type": "execute_result",
          "data": {
            "text/plain": [
              "OK                 10154\n",
              "SoltEst_BM          3463\n",
              "SoltEst_BChumP4     3277\n",
              "SoltEst_BChumP3     1234\n",
              "Desb_Molino          704\n",
              "Desal_Acople          84\n",
              "HolgEjeAg_ChuP3       66\n",
              "HolgEjeAg_ChuP4       45\n",
              "Name: Falla, dtype: int64"
            ]
          },
          "metadata": {
            "tags": []
          },
          "execution_count": 193
        }
      ]
    },
    {
      "cell_type": "markdown",
      "metadata": {
        "id": "3aZ9brtpvbnO",
        "colab_type": "text"
      },
      "source": [
        "Se grafica el número de falas del sistema."
      ]
    },
    {
      "cell_type": "code",
      "metadata": {
        "id": "niUwVKcM_Qxh",
        "colab_type": "code",
        "outputId": "2e4e184b-bb83-475e-da52-ed8b397f4906",
        "colab": {
          "base_uri": "https://localhost:8080/",
          "height": 406
        }
      },
      "source": [
        "# Agrupar los compradores por falla\n",
        "plt.figure(figsize=(16, 6))\n",
        "sns.countplot(dataTable['Falla'])"
      ],
      "execution_count": 194,
      "outputs": [
        {
          "output_type": "execute_result",
          "data": {
            "text/plain": [
              "<matplotlib.axes._subplots.AxesSubplot at 0x7fb557d490f0>"
            ]
          },
          "metadata": {
            "tags": []
          },
          "execution_count": 194
        },
        {
          "output_type": "display_data",
          "data": {
            "image/png": "[encoded data removed]",
            "text/plain": [
              "<Figure size 1152x432 with 1 Axes>"
            ]
          },
          "metadata": {
            "tags": []
          }
        }
      ]
    },
    {
      "cell_type": "markdown",
      "metadata": {
        "id": "uggDiQpyv1wQ",
        "colab_type": "text"
      },
      "source": [
        "Se mapean las variables categóricas a numéricas. Esto para poder ingresar los datos a un algoritmo de Aprendizaje de Máquinas y poder generar un modelo de clasificación."
      ]
    },
    {
      "cell_type": "code",
      "metadata": {
        "id": "qngFwi6oCDr5",
        "colab_type": "code",
        "outputId": "23e3683d-748d-4778-9525-93030dc96c72",
        "colab": {
          "base_uri": "https://localhost:8080/",
          "height": 195
        }
      },
      "source": [
        "label = dataTable['Falla']\n",
        "dataTable['objetivo'] = dataTable['Falla'].map({'OK':0 , 'SoltEst_BM':1 , 'SoltEst_BChumP4':2 , 'SoltEst_BChumP3': 3,\n",
        "                                                'Desb_Molino': 4, 'Desal_Acople': 5, 'HolgEjeAg_ChuP3': 6,\n",
        "                                                'HolgEjeAg_ChuP4': 7\n",
        "                                               })\n",
        "dataTable.drop('Falla', axis=1,inplace = True)\n",
        "dataTable.tail()"
      ],
      "execution_count": 195,
      "outputs": [
        {
          "output_type": "execute_result",
          "data": {
            "text/html": [
              "<div>\n",
              "<style scoped>\n",
              "    .dataframe tbody tr th:only-of-type {\n",
              "        vertical-align: middle;\n",
              "    }\n",
              "\n",
              "    .dataframe tbody tr th {\n",
              "        vertical-align: top;\n",
              "    }\n",
              "\n",
              "    .dataframe thead th {\n",
              "        text-align: right;\n",
              "    }\n",
              "</style>\n",
              "<table border=\"1\" class=\"dataframe\">\n",
              "  <thead>\n",
              "    <tr style=\"text-align: right;\">\n",
              "      <th></th>\n",
              "      <th>TimeStamp</th>\n",
              "      <th>KPH</th>\n",
              "      <th>DIAG1</th>\n",
              "      <th>DIAG2</th>\n",
              "      <th>AXI2</th>\n",
              "      <th>DIAG3</th>\n",
              "      <th>DIAG4</th>\n",
              "      <th>DIAG1_1X</th>\n",
              "      <th>DIAG2_1X</th>\n",
              "      <th>AXI2_1X</th>\n",
              "      <th>DIAG3_1X</th>\n",
              "      <th>DIAG4_1X</th>\n",
              "      <th>objetivo</th>\n",
              "    </tr>\n",
              "  </thead>\n",
              "  <tbody>\n",
              "    <tr>\n",
              "      <th>39661</th>\n",
              "      <td>11/03/2020 12:21</td>\n",
              "      <td>3643.08</td>\n",
              "      <td>2.308</td>\n",
              "      <td>2.345</td>\n",
              "      <td>1.412</td>\n",
              "      <td>3.494</td>\n",
              "      <td>3.056</td>\n",
              "      <td>2.108706</td>\n",
              "      <td>2.140130</td>\n",
              "      <td>1.075351</td>\n",
              "      <td>3.295711</td>\n",
              "      <td>2.702272</td>\n",
              "      <td>0</td>\n",
              "    </tr>\n",
              "    <tr>\n",
              "      <th>39662</th>\n",
              "      <td>11/03/2020 12:31</td>\n",
              "      <td>3641.33</td>\n",
              "      <td>2.305</td>\n",
              "      <td>2.332</td>\n",
              "      <td>1.461</td>\n",
              "      <td>3.525</td>\n",
              "      <td>3.156</td>\n",
              "      <td>2.092637</td>\n",
              "      <td>2.061598</td>\n",
              "      <td>1.128532</td>\n",
              "      <td>3.357684</td>\n",
              "      <td>2.834543</td>\n",
              "      <td>0</td>\n",
              "    </tr>\n",
              "    <tr>\n",
              "      <th>39663</th>\n",
              "      <td>11/03/2020 12:41</td>\n",
              "      <td>3641.74</td>\n",
              "      <td>2.427</td>\n",
              "      <td>2.538</td>\n",
              "      <td>1.495</td>\n",
              "      <td>3.549</td>\n",
              "      <td>3.080</td>\n",
              "      <td>2.155926</td>\n",
              "      <td>2.230390</td>\n",
              "      <td>1.116503</td>\n",
              "      <td>3.355398</td>\n",
              "      <td>2.726889</td>\n",
              "      <td>0</td>\n",
              "    </tr>\n",
              "    <tr>\n",
              "      <th>39664</th>\n",
              "      <td>11/03/2020 12:51</td>\n",
              "      <td>3614.59</td>\n",
              "      <td>5.088</td>\n",
              "      <td>5.642</td>\n",
              "      <td>2.612</td>\n",
              "      <td>4.898</td>\n",
              "      <td>4.740</td>\n",
              "      <td>4.957460</td>\n",
              "      <td>5.557554</td>\n",
              "      <td>2.365976</td>\n",
              "      <td>4.018572</td>\n",
              "      <td>4.201773</td>\n",
              "      <td>0</td>\n",
              "    </tr>\n",
              "    <tr>\n",
              "      <th>39665</th>\n",
              "      <td>11/03/2020 13:01</td>\n",
              "      <td>3641.33</td>\n",
              "      <td>2.187</td>\n",
              "      <td>2.178</td>\n",
              "      <td>1.318</td>\n",
              "      <td>3.458</td>\n",
              "      <td>3.010</td>\n",
              "      <td>2.103377</td>\n",
              "      <td>1.914562</td>\n",
              "      <td>1.055041</td>\n",
              "      <td>3.212428</td>\n",
              "      <td>2.666135</td>\n",
              "      <td>0</td>\n",
              "    </tr>\n",
              "  </tbody>\n",
              "</table>\n",
              "</div>"
            ],
            "text/plain": [
              "              TimeStamp      KPH  DIAG1  ...  DIAG3_1X  DIAG4_1X  objetivo\n",
              "39661  11/03/2020 12:21  3643.08  2.308  ...  3.295711  2.702272         0\n",
              "39662  11/03/2020 12:31  3641.33  2.305  ...  3.357684  2.834543         0\n",
              "39663  11/03/2020 12:41  3641.74  2.427  ...  3.355398  2.726889         0\n",
              "39664  11/03/2020 12:51  3614.59  5.088  ...  4.018572  4.201773         0\n",
              "39665  11/03/2020 13:01  3641.33  2.187  ...  3.212428  2.666135         0\n",
              "\n",
              "[5 rows x 13 columns]"
            ]
          },
          "metadata": {
            "tags": []
          },
          "execution_count": 195
        }
      ]
    },
    {
      "cell_type": "markdown",
      "metadata": {
        "id": "27fzOytdwAqA",
        "colab_type": "text"
      },
      "source": [
        "Se elimina la estampa de tiempo y velocidad Angular"
      ]
    },
    {
      "cell_type": "code",
      "metadata": {
        "id": "aH1vq5HuEMAn",
        "colab_type": "code",
        "outputId": "29b96d6c-d31a-460a-d24b-bd5301dcd913",
        "colab": {
          "base_uri": "https://localhost:8080/",
          "height": 195
        }
      },
      "source": [
        "dataTable.drop('TimeStamp', axis=1,inplace = True)\n",
        "dataTable.drop('KPH', axis=1,inplace = True)\n",
        "dataTable.tail()"
      ],
      "execution_count": 196,
      "outputs": [
        {
          "output_type": "execute_result",
          "data": {
            "text/html": [
              "<div>\n",
              "<style scoped>\n",
              "    .dataframe tbody tr th:only-of-type {\n",
              "        vertical-align: middle;\n",
              "    }\n",
              "\n",
              "    .dataframe tbody tr th {\n",
              "        vertical-align: top;\n",
              "    }\n",
              "\n",
              "    .dataframe thead th {\n",
              "        text-align: right;\n",
              "    }\n",
              "</style>\n",
              "<table border=\"1\" class=\"dataframe\">\n",
              "  <thead>\n",
              "    <tr style=\"text-align: right;\">\n",
              "      <th></th>\n",
              "      <th>DIAG1</th>\n",
              "      <th>DIAG2</th>\n",
              "      <th>AXI2</th>\n",
              "      <th>DIAG3</th>\n",
              "      <th>DIAG4</th>\n",
              "      <th>DIAG1_1X</th>\n",
              "      <th>DIAG2_1X</th>\n",
              "      <th>AXI2_1X</th>\n",
              "      <th>DIAG3_1X</th>\n",
              "      <th>DIAG4_1X</th>\n",
              "      <th>objetivo</th>\n",
              "    </tr>\n",
              "  </thead>\n",
              "  <tbody>\n",
              "    <tr>\n",
              "      <th>39661</th>\n",
              "      <td>2.308</td>\n",
              "      <td>2.345</td>\n",
              "      <td>1.412</td>\n",
              "      <td>3.494</td>\n",
              "      <td>3.056</td>\n",
              "      <td>2.108706</td>\n",
              "      <td>2.140130</td>\n",
              "      <td>1.075351</td>\n",
              "      <td>3.295711</td>\n",
              "      <td>2.702272</td>\n",
              "      <td>0</td>\n",
              "    </tr>\n",
              "    <tr>\n",
              "      <th>39662</th>\n",
              "      <td>2.305</td>\n",
              "      <td>2.332</td>\n",
              "      <td>1.461</td>\n",
              "      <td>3.525</td>\n",
              "      <td>3.156</td>\n",
              "      <td>2.092637</td>\n",
              "      <td>2.061598</td>\n",
              "      <td>1.128532</td>\n",
              "      <td>3.357684</td>\n",
              "      <td>2.834543</td>\n",
              "      <td>0</td>\n",
              "    </tr>\n",
              "    <tr>\n",
              "      <th>39663</th>\n",
              "      <td>2.427</td>\n",
              "      <td>2.538</td>\n",
              "      <td>1.495</td>\n",
              "      <td>3.549</td>\n",
              "      <td>3.080</td>\n",
              "      <td>2.155926</td>\n",
              "      <td>2.230390</td>\n",
              "      <td>1.116503</td>\n",
              "      <td>3.355398</td>\n",
              "      <td>2.726889</td>\n",
              "      <td>0</td>\n",
              "    </tr>\n",
              "    <tr>\n",
              "      <th>39664</th>\n",
              "      <td>5.088</td>\n",
              "      <td>5.642</td>\n",
              "      <td>2.612</td>\n",
              "      <td>4.898</td>\n",
              "      <td>4.740</td>\n",
              "      <td>4.957460</td>\n",
              "      <td>5.557554</td>\n",
              "      <td>2.365976</td>\n",
              "      <td>4.018572</td>\n",
              "      <td>4.201773</td>\n",
              "      <td>0</td>\n",
              "    </tr>\n",
              "    <tr>\n",
              "      <th>39665</th>\n",
              "      <td>2.187</td>\n",
              "      <td>2.178</td>\n",
              "      <td>1.318</td>\n",
              "      <td>3.458</td>\n",
              "      <td>3.010</td>\n",
              "      <td>2.103377</td>\n",
              "      <td>1.914562</td>\n",
              "      <td>1.055041</td>\n",
              "      <td>3.212428</td>\n",
              "      <td>2.666135</td>\n",
              "      <td>0</td>\n",
              "    </tr>\n",
              "  </tbody>\n",
              "</table>\n",
              "</div>"
            ],
            "text/plain": [
              "       DIAG1  DIAG2   AXI2  DIAG3  ...   AXI2_1X  DIAG3_1X  DIAG4_1X  objetivo\n",
              "39661  2.308  2.345  1.412  3.494  ...  1.075351  3.295711  2.702272         0\n",
              "39662  2.305  2.332  1.461  3.525  ...  1.128532  3.357684  2.834543         0\n",
              "39663  2.427  2.538  1.495  3.549  ...  1.116503  3.355398  2.726889         0\n",
              "39664  5.088  5.642  2.612  4.898  ...  2.365976  4.018572  4.201773         0\n",
              "39665  2.187  2.178  1.318  3.458  ...  1.055041  3.212428  2.666135         0\n",
              "\n",
              "[5 rows x 11 columns]"
            ]
          },
          "metadata": {
            "tags": []
          },
          "execution_count": 196
        }
      ]
    },
    {
      "cell_type": "code",
      "metadata": {
        "id": "zI7PHWAZCxrV",
        "colab_type": "code",
        "outputId": "a50571de-4807-4508-c9b9-80858ca94a98",
        "colab": {
          "base_uri": "https://localhost:8080/",
          "height": 168
        }
      },
      "source": [
        "# Suma del resultado de los objetivos (numéricos) \n",
        "dataTable.objetivo.value_counts()"
      ],
      "execution_count": 197,
      "outputs": [
        {
          "output_type": "execute_result",
          "data": {
            "text/plain": [
              "0    10154\n",
              "1     3463\n",
              "2     3277\n",
              "3     1234\n",
              "4      704\n",
              "5       84\n",
              "6       66\n",
              "7       45\n",
              "Name: objetivo, dtype: int64"
            ]
          },
          "metadata": {
            "tags": []
          },
          "execution_count": 197
        }
      ]
    },
    {
      "cell_type": "markdown",
      "metadata": {
        "id": "cgDFFYjKqPxJ",
        "colab_type": "text"
      },
      "source": [
        "## MODELOS DE CLASIFICACIÓN"
      ]
    },
    {
      "cell_type": "markdown",
      "metadata": {
        "id": "vyc8W4AC5LvW",
        "colab_type": "text"
      },
      "source": [
        "**ÁRBOL DE DECISIÓN**"
      ]
    },
    {
      "cell_type": "markdown",
      "metadata": {
        "id": "lG8jF2uBwFsZ",
        "colab_type": "text"
      },
      "source": [
        "Se divide el dataSet en la componente X o características y la componente Y que es el objetivo de clasificación."
      ]
    },
    {
      "cell_type": "code",
      "metadata": {
        "id": "53ihUjFTDb_g",
        "colab_type": "code",
        "outputId": "d758f4a5-572a-4409-8552-7f28c23f1659",
        "colab": {
          "base_uri": "https://localhost:8080/",
          "height": 34
        }
      },
      "source": [
        "# Se crean las variables X y Y\n",
        "X = dataTable.drop('objetivo', 1)\n",
        "Y = dataTable.objetivo\n",
        "print(X.shape, Y.shape)"
      ],
      "execution_count": 198,
      "outputs": [
        {
          "output_type": "stream",
          "text": [
            "(19027, 10) (19027,)\n"
          ],
          "name": "stdout"
        }
      ]
    },
    {
      "cell_type": "markdown",
      "metadata": {
        "id": "8Di1ZmJiwS7v",
        "colab_type": "text"
      },
      "source": [
        "Se separa la base de datos entre datos de entrenamiento y datos de pruebas (80% - 20%)"
      ]
    },
    {
      "cell_type": "code",
      "metadata": {
        "_cell_guid": "5675ce89-28f8-409d-9387-ce4641bc4a7b",
        "_uuid": "3b14efa859cd38fce1e118ceae7144d8563dc014",
        "colab_type": "code",
        "id": "6E0njVGKzvBk",
        "colab": {}
      },
      "source": [
        "x_train, x_test, y_train, y_test = train_test_split(X, Y, test_size = 0.2, random_state = 42)"
      ],
      "execution_count": 0,
      "outputs": []
    },
    {
      "cell_type": "markdown",
      "metadata": {
        "id": "uOyE-_FiwWcH",
        "colab_type": "text"
      },
      "source": [
        "Modelo de árbol de decisión profundidad = 2. Se puede observar que el modelo obtuvo una medida de desempeño de 0.8 tanto en el entrenamiento como el la prueba."
      ]
    },
    {
      "cell_type": "code",
      "metadata": {
        "_cell_guid": "7b8c8772-a2ec-4399-807e-73ccc4951dd1",
        "_uuid": "4a48b73d67f4f57349d3dbc75c4d02cfeb1d82f9",
        "colab_type": "code",
        "id": "5QJu_GlTzvBm",
        "outputId": "8e9e192b-4d5d-4890-b011-917a257ad208",
        "scrolled": true,
        "colab": {
          "base_uri": "https://localhost:8080/",
          "height": 50
        }
      },
      "source": [
        "modelo1 = tree.DecisionTreeClassifier(random_state=1, max_depth=2)\n",
        "modelo1.fit(x_train, y_train)\n",
        "modelo1_score_train = modelo1.score(x_train, y_train)\n",
        "print(\"Training score: \",modelo1_score_train)\n",
        "modelo1_score_test = modelo1.score(x_test, y_test)\n",
        "print(\"Testing score: \",modelo1_score_test)"
      ],
      "execution_count": 200,
      "outputs": [
        {
          "output_type": "stream",
          "text": [
            "Training score:  0.8100650417186781\n",
            "Testing score:  0.8092485549132948\n"
          ],
          "name": "stdout"
        }
      ]
    },
    {
      "cell_type": "markdown",
      "metadata": {
        "id": "h6DCzzGrwY6Z",
        "colab_type": "text"
      },
      "source": [
        "Se imprime el árbol"
      ]
    },
    {
      "cell_type": "code",
      "metadata": {
        "colab_type": "code",
        "id": "LcAWcyIqy9tV",
        "outputId": "91c21aa9-8768-43e9-edd8-c6ed04a12905",
        "colab": {
          "base_uri": "https://localhost:8080/",
          "height": 460
        }
      },
      "source": [
        "features_names = X.columns.tolist()\n",
        "classes_names = ['OK', 'SoltEst_BM', 'SoltEst_BChumP4', 'SoltEst_BChumP3', 'Desb_Molino', 'Desal_Acople']\n",
        "\n",
        "# Configurar el tamaño de la gráfica\n",
        "rcParams['figure.figsize'] = 10,10\n",
        "\n",
        "Arbol = tree.export_graphviz(modelo1, out_file=None, \n",
        "                      feature_names=features_names,  \n",
        "                      class_names=classes_names,  \n",
        "                      filled=True, rounded=True,  \n",
        "                      special_characters=True)  \n",
        "graph = graphviz.Source(Arbol)  \n",
        "graph"
      ],
      "execution_count": 201,
      "outputs": [
        {
          "output_type": "execute_result",
          "data": {
            "text/plain": [
              "<graphviz.files.Source at 0x7fb557f849e8>"
            ],
            "image/svg+xml": "<?xml version=\"1.0\" encoding=\"UTF-8\" standalone=\"no\"?>\n<!DOCTYPE svg PUBLIC \"-//W3C//DTD SVG 1.1//EN\"\n \"http://www.w3.org/Graphics/SVG/1.1/DTD/svg11.dtd\">\n<!-- Generated by graphviz version 2.40.1 (20161225.0304)\n -->\n<!-- Title: Tree Pages: 1 -->\n<svg width=\"1152pt\" height=\"314pt\"\n viewBox=\"0.00 0.00 1151.50 314.00\" xmlns=\"http://www.w3.org/2000/svg\" xmlns:xlink=\"http://www.w3.org/1999/xlink\">\n<g id=\"graph0\" class=\"graph\" transform=\"scale(1 1) rotate(0) translate(4 310)\">\n<title>Tree</title>\n<polygon fill=\"#ffffff\" stroke=\"transparent\" points=\"-4,4 -4,-310 1147.5,-310 1147.5,4 -4,4\"/>\n<!-- 0 -->\n<g id=\"node1\" class=\"node\">\n<title>0</title>\n<path fill=\"#f4c9a9\" stroke=\"#000000\" d=\"M750,-306C750,-306 448,-306 448,-306 442,-306 436,-300 436,-294 436,-294 436,-235 436,-235 436,-229 442,-223 448,-223 448,-223 750,-223 750,-223 756,-223 762,-229 762,-235 762,-235 762,-294 762,-294 762,-300 756,-306 750,-306\"/>\n<text text-anchor=\"start\" x=\"538\" y=\"-290.8\" font-family=\"Helvetica,sans-Serif\" font-size=\"14.00\" fill=\"#000000\">DIAG4_1X ≤ 9.488</text>\n<text text-anchor=\"start\" x=\"561\" y=\"-275.8\" font-family=\"Helvetica,sans-Serif\" font-size=\"14.00\" fill=\"#000000\">gini = 0.646</text>\n<text text-anchor=\"start\" x=\"543\" y=\"-260.8\" font-family=\"Helvetica,sans-Serif\" font-size=\"14.00\" fill=\"#000000\">samples = 15221</text>\n<text text-anchor=\"start\" x=\"444\" y=\"-245.8\" font-family=\"Helvetica,sans-Serif\" font-size=\"14.00\" fill=\"#000000\">value = [8139, 2746, 2642, 967, 566, 71, 52, 38]</text>\n<text text-anchor=\"start\" x=\"563.5\" y=\"-230.8\" font-family=\"Helvetica,sans-Serif\" font-size=\"14.00\" fill=\"#000000\">class = OK</text>\n</g>\n<!-- 1 -->\n<g id=\"node2\" class=\"node\">\n<title>1</title>\n<path fill=\"#f0b489\" stroke=\"#000000\" d=\"M584.5,-187C584.5,-187 291.5,-187 291.5,-187 285.5,-187 279.5,-181 279.5,-175 279.5,-175 279.5,-116 279.5,-116 279.5,-110 285.5,-104 291.5,-104 291.5,-104 584.5,-104 584.5,-104 590.5,-104 596.5,-110 596.5,-116 596.5,-116 596.5,-175 596.5,-175 596.5,-181 590.5,-187 584.5,-187\"/>\n<text text-anchor=\"start\" x=\"377\" y=\"-171.8\" font-family=\"Helvetica,sans-Serif\" font-size=\"14.00\" fill=\"#000000\">DIAG2_1X ≤ 6.414</text>\n<text text-anchor=\"start\" x=\"408.5\" y=\"-156.8\" font-family=\"Helvetica,sans-Serif\" font-size=\"14.00\" fill=\"#000000\">gini = 0.5</text>\n<text text-anchor=\"start\" x=\"382\" y=\"-141.8\" font-family=\"Helvetica,sans-Serif\" font-size=\"14.00\" fill=\"#000000\">samples = 11804</text>\n<text text-anchor=\"start\" x=\"287.5\" y=\"-126.8\" font-family=\"Helvetica,sans-Serif\" font-size=\"14.00\" fill=\"#000000\">value = [7958, 2326, 153, 931, 309, 54, 41, 32]</text>\n<text text-anchor=\"start\" x=\"402.5\" y=\"-111.8\" font-family=\"Helvetica,sans-Serif\" font-size=\"14.00\" fill=\"#000000\">class = OK</text>\n</g>\n<!-- 0&#45;&gt;1 -->\n<g id=\"edge1\" class=\"edge\">\n<title>0&#45;&gt;1</title>\n<path fill=\"none\" stroke=\"#000000\" d=\"M542.69,-222.8796C529.6988,-213.2774 515.781,-202.9903 502.4723,-193.1534\"/>\n<polygon fill=\"#000000\" stroke=\"#000000\" points=\"504.4004,-190.2263 494.2782,-187.0969 500.2396,-195.8555 504.4004,-190.2263\"/>\n<text text-anchor=\"middle\" x=\"497.9867\" y=\"-208.1203\" font-family=\"Helvetica,sans-Serif\" font-size=\"14.00\" fill=\"#000000\">True</text>\n</g>\n<!-- 4 -->\n<g id=\"node5\" class=\"node\">\n<title>4</title>\n<path fill=\"#80ed76\" stroke=\"#000000\" d=\"M895.5,-187C895.5,-187 626.5,-187 626.5,-187 620.5,-187 614.5,-181 614.5,-175 614.5,-175 614.5,-116 614.5,-116 614.5,-110 620.5,-104 626.5,-104 626.5,-104 895.5,-104 895.5,-104 901.5,-104 907.5,-110 907.5,-116 907.5,-116 907.5,-175 907.5,-175 907.5,-181 901.5,-187 895.5,-187\"/>\n<text text-anchor=\"start\" x=\"700\" y=\"-171.8\" font-family=\"Helvetica,sans-Serif\" font-size=\"14.00\" fill=\"#000000\">DIAG1_1X ≤ 6.442</text>\n<text text-anchor=\"start\" x=\"723\" y=\"-156.8\" font-family=\"Helvetica,sans-Serif\" font-size=\"14.00\" fill=\"#000000\">gini = 0.446</text>\n<text text-anchor=\"start\" x=\"709\" y=\"-141.8\" font-family=\"Helvetica,sans-Serif\" font-size=\"14.00\" fill=\"#000000\">samples = 3417</text>\n<text text-anchor=\"start\" x=\"622.5\" y=\"-126.8\" font-family=\"Helvetica,sans-Serif\" font-size=\"14.00\" fill=\"#000000\">value = [181, 420, 2489, 36, 257, 17, 11, 6]</text>\n<text text-anchor=\"start\" x=\"675.5\" y=\"-111.8\" font-family=\"Helvetica,sans-Serif\" font-size=\"14.00\" fill=\"#000000\">class = SoltEst_BChumP4</text>\n</g>\n<!-- 0&#45;&gt;4 -->\n<g id=\"edge4\" class=\"edge\">\n<title>0&#45;&gt;4</title>\n<path fill=\"none\" stroke=\"#000000\" d=\"M655.6597,-222.8796C668.7316,-213.2774 682.7359,-202.9903 696.1273,-193.1534\"/>\n<polygon fill=\"#000000\" stroke=\"#000000\" points=\"698.385,-195.8378 704.3723,-187.0969 694.2409,-190.1963 698.385,-195.8378\"/>\n<text text-anchor=\"middle\" x=\"700.5907\" y=\"-208.1093\" font-family=\"Helvetica,sans-Serif\" font-size=\"14.00\" fill=\"#000000\">False</text>\n</g>\n<!-- 2 -->\n<g id=\"node3\" class=\"node\">\n<title>2</title>\n<path fill=\"#e89253\" stroke=\"#000000\" d=\"M272,-68C272,-68 12,-68 12,-68 6,-68 0,-62 0,-56 0,-56 0,-12 0,-12 0,-6 6,0 12,0 12,0 272,0 272,0 278,0 284,-6 284,-12 284,-12 284,-56 284,-56 284,-62 278,-68 272,-68\"/>\n<text text-anchor=\"start\" x=\"108.5\" y=\"-52.8\" font-family=\"Helvetica,sans-Serif\" font-size=\"14.00\" fill=\"#000000\">gini = 0.22</text>\n<text text-anchor=\"start\" x=\"90\" y=\"-37.8\" font-family=\"Helvetica,sans-Serif\" font-size=\"14.00\" fill=\"#000000\">samples = 8266</text>\n<text text-anchor=\"start\" x=\"8\" y=\"-22.8\" font-family=\"Helvetica,sans-Serif\" font-size=\"14.00\" fill=\"#000000\">value = [7265, 55, 126, 711, 40, 0, 37, 32]</text>\n<text text-anchor=\"start\" x=\"106.5\" y=\"-7.8\" font-family=\"Helvetica,sans-Serif\" font-size=\"14.00\" fill=\"#000000\">class = OK</text>\n</g>\n<!-- 1&#45;&gt;2 -->\n<g id=\"edge2\" class=\"edge\">\n<title>1&#45;&gt;2</title>\n<path fill=\"none\" stroke=\"#000000\" d=\"M327.7805,-103.9815C299.6972,-93.4028 269.6688,-82.0914 242.1208,-71.7144\"/>\n<polygon fill=\"#000000\" stroke=\"#000000\" points=\"243.0793,-68.3354 232.4874,-68.0856 240.6117,-74.8861 243.0793,-68.3354\"/>\n</g>\n<!-- 3 -->\n<g id=\"node4\" class=\"node\">\n<title>3</title>\n<path fill=\"#e0f191\" stroke=\"#000000\" d=\"M574,-68C574,-68 314,-68 314,-68 308,-68 302,-62 302,-56 302,-56 302,-12 302,-12 302,-6 308,0 314,0 314,0 574,0 574,0 580,0 586,-6 586,-12 586,-12 586,-56 586,-56 586,-62 580,-68 574,-68\"/>\n<text text-anchor=\"start\" x=\"410.5\" y=\"-52.8\" font-family=\"Helvetica,sans-Serif\" font-size=\"14.00\" fill=\"#000000\">gini = 0.54</text>\n<text text-anchor=\"start\" x=\"392\" y=\"-37.8\" font-family=\"Helvetica,sans-Serif\" font-size=\"14.00\" fill=\"#000000\">samples = 3538</text>\n<text text-anchor=\"start\" x=\"310\" y=\"-22.8\" font-family=\"Helvetica,sans-Serif\" font-size=\"14.00\" fill=\"#000000\">value = [693, 2271, 27, 220, 269, 54, 4, 0]</text>\n<text text-anchor=\"start\" x=\"381\" y=\"-7.8\" font-family=\"Helvetica,sans-Serif\" font-size=\"14.00\" fill=\"#000000\">class = SoltEst_BM</text>\n</g>\n<!-- 1&#45;&gt;3 -->\n<g id=\"edge3\" class=\"edge\">\n<title>1&#45;&gt;3</title>\n<path fill=\"none\" stroke=\"#000000\" d=\"M440.2342,-103.9815C440.6842,-95.618 441.1589,-86.7965 441.6139,-78.3409\"/>\n<polygon fill=\"#000000\" stroke=\"#000000\" points=\"445.1137,-78.4373 442.1562,-68.2637 438.1238,-78.0611 445.1137,-78.4373\"/>\n</g>\n<!-- 5 -->\n<g id=\"node6\" class=\"node\">\n<title>5</title>\n<path fill=\"#6cea61\" stroke=\"#000000\" d=\"M886,-68C886,-68 626,-68 626,-68 620,-68 614,-62 614,-56 614,-56 614,-12 614,-12 614,-6 620,0 626,0 626,0 886,0 886,0 892,0 898,-6 898,-12 898,-12 898,-56 898,-56 898,-62 892,-68 886,-68\"/>\n<text text-anchor=\"start\" x=\"718\" y=\"-52.8\" font-family=\"Helvetica,sans-Serif\" font-size=\"14.00\" fill=\"#000000\">gini = 0.326</text>\n<text text-anchor=\"start\" x=\"704\" y=\"-37.8\" font-family=\"Helvetica,sans-Serif\" font-size=\"14.00\" fill=\"#000000\">samples = 2993</text>\n<text text-anchor=\"start\" x=\"622\" y=\"-22.8\" font-family=\"Helvetica,sans-Serif\" font-size=\"14.00\" fill=\"#000000\">value = [171, 64, 2438, 36, 250, 17, 11, 6]</text>\n<text text-anchor=\"start\" x=\"670.5\" y=\"-7.8\" font-family=\"Helvetica,sans-Serif\" font-size=\"14.00\" fill=\"#000000\">class = SoltEst_BChumP4</text>\n</g>\n<!-- 4&#45;&gt;5 -->\n<g id=\"edge5\" class=\"edge\">\n<title>4&#45;&gt;5</title>\n<path fill=\"none\" stroke=\"#000000\" d=\"M759.1382,-103.9815C758.7631,-95.618 758.3676,-86.7965 757.9884,-78.3409\"/>\n<polygon fill=\"#000000\" stroke=\"#000000\" points=\"761.481,-78.0968 757.5365,-68.2637 754.4881,-78.4105 761.481,-78.0968\"/>\n</g>\n<!-- 6 -->\n<g id=\"node7\" class=\"node\">\n<title>6</title>\n<path fill=\"#d2ea5d\" stroke=\"#000000\" d=\"M1131.5,-68C1131.5,-68 928.5,-68 928.5,-68 922.5,-68 916.5,-62 916.5,-56 916.5,-56 916.5,-12 916.5,-12 916.5,-6 922.5,0 928.5,0 928.5,0 1131.5,0 1131.5,0 1137.5,0 1143.5,-6 1143.5,-12 1143.5,-12 1143.5,-56 1143.5,-56 1143.5,-62 1137.5,-68 1131.5,-68\"/>\n<text text-anchor=\"start\" x=\"996.5\" y=\"-52.8\" font-family=\"Helvetica,sans-Serif\" font-size=\"14.00\" fill=\"#000000\">gini = 0.28</text>\n<text text-anchor=\"start\" x=\"982\" y=\"-37.8\" font-family=\"Helvetica,sans-Serif\" font-size=\"14.00\" fill=\"#000000\">samples = 424</text>\n<text text-anchor=\"start\" x=\"924.5\" y=\"-22.8\" font-family=\"Helvetica,sans-Serif\" font-size=\"14.00\" fill=\"#000000\">value = [10, 356, 51, 0, 7, 0, 0, 0]</text>\n<text text-anchor=\"start\" x=\"967\" y=\"-7.8\" font-family=\"Helvetica,sans-Serif\" font-size=\"14.00\" fill=\"#000000\">class = SoltEst_BM</text>\n</g>\n<!-- 4&#45;&gt;6 -->\n<g id=\"edge6\" class=\"edge\">\n<title>4&#45;&gt;6</title>\n<path fill=\"none\" stroke=\"#000000\" d=\"M861.1657,-103.9815C886.4645,-93.4952 913.5002,-82.289 938.3554,-71.9865\"/>\n<polygon fill=\"#000000\" stroke=\"#000000\" points=\"939.8688,-75.148 947.7665,-68.0856 937.1884,-68.6815 939.8688,-75.148\"/>\n</g>\n</g>\n</svg>\n"
          },
          "metadata": {
            "tags": []
          },
          "execution_count": 201
        }
      ]
    },
    {
      "cell_type": "markdown",
      "metadata": {
        "id": "D3w4l3MmwxXx",
        "colab_type": "text"
      },
      "source": [
        "Mirar las características más importantes. Se puede observar que DIAG2_1X y DIAG4_1X son las más importantes. "
      ]
    },
    {
      "cell_type": "code",
      "metadata": {
        "_cell_guid": "a40199c8-690b-4361-bdcc-f7dd76946250",
        "_uuid": "6cd0de90f9a563e11e42683f81d82b5c91c6d93c",
        "colab_type": "code",
        "id": "MqKCqTwTzvB9",
        "outputId": "fdebf7f9-be95-4776-bca1-5ff644d9e687",
        "colab": {
          "base_uri": "https://localhost:8080/",
          "height": 185
        }
      },
      "source": [
        "features = X.columns.tolist()\n",
        "fi = modelo1.feature_importances_\n",
        "l = len(features)\n",
        "for i in range(0,len(features)):\n",
        "    print('{:.<20} {:3}'.format(features[i],fi[i]))"
      ],
      "execution_count": 202,
      "outputs": [
        {
          "output_type": "stream",
          "text": [
            "DIAG1............... 0.0\n",
            "DIAG2............... 0.0\n",
            "AXI2................ 0.0\n",
            "DIAG3............... 0.0\n",
            "DIAG4............... 0.0\n",
            "DIAG1_1X............ 0.08575107598822193\n",
            "DIAG2_1X............ 0.43298633621850047\n",
            "AXI2_1X............. 0.0\n",
            "DIAG3_1X............ 0.0\n",
            "DIAG4_1X............ 0.4812625877932777\n"
          ],
          "name": "stdout"
        }
      ]
    },
    {
      "cell_type": "markdown",
      "metadata": {
        "id": "CleI7cI7xB3K",
        "colab_type": "text"
      },
      "source": [
        "Se hace la visialización de una una de las variables más importantes (DIAG4_1X) con respecto al punto de decisión del árbol (9.488)"
      ]
    },
    {
      "cell_type": "code",
      "metadata": {
        "colab_type": "code",
        "id": "1-ZNckBjGTY9",
        "outputId": "f97d22e0-d58b-4c5b-bb32-6a488988504f",
        "colab": {
          "base_uri": "https://localhost:8080/",
          "height": 389
        }
      },
      "source": [
        "# Se hace una copia de una una de las variables más importantes\n",
        "dataTable['DIAG4_1XCopy'] = dataTable['DIAG4_1X'].copy()\n",
        "\n",
        "# De acuerdo al arbol de decisión se hace un mapeo en el valor de decisión\n",
        "# Si la amplitud de DIAG1_1X es menor o igual de 9.488 mm/s2 se marca como - 9.488, sino como + 9.488\n",
        "dataTable['DIAG4_1XCopy'] = dataTable['DIAG4_1XCopy'].map(lambda x: '- 9.488' if x <= 9.488 else '+ 9.488')\n",
        "\n",
        "# Agrupar por respuesta final y duración de la llamada\n",
        "#label = data_amp1X.Falla\n",
        "#label = dataTable.objetivo\n",
        "plt.figure(figsize=(18, 6))\n",
        "sns.countplot(label,hue=dataTable['DIAG4_1XCopy'])\n",
        "\n",
        "# Se elimina la comuna durationTime\n",
        "dataTable.drop(columns = [\"DIAG4_1XCopy\"],inplace=True)"
      ],
      "execution_count": 203,
      "outputs": [
        {
          "output_type": "display_data",
          "data": {
            "image/png": "[encoded data removed]",
            "text/plain": [
              "<Figure size 1296x432 with 1 Axes>"
            ]
          },
          "metadata": {
            "tags": []
          }
        }
      ]
    },
    {
      "cell_type": "markdown",
      "metadata": {
        "id": "bjncj5bqxSNI",
        "colab_type": "text"
      },
      "source": [
        "Se hace la visialización de una una de las variables más importantes (DIAG2_1X) con respecto al punto de decisión del árbol (6.414)"
      ]
    },
    {
      "cell_type": "code",
      "metadata": {
        "id": "btFInWEmLYoH",
        "colab_type": "code",
        "outputId": "8930809e-878a-40cf-a2c1-30340e570fae",
        "colab": {
          "base_uri": "https://localhost:8080/",
          "height": 389
        }
      },
      "source": [
        "# Se hace una copia de una de las 3 variables más importantes\n",
        "dataTable['DIAG2_1XCopy'] = dataTable['DIAG2_1X'].copy()\n",
        "\n",
        "# De acuerdo al arbol de decisión se hace un mapeo en el valor de decisión\n",
        "# Si la amplitud de DIAG1_1X es menor o igual de 9.488 mm/s2 se marca como - 6.414, sino como + 6.414\n",
        "dataTable['DIAG2_1XCopy'] = dataTable['DIAG2_1XCopy'].map(lambda x: '- 6.414' if x <= 9.488 else '+ 6.414')\n",
        "\n",
        "# Agrupar por respuesta final y duración de la llamada\n",
        "#label = dataTable.objetivo\n",
        "plt.figure(figsize=(18, 6))\n",
        "sns.countplot(label,hue=dataTable['DIAG2_1XCopy'])\n",
        "\n",
        "# Se elimina la comuna durationTime\n",
        "dataTable.drop(columns = [\"DIAG2_1XCopy\"],inplace=True)"
      ],
      "execution_count": 204,
      "outputs": [
        {
          "output_type": "display_data",
          "data": {
            "image/png": "[encoded data removed]",
            "text/plain": [
              "<Figure size 1296x432 with 1 Axes>"
            ]
          },
          "metadata": {
            "tags": []
          }
        }
      ]
    },
    {
      "cell_type": "markdown",
      "metadata": {
        "colab_type": "text",
        "id": "u5ry03lcFHQ8"
      },
      "source": [
        "Ahora se crear otro modelo de Árbol de Decisión con profundidad = 5."
      ]
    },
    {
      "cell_type": "code",
      "metadata": {
        "_cell_guid": "14b771bd-b87e-4ac4-b3ec-64da8bbb7b68",
        "_uuid": "c828f56ae83bf3eac076c3642ad26e51f660d643",
        "colab_type": "code",
        "id": "5WGil8u5zvBo",
        "outputId": "61ba4730-73dc-4ded-a4b4-483cbe3c9ffc",
        "colab": {
          "base_uri": "https://localhost:8080/",
          "height": 50
        }
      },
      "source": [
        "# Árbol de decisión profundidad = 5\n",
        "modelo2 = tree.DecisionTreeClassifier(random_state=1, max_depth=5)\n",
        "modelo2.fit(x_train, y_train)\n",
        "modelo2_score_train = modelo2.score(x_train, y_train)\n",
        "print(\"Training score: \",modelo2_score_train)\n",
        "modelo2_score_test = modelo2.score(x_test, y_test)\n",
        "print(\"Testing score: \",modelo2_score_test)"
      ],
      "execution_count": 205,
      "outputs": [
        {
          "output_type": "stream",
          "text": [
            "Training score:  0.8997437750476316\n",
            "Testing score:  0.8896479243300053\n"
          ],
          "name": "stdout"
        }
      ]
    },
    {
      "cell_type": "markdown",
      "metadata": {
        "id": "YMmMUHwqxcVW",
        "colab_type": "text"
      },
      "source": [
        "Se imprimir el modelo del árbol"
      ]
    },
    {
      "cell_type": "code",
      "metadata": {
        "colab_type": "code",
        "id": "BWvGEEjK3FBl",
        "outputId": "2ba21424-d887-499d-bf1e-e355ab1b6bac",
        "colab": {
          "base_uri": "https://localhost:8080/",
          "height": 936
        }
      },
      "source": [
        "# Se imprime el árbol\n",
        "Arbol = tree.export_graphviz(modelo2, out_file=None, \n",
        "                      feature_names=features_names,  \n",
        "                      class_names=classes_names,  \n",
        "                      filled=True, rounded=True,  \n",
        "                      special_characters=True)  \n",
        "graph = graphviz.Source(Arbol) \n",
        "graph "
      ],
      "execution_count": 206,
      "outputs": [
        {
          "output_type": "execute_result",
          "data": {
            "text/plain": [
              "<graphviz.files.Source at 0x7fb55b7eaac8>"
            ],
            "image/svg+xml": "<?xml version=\"1.0\" encoding=\"UTF-8\" standalone=\"no\"?>\n<!DOCTYPE svg PUBLIC \"-//W3C//DTD SVG 1.1//EN\"\n \"http://www.w3.org/Graphics/SVG/1.1/DTD/svg11.dtd\">\n<!-- Generated by graphviz version 2.40.1 (20161225.0304)\n -->\n<!-- Title: Tree Pages: 1 -->\n<svg width=\"7456pt\" height=\"671pt\"\n viewBox=\"0.00 0.00 7456.00 671.00\" xmlns=\"http://www.w3.org/2000/svg\" xmlns:xlink=\"http://www.w3.org/1999/xlink\">\n<g id=\"graph0\" class=\"graph\" transform=\"scale(1 1) rotate(0) translate(4 667)\">\n<title>Tree</title>\n<polygon fill=\"#ffffff\" stroke=\"transparent\" points=\"-4,4 -4,-667 7452,-667 7452,4 -4,4\"/>\n<!-- 0 -->\n<g id=\"node1\" class=\"node\">\n<title>0</title>\n<path fill=\"#f4c9a9\" stroke=\"#000000\" d=\"M4456,-663C4456,-663 4154,-663 4154,-663 4148,-663 4142,-657 4142,-651 4142,-651 4142,-592 4142,-592 4142,-586 4148,-580 4154,-580 4154,-580 4456,-580 4456,-580 4462,-580 4468,-586 4468,-592 4468,-592 4468,-651 4468,-651 4468,-657 4462,-663 4456,-663\"/>\n<text text-anchor=\"start\" x=\"4244\" y=\"-647.8\" font-family=\"Helvetica,sans-Serif\" font-size=\"14.00\" fill=\"#000000\">DIAG4_1X ≤ 9.488</text>\n<text text-anchor=\"start\" x=\"4267\" y=\"-632.8\" font-family=\"Helvetica,sans-Serif\" font-size=\"14.00\" fill=\"#000000\">gini = 0.646</text>\n<text text-anchor=\"start\" x=\"4249\" y=\"-617.8\" font-family=\"Helvetica,sans-Serif\" font-size=\"14.00\" fill=\"#000000\">samples = 15221</text>\n<text text-anchor=\"start\" x=\"4150\" y=\"-602.8\" font-family=\"Helvetica,sans-Serif\" font-size=\"14.00\" fill=\"#000000\">value = [8139, 2746, 2642, 967, 566, 71, 52, 38]</text>\n<text text-anchor=\"start\" x=\"4269.5\" y=\"-587.8\" font-family=\"Helvetica,sans-Serif\" font-size=\"14.00\" fill=\"#000000\">class = OK</text>\n</g>\n<!-- 1 -->\n<g id=\"node2\" class=\"node\">\n<title>1</title>\n<path fill=\"#f0b489\" stroke=\"#000000\" d=\"M3155.5,-544C3155.5,-544 2862.5,-544 2862.5,-544 2856.5,-544 2850.5,-538 2850.5,-532 2850.5,-532 2850.5,-473 2850.5,-473 2850.5,-467 2856.5,-461 2862.5,-461 2862.5,-461 3155.5,-461 3155.5,-461 3161.5,-461 3167.5,-467 3167.5,-473 3167.5,-473 3167.5,-532 3167.5,-532 3167.5,-538 3161.5,-544 3155.5,-544\"/>\n<text text-anchor=\"start\" x=\"2948\" y=\"-528.8\" font-family=\"Helvetica,sans-Serif\" font-size=\"14.00\" fill=\"#000000\">DIAG2_1X ≤ 6.414</text>\n<text text-anchor=\"start\" x=\"2979.5\" y=\"-513.8\" font-family=\"Helvetica,sans-Serif\" font-size=\"14.00\" fill=\"#000000\">gini = 0.5</text>\n<text text-anchor=\"start\" x=\"2953\" y=\"-498.8\" font-family=\"Helvetica,sans-Serif\" font-size=\"14.00\" fill=\"#000000\">samples = 11804</text>\n<text text-anchor=\"start\" x=\"2858.5\" y=\"-483.8\" font-family=\"Helvetica,sans-Serif\" font-size=\"14.00\" fill=\"#000000\">value = [7958, 2326, 153, 931, 309, 54, 41, 32]</text>\n<text text-anchor=\"start\" x=\"2973.5\" y=\"-468.8\" font-family=\"Helvetica,sans-Serif\" font-size=\"14.00\" fill=\"#000000\">class = OK</text>\n</g>\n<!-- 0&#45;&gt;1 -->\n<g id=\"edge1\" class=\"edge\">\n<title>0&#45;&gt;1</title>\n<path fill=\"none\" stroke=\"#000000\" d=\"M4141.8453,-606.519C3894.7996,-583.835 3428.1543,-540.9872 3177.8065,-518\"/>\n<polygon fill=\"#000000\" stroke=\"#000000\" points=\"3177.8,-514.4847 3167.5219,-517.0556 3177.1599,-521.4554 3177.8,-514.4847\"/>\n<text text-anchor=\"middle\" x=\"3183.5091\" y=\"-532.5756\" font-family=\"Helvetica,sans-Serif\" font-size=\"14.00\" fill=\"#000000\">True</text>\n</g>\n<!-- 32 -->\n<g id=\"node33\" class=\"node\">\n<title>32</title>\n<path fill=\"#80ed76\" stroke=\"#000000\" d=\"M4835.5,-544C4835.5,-544 4566.5,-544 4566.5,-544 4560.5,-544 4554.5,-538 4554.5,-532 4554.5,-532 4554.5,-473 4554.5,-473 4554.5,-467 4560.5,-461 4566.5,-461 4566.5,-461 4835.5,-461 4835.5,-461 4841.5,-461 4847.5,-467 4847.5,-473 4847.5,-473 4847.5,-532 4847.5,-532 4847.5,-538 4841.5,-544 4835.5,-544\"/>\n<text text-anchor=\"start\" x=\"4640\" y=\"-528.8\" font-family=\"Helvetica,sans-Serif\" font-size=\"14.00\" fill=\"#000000\">DIAG1_1X ≤ 6.442</text>\n<text text-anchor=\"start\" x=\"4663\" y=\"-513.8\" font-family=\"Helvetica,sans-Serif\" font-size=\"14.00\" fill=\"#000000\">gini = 0.446</text>\n<text text-anchor=\"start\" x=\"4649\" y=\"-498.8\" font-family=\"Helvetica,sans-Serif\" font-size=\"14.00\" fill=\"#000000\">samples = 3417</text>\n<text text-anchor=\"start\" x=\"4562.5\" y=\"-483.8\" font-family=\"Helvetica,sans-Serif\" font-size=\"14.00\" fill=\"#000000\">value = [181, 420, 2489, 36, 257, 17, 11, 6]</text>\n<text text-anchor=\"start\" x=\"4615.5\" y=\"-468.8\" font-family=\"Helvetica,sans-Serif\" font-size=\"14.00\" fill=\"#000000\">class = SoltEst_BChumP4</text>\n</g>\n<!-- 0&#45;&gt;32 -->\n<g id=\"edge32\" class=\"edge\">\n<title>0&#45;&gt;32</title>\n<path fill=\"none\" stroke=\"#000000\" d=\"M4443.2236,-579.9631C4478.7602,-569.2842 4517.1317,-557.7534 4553.1356,-546.934\"/>\n<polygon fill=\"#000000\" stroke=\"#000000\" points=\"4554.1577,-550.2816 4562.7273,-544.0516 4552.1431,-543.5777 4554.1577,-550.2816\"/>\n<text text-anchor=\"middle\" x=\"4550.885\" y=\"-562.3689\" font-family=\"Helvetica,sans-Serif\" font-size=\"14.00\" fill=\"#000000\">False</text>\n</g>\n<!-- 2 -->\n<g id=\"node3\" class=\"node\">\n<title>2</title>\n<path fill=\"#e89253\" stroke=\"#000000\" d=\"M1554,-425C1554,-425 1294,-425 1294,-425 1288,-425 1282,-419 1282,-413 1282,-413 1282,-354 1282,-354 1282,-348 1288,-342 1294,-342 1294,-342 1554,-342 1554,-342 1560,-342 1566,-348 1566,-354 1566,-354 1566,-413 1566,-413 1566,-419 1560,-425 1554,-425\"/>\n<text text-anchor=\"start\" x=\"1371\" y=\"-409.8\" font-family=\"Helvetica,sans-Serif\" font-size=\"14.00\" fill=\"#000000\">DIAG3_1X ≤ 9.2</text>\n<text text-anchor=\"start\" x=\"1390.5\" y=\"-394.8\" font-family=\"Helvetica,sans-Serif\" font-size=\"14.00\" fill=\"#000000\">gini = 0.22</text>\n<text text-anchor=\"start\" x=\"1372\" y=\"-379.8\" font-family=\"Helvetica,sans-Serif\" font-size=\"14.00\" fill=\"#000000\">samples = 8266</text>\n<text text-anchor=\"start\" x=\"1290\" y=\"-364.8\" font-family=\"Helvetica,sans-Serif\" font-size=\"14.00\" fill=\"#000000\">value = [7265, 55, 126, 711, 40, 0, 37, 32]</text>\n<text text-anchor=\"start\" x=\"1388.5\" y=\"-349.8\" font-family=\"Helvetica,sans-Serif\" font-size=\"14.00\" fill=\"#000000\">class = OK</text>\n</g>\n<!-- 1&#45;&gt;2 -->\n<g id=\"edge2\" class=\"edge\">\n<title>1&#45;&gt;2</title>\n<path fill=\"none\" stroke=\"#000000\" d=\"M2850.499,-490.5999C2544.6739,-467.6389 1876.8652,-417.5006 1576.1385,-394.9224\"/>\n<polygon fill=\"#000000\" stroke=\"#000000\" points=\"1576.2686,-391.4224 1566.0346,-394.1638 1575.7445,-398.4027 1576.2686,-391.4224\"/>\n</g>\n<!-- 17 -->\n<g id=\"node18\" class=\"node\">\n<title>17</title>\n<path fill=\"#e0f191\" stroke=\"#000000\" d=\"M3139,-425C3139,-425 2879,-425 2879,-425 2873,-425 2867,-419 2867,-413 2867,-413 2867,-354 2867,-354 2867,-348 2873,-342 2879,-342 2879,-342 3139,-342 3139,-342 3145,-342 3151,-348 3151,-354 3151,-354 3151,-413 3151,-413 3151,-419 3145,-425 3139,-425\"/>\n<text text-anchor=\"start\" x=\"2944\" y=\"-409.8\" font-family=\"Helvetica,sans-Serif\" font-size=\"14.00\" fill=\"#000000\">DIAG3_1X ≤ 10.936</text>\n<text text-anchor=\"start\" x=\"2975.5\" y=\"-394.8\" font-family=\"Helvetica,sans-Serif\" font-size=\"14.00\" fill=\"#000000\">gini = 0.54</text>\n<text text-anchor=\"start\" x=\"2957\" y=\"-379.8\" font-family=\"Helvetica,sans-Serif\" font-size=\"14.00\" fill=\"#000000\">samples = 3538</text>\n<text text-anchor=\"start\" x=\"2875\" y=\"-364.8\" font-family=\"Helvetica,sans-Serif\" font-size=\"14.00\" fill=\"#000000\">value = [693, 2271, 27, 220, 269, 54, 4, 0]</text>\n<text text-anchor=\"start\" x=\"2946\" y=\"-349.8\" font-family=\"Helvetica,sans-Serif\" font-size=\"14.00\" fill=\"#000000\">class = SoltEst_BM</text>\n</g>\n<!-- 1&#45;&gt;17 -->\n<g id=\"edge17\" class=\"edge\">\n<title>1&#45;&gt;17</title>\n<path fill=\"none\" stroke=\"#000000\" d=\"M3009,-460.8796C3009,-452.6838 3009,-443.9891 3009,-435.5013\"/>\n<polygon fill=\"#000000\" stroke=\"#000000\" points=\"3012.5001,-435.298 3009,-425.2981 3005.5001,-435.2981 3012.5001,-435.298\"/>\n</g>\n<!-- 3 -->\n<g id=\"node4\" class=\"node\">\n<title>3</title>\n<path fill=\"#e68641\" stroke=\"#000000\" d=\"M881,-306C881,-306 637,-306 637,-306 631,-306 625,-300 625,-294 625,-294 625,-235 625,-235 625,-229 631,-223 637,-223 637,-223 881,-223 881,-223 887,-223 893,-229 893,-235 893,-235 893,-294 893,-294 893,-300 887,-306 881,-306\"/>\n<text text-anchor=\"start\" x=\"698\" y=\"-290.8\" font-family=\"Helvetica,sans-Serif\" font-size=\"14.00\" fill=\"#000000\">DIAG4_1X ≤ 8.454</text>\n<text text-anchor=\"start\" x=\"721\" y=\"-275.8\" font-family=\"Helvetica,sans-Serif\" font-size=\"14.00\" fill=\"#000000\">gini = 0.078</text>\n<text text-anchor=\"start\" x=\"707\" y=\"-260.8\" font-family=\"Helvetica,sans-Serif\" font-size=\"14.00\" fill=\"#000000\">samples = 7421</text>\n<text text-anchor=\"start\" x=\"633\" y=\"-245.8\" font-family=\"Helvetica,sans-Serif\" font-size=\"14.00\" fill=\"#000000\">value = [7125, 53, 124, 46, 4, 0, 37, 32]</text>\n<text text-anchor=\"start\" x=\"723.5\" y=\"-230.8\" font-family=\"Helvetica,sans-Serif\" font-size=\"14.00\" fill=\"#000000\">class = OK</text>\n</g>\n<!-- 2&#45;&gt;3 -->\n<g id=\"edge3\" class=\"edge\">\n<title>2&#45;&gt;3</title>\n<path fill=\"none\" stroke=\"#000000\" d=\"M1281.7488,-358.0445C1170.083,-338.0622 1015.2719,-310.3592 903.1267,-290.2911\"/>\n<polygon fill=\"#000000\" stroke=\"#000000\" points=\"903.5518,-286.8116 893.0917,-288.4953 902.3187,-293.7022 903.5518,-286.8116\"/>\n</g>\n<!-- 10 -->\n<g id=\"node11\" class=\"node\">\n<title>10</title>\n<path fill=\"#6cecc1\" stroke=\"#000000\" d=\"M1529.5,-306C1529.5,-306 1318.5,-306 1318.5,-306 1312.5,-306 1306.5,-300 1306.5,-294 1306.5,-294 1306.5,-235 1306.5,-235 1306.5,-229 1312.5,-223 1318.5,-223 1318.5,-223 1529.5,-223 1529.5,-223 1535.5,-223 1541.5,-229 1541.5,-235 1541.5,-235 1541.5,-294 1541.5,-294 1541.5,-300 1535.5,-306 1529.5,-306\"/>\n<text text-anchor=\"start\" x=\"1369\" y=\"-290.8\" font-family=\"Helvetica,sans-Serif\" font-size=\"14.00\" fill=\"#000000\">AXI2_1X ≤ 2.453</text>\n<text text-anchor=\"start\" x=\"1386\" y=\"-275.8\" font-family=\"Helvetica,sans-Serif\" font-size=\"14.00\" fill=\"#000000\">gini = 0.351</text>\n<text text-anchor=\"start\" x=\"1376\" y=\"-260.8\" font-family=\"Helvetica,sans-Serif\" font-size=\"14.00\" fill=\"#000000\">samples = 845</text>\n<text text-anchor=\"start\" x=\"1314.5\" y=\"-245.8\" font-family=\"Helvetica,sans-Serif\" font-size=\"14.00\" fill=\"#000000\">value = [140, 2, 2, 665, 36, 0, 0, 0]</text>\n<text text-anchor=\"start\" x=\"1338.5\" y=\"-230.8\" font-family=\"Helvetica,sans-Serif\" font-size=\"14.00\" fill=\"#000000\">class = SoltEst_BChumP3</text>\n</g>\n<!-- 2&#45;&gt;10 -->\n<g id=\"edge10\" class=\"edge\">\n<title>2&#45;&gt;10</title>\n<path fill=\"none\" stroke=\"#000000\" d=\"M1424,-341.8796C1424,-333.6838 1424,-324.9891 1424,-316.5013\"/>\n<polygon fill=\"#000000\" stroke=\"#000000\" points=\"1427.5001,-316.298 1424,-306.2981 1420.5001,-316.2981 1427.5001,-316.298\"/>\n</g>\n<!-- 4 -->\n<g id=\"node5\" class=\"node\">\n<title>4</title>\n<path fill=\"#e6853f\" stroke=\"#000000\" d=\"M510,-187C510,-187 274,-187 274,-187 268,-187 262,-181 262,-175 262,-175 262,-116 262,-116 262,-110 268,-104 274,-104 274,-104 510,-104 510,-104 516,-104 522,-110 522,-116 522,-116 522,-175 522,-175 522,-181 516,-187 510,-187\"/>\n<text text-anchor=\"start\" x=\"344\" y=\"-171.8\" font-family=\"Helvetica,sans-Serif\" font-size=\"14.00\" fill=\"#000000\">DIAG4 ≤ 7.819</text>\n<text text-anchor=\"start\" x=\"354\" y=\"-156.8\" font-family=\"Helvetica,sans-Serif\" font-size=\"14.00\" fill=\"#000000\">gini = 0.056</text>\n<text text-anchor=\"start\" x=\"340\" y=\"-141.8\" font-family=\"Helvetica,sans-Serif\" font-size=\"14.00\" fill=\"#000000\">samples = 7100</text>\n<text text-anchor=\"start\" x=\"270\" y=\"-126.8\" font-family=\"Helvetica,sans-Serif\" font-size=\"14.00\" fill=\"#000000\">value = [6897, 52, 44, 36, 2, 0, 37, 32]</text>\n<text text-anchor=\"start\" x=\"356.5\" y=\"-111.8\" font-family=\"Helvetica,sans-Serif\" font-size=\"14.00\" fill=\"#000000\">class = OK</text>\n</g>\n<!-- 3&#45;&gt;4 -->\n<g id=\"edge4\" class=\"edge\">\n<title>3&#45;&gt;4</title>\n<path fill=\"none\" stroke=\"#000000\" d=\"M630.8989,-222.9631C598.2449,-212.3751 563.0083,-200.9496 529.8883,-190.2104\"/>\n<polygon fill=\"#000000\" stroke=\"#000000\" points=\"530.7387,-186.8068 520.1467,-187.0516 528.5795,-193.4655 530.7387,-186.8068\"/>\n</g>\n<!-- 7 -->\n<g id=\"node8\" class=\"node\">\n<title>7</title>\n<path fill=\"#efb285\" stroke=\"#000000\" d=\"M860.5,-187C860.5,-187 657.5,-187 657.5,-187 651.5,-187 645.5,-181 645.5,-175 645.5,-175 645.5,-116 645.5,-116 645.5,-110 651.5,-104 657.5,-104 657.5,-104 860.5,-104 860.5,-104 866.5,-104 872.5,-110 872.5,-116 872.5,-116 872.5,-175 872.5,-175 872.5,-181 866.5,-187 860.5,-187\"/>\n<text text-anchor=\"start\" x=\"698\" y=\"-171.8\" font-family=\"Helvetica,sans-Serif\" font-size=\"14.00\" fill=\"#000000\">DIAG2_1X ≤ 4.656</text>\n<text text-anchor=\"start\" x=\"721\" y=\"-156.8\" font-family=\"Helvetica,sans-Serif\" font-size=\"14.00\" fill=\"#000000\">gini = 0.432</text>\n<text text-anchor=\"start\" x=\"711\" y=\"-141.8\" font-family=\"Helvetica,sans-Serif\" font-size=\"14.00\" fill=\"#000000\">samples = 321</text>\n<text text-anchor=\"start\" x=\"653.5\" y=\"-126.8\" font-family=\"Helvetica,sans-Serif\" font-size=\"14.00\" fill=\"#000000\">value = [228, 1, 80, 10, 2, 0, 0, 0]</text>\n<text text-anchor=\"start\" x=\"723.5\" y=\"-111.8\" font-family=\"Helvetica,sans-Serif\" font-size=\"14.00\" fill=\"#000000\">class = OK</text>\n</g>\n<!-- 3&#45;&gt;7 -->\n<g id=\"edge7\" class=\"edge\">\n<title>3&#45;&gt;7</title>\n<path fill=\"none\" stroke=\"#000000\" d=\"M759,-222.8796C759,-214.6838 759,-205.9891 759,-197.5013\"/>\n<polygon fill=\"#000000\" stroke=\"#000000\" points=\"762.5001,-197.298 759,-187.2981 755.5001,-197.2981 762.5001,-197.298\"/>\n</g>\n<!-- 5 -->\n<g id=\"node6\" class=\"node\">\n<title>5</title>\n<path fill=\"#e6843d\" stroke=\"#000000\" d=\"M248,-68C248,-68 12,-68 12,-68 6,-68 0,-62 0,-56 0,-56 0,-12 0,-12 0,-6 6,0 12,0 12,0 248,0 248,0 254,0 260,-6 260,-12 260,-12 260,-56 260,-56 260,-62 254,-68 248,-68\"/>\n<text text-anchor=\"start\" x=\"92\" y=\"-52.8\" font-family=\"Helvetica,sans-Serif\" font-size=\"14.00\" fill=\"#000000\">gini = 0.041</text>\n<text text-anchor=\"start\" x=\"78\" y=\"-37.8\" font-family=\"Helvetica,sans-Serif\" font-size=\"14.00\" fill=\"#000000\">samples = 6584</text>\n<text text-anchor=\"start\" x=\"8\" y=\"-22.8\" font-family=\"Helvetica,sans-Serif\" font-size=\"14.00\" fill=\"#000000\">value = [6446, 48, 10, 22, 1, 0, 33, 24]</text>\n<text text-anchor=\"start\" x=\"94.5\" y=\"-7.8\" font-family=\"Helvetica,sans-Serif\" font-size=\"14.00\" fill=\"#000000\">class = OK</text>\n</g>\n<!-- 4&#45;&gt;5 -->\n<g id=\"edge5\" class=\"edge\">\n<title>4&#45;&gt;5</title>\n<path fill=\"none\" stroke=\"#000000\" d=\"M294.4409,-103.9815C269.9089,-93.5414 243.7002,-82.3877 219.5798,-72.1227\"/>\n<polygon fill=\"#000000\" stroke=\"#000000\" points=\"220.6656,-68.7811 210.0936,-68.0856 217.9244,-75.222 220.6656,-68.7811\"/>\n</g>\n<!-- 6 -->\n<g id=\"node7\" class=\"node\">\n<title>6</title>\n<path fill=\"#e99254\" stroke=\"#000000\" d=\"M493.5,-68C493.5,-68 290.5,-68 290.5,-68 284.5,-68 278.5,-62 278.5,-56 278.5,-56 278.5,-12 278.5,-12 278.5,-6 284.5,0 290.5,0 290.5,0 493.5,0 493.5,0 499.5,0 505.5,-6 505.5,-12 505.5,-12 505.5,-56 505.5,-56 505.5,-62 499.5,-68 493.5,-68\"/>\n<text text-anchor=\"start\" x=\"354\" y=\"-52.8\" font-family=\"Helvetica,sans-Serif\" font-size=\"14.00\" fill=\"#000000\">gini = 0.231</text>\n<text text-anchor=\"start\" x=\"344\" y=\"-37.8\" font-family=\"Helvetica,sans-Serif\" font-size=\"14.00\" fill=\"#000000\">samples = 516</text>\n<text text-anchor=\"start\" x=\"286.5\" y=\"-22.8\" font-family=\"Helvetica,sans-Serif\" font-size=\"14.00\" fill=\"#000000\">value = [451, 4, 34, 14, 1, 0, 4, 8]</text>\n<text text-anchor=\"start\" x=\"356.5\" y=\"-7.8\" font-family=\"Helvetica,sans-Serif\" font-size=\"14.00\" fill=\"#000000\">class = OK</text>\n</g>\n<!-- 4&#45;&gt;6 -->\n<g id=\"edge6\" class=\"edge\">\n<title>4&#45;&gt;6</title>\n<path fill=\"none\" stroke=\"#000000\" d=\"M392,-103.9815C392,-95.618 392,-86.7965 392,-78.3409\"/>\n<polygon fill=\"#000000\" stroke=\"#000000\" points=\"395.5001,-78.2636 392,-68.2637 388.5001,-78.2637 395.5001,-78.2636\"/>\n</g>\n<!-- 8 -->\n<g id=\"node9\" class=\"node\">\n<title>8</title>\n<path fill=\"#eb9f68\" stroke=\"#000000\" d=\"M730,-68C730,-68 536,-68 536,-68 530,-68 524,-62 524,-56 524,-56 524,-12 524,-12 524,-6 530,0 536,0 536,0 730,0 730,0 736,0 742,-6 742,-12 742,-12 742,-56 742,-56 742,-62 736,-68 730,-68\"/>\n<text text-anchor=\"start\" x=\"595\" y=\"-52.8\" font-family=\"Helvetica,sans-Serif\" font-size=\"14.00\" fill=\"#000000\">gini = 0.329</text>\n<text text-anchor=\"start\" x=\"585\" y=\"-37.8\" font-family=\"Helvetica,sans-Serif\" font-size=\"14.00\" fill=\"#000000\">samples = 231</text>\n<text text-anchor=\"start\" x=\"532\" y=\"-22.8\" font-family=\"Helvetica,sans-Serif\" font-size=\"14.00\" fill=\"#000000\">value = [185, 0, 39, 7, 0, 0, 0, 0]</text>\n<text text-anchor=\"start\" x=\"597.5\" y=\"-7.8\" font-family=\"Helvetica,sans-Serif\" font-size=\"14.00\" fill=\"#000000\">class = OK</text>\n</g>\n<!-- 7&#45;&gt;8 -->\n<g id=\"edge8\" class=\"edge\">\n<title>7&#45;&gt;8</title>\n<path fill=\"none\" stroke=\"#000000\" d=\"M712.0823,-103.9815C701.3848,-94.5151 690.0244,-84.462 679.3508,-75.0168\"/>\n<polygon fill=\"#000000\" stroke=\"#000000\" points=\"681.5278,-72.2696 671.7195,-68.2637 676.8889,-77.5118 681.5278,-72.2696\"/>\n</g>\n<!-- 9 -->\n<g id=\"node10\" class=\"node\">\n<title>9</title>\n<path fill=\"#fefaf7\" stroke=\"#000000\" d=\"M958,-68C958,-68 772,-68 772,-68 766,-68 760,-62 760,-56 760,-56 760,-12 760,-12 760,-6 766,0 772,0 772,0 958,0 958,0 964,0 970,-6 970,-12 970,-12 970,-56 970,-56 970,-62 964,-68 958,-68\"/>\n<text text-anchor=\"start\" x=\"827\" y=\"-52.8\" font-family=\"Helvetica,sans-Serif\" font-size=\"14.00\" fill=\"#000000\">gini = 0.562</text>\n<text text-anchor=\"start\" x=\"821\" y=\"-37.8\" font-family=\"Helvetica,sans-Serif\" font-size=\"14.00\" fill=\"#000000\">samples = 90</text>\n<text text-anchor=\"start\" x=\"768\" y=\"-22.8\" font-family=\"Helvetica,sans-Serif\" font-size=\"14.00\" fill=\"#000000\">value = [43, 1, 41, 3, 2, 0, 0, 0]</text>\n<text text-anchor=\"start\" x=\"829.5\" y=\"-7.8\" font-family=\"Helvetica,sans-Serif\" font-size=\"14.00\" fill=\"#000000\">class = OK</text>\n</g>\n<!-- 7&#45;&gt;9 -->\n<g id=\"edge9\" class=\"edge\">\n<title>7&#45;&gt;9</title>\n<path fill=\"none\" stroke=\"#000000\" d=\"M798.4705,-103.9815C807.2952,-94.6989 816.6562,-84.8522 825.4827,-75.5677\"/>\n<polygon fill=\"#000000\" stroke=\"#000000\" points=\"828.073,-77.9228 832.4265,-68.2637 822.9997,-73.0997 828.073,-77.9228\"/>\n</g>\n<!-- 11 -->\n<g id=\"node12\" class=\"node\">\n<title>11</title>\n<path fill=\"#f3c6a5\" stroke=\"#000000\" d=\"M1399,-187C1399,-187 1213,-187 1213,-187 1207,-187 1201,-181 1201,-175 1201,-175 1201,-116 1201,-116 1201,-110 1207,-104 1213,-104 1213,-104 1399,-104 1399,-104 1405,-104 1411,-110 1411,-116 1411,-116 1411,-175 1411,-175 1411,-181 1405,-187 1399,-187\"/>\n<text text-anchor=\"start\" x=\"1245\" y=\"-171.8\" font-family=\"Helvetica,sans-Serif\" font-size=\"14.00\" fill=\"#000000\">DIAG4_1X ≤ 0.737</text>\n<text text-anchor=\"start\" x=\"1268\" y=\"-156.8\" font-family=\"Helvetica,sans-Serif\" font-size=\"14.00\" fill=\"#000000\">gini = 0.473</text>\n<text text-anchor=\"start\" x=\"1258\" y=\"-141.8\" font-family=\"Helvetica,sans-Serif\" font-size=\"14.00\" fill=\"#000000\">samples = 114</text>\n<text text-anchor=\"start\" x=\"1209\" y=\"-126.8\" font-family=\"Helvetica,sans-Serif\" font-size=\"14.00\" fill=\"#000000\">value = [73, 0, 0, 39, 2, 0, 0, 0]</text>\n<text text-anchor=\"start\" x=\"1270.5\" y=\"-111.8\" font-family=\"Helvetica,sans-Serif\" font-size=\"14.00\" fill=\"#000000\">class = OK</text>\n</g>\n<!-- 10&#45;&gt;11 -->\n<g id=\"edge11\" class=\"edge\">\n<title>10&#45;&gt;11</title>\n<path fill=\"none\" stroke=\"#000000\" d=\"M1382.7293,-222.8796C1373.6201,-213.6931 1363.8892,-203.8798 1354.5224,-194.4336\"/>\n<polygon fill=\"#000000\" stroke=\"#000000\" points=\"1356.9733,-191.9345 1347.4468,-187.2981 1352.0027,-196.8634 1356.9733,-191.9345\"/>\n</g>\n<!-- 14 -->\n<g id=\"node15\" class=\"node\">\n<title>14</title>\n<path fill=\"#58e9b9\" stroke=\"#000000\" d=\"M1644.5,-187C1644.5,-187 1441.5,-187 1441.5,-187 1435.5,-187 1429.5,-181 1429.5,-175 1429.5,-175 1429.5,-116 1429.5,-116 1429.5,-110 1435.5,-104 1441.5,-104 1441.5,-104 1644.5,-104 1644.5,-104 1650.5,-104 1656.5,-110 1656.5,-116 1656.5,-116 1656.5,-175 1656.5,-175 1656.5,-181 1650.5,-187 1644.5,-187\"/>\n<text text-anchor=\"start\" x=\"1486\" y=\"-171.8\" font-family=\"Helvetica,sans-Serif\" font-size=\"14.00\" fill=\"#000000\">DIAG1_1X ≤ 0.58</text>\n<text text-anchor=\"start\" x=\"1505\" y=\"-156.8\" font-family=\"Helvetica,sans-Serif\" font-size=\"14.00\" fill=\"#000000\">gini = 0.256</text>\n<text text-anchor=\"start\" x=\"1495\" y=\"-141.8\" font-family=\"Helvetica,sans-Serif\" font-size=\"14.00\" fill=\"#000000\">samples = 731</text>\n<text text-anchor=\"start\" x=\"1437.5\" y=\"-126.8\" font-family=\"Helvetica,sans-Serif\" font-size=\"14.00\" fill=\"#000000\">value = [67, 2, 2, 626, 34, 0, 0, 0]</text>\n<text text-anchor=\"start\" x=\"1457.5\" y=\"-111.8\" font-family=\"Helvetica,sans-Serif\" font-size=\"14.00\" fill=\"#000000\">class = SoltEst_BChumP3</text>\n</g>\n<!-- 10&#45;&gt;14 -->\n<g id=\"edge14\" class=\"edge\">\n<title>10&#45;&gt;14</title>\n<path fill=\"none\" stroke=\"#000000\" d=\"M1465.6204,-222.8796C1474.8069,-213.6931 1484.6202,-203.8798 1494.0664,-194.4336\"/>\n<polygon fill=\"#000000\" stroke=\"#000000\" points=\"1496.6057,-196.8441 1501.2019,-187.2981 1491.6559,-191.8943 1496.6057,-196.8441\"/>\n</g>\n<!-- 12 -->\n<g id=\"node13\" class=\"node\">\n<title>12</title>\n<path fill=\"#58e9b9\" stroke=\"#000000\" d=\"M1178,-68C1178,-68 1000,-68 1000,-68 994,-68 988,-62 988,-56 988,-56 988,-12 988,-12 988,-6 994,0 1000,0 1000,0 1178,0 1178,0 1184,0 1190,-6 1190,-12 1190,-12 1190,-56 1190,-56 1190,-62 1184,-68 1178,-68\"/>\n<text text-anchor=\"start\" x=\"1051\" y=\"-52.8\" font-family=\"Helvetica,sans-Serif\" font-size=\"14.00\" fill=\"#000000\">gini = 0.254</text>\n<text text-anchor=\"start\" x=\"1045\" y=\"-37.8\" font-family=\"Helvetica,sans-Serif\" font-size=\"14.00\" fill=\"#000000\">samples = 21</text>\n<text text-anchor=\"start\" x=\"996\" y=\"-22.8\" font-family=\"Helvetica,sans-Serif\" font-size=\"14.00\" fill=\"#000000\">value = [2, 0, 0, 18, 1, 0, 0, 0]</text>\n<text text-anchor=\"start\" x=\"1003.5\" y=\"-7.8\" font-family=\"Helvetica,sans-Serif\" font-size=\"14.00\" fill=\"#000000\">class = SoltEst_BChumP3</text>\n</g>\n<!-- 11&#45;&gt;12 -->\n<g id=\"edge12\" class=\"edge\">\n<title>11&#45;&gt;12</title>\n<path fill=\"none\" stroke=\"#000000\" d=\"M1225.1972,-103.9815C1205.2384,-93.7262 1183.9395,-82.7823 1164.2564,-72.6686\"/>\n<polygon fill=\"#000000\" stroke=\"#000000\" points=\"1165.8312,-69.5428 1155.337,-68.0856 1162.632,-75.769 1165.8312,-69.5428\"/>\n</g>\n<!-- 13 -->\n<g id=\"node14\" class=\"node\">\n<title>13</title>\n<path fill=\"#eda876\" stroke=\"#000000\" d=\"M1406,-68C1406,-68 1220,-68 1220,-68 1214,-68 1208,-62 1208,-56 1208,-56 1208,-12 1208,-12 1208,-6 1214,0 1220,0 1220,0 1406,0 1406,0 1412,0 1418,-6 1418,-12 1418,-12 1418,-56 1418,-56 1418,-62 1412,-68 1406,-68\"/>\n<text text-anchor=\"start\" x=\"1275\" y=\"-52.8\" font-family=\"Helvetica,sans-Serif\" font-size=\"14.00\" fill=\"#000000\">gini = 0.366</text>\n<text text-anchor=\"start\" x=\"1269\" y=\"-37.8\" font-family=\"Helvetica,sans-Serif\" font-size=\"14.00\" fill=\"#000000\">samples = 93</text>\n<text text-anchor=\"start\" x=\"1216\" y=\"-22.8\" font-family=\"Helvetica,sans-Serif\" font-size=\"14.00\" fill=\"#000000\">value = [71, 0, 0, 21, 1, 0, 0, 0]</text>\n<text text-anchor=\"start\" x=\"1277.5\" y=\"-7.8\" font-family=\"Helvetica,sans-Serif\" font-size=\"14.00\" fill=\"#000000\">class = OK</text>\n</g>\n<!-- 11&#45;&gt;13 -->\n<g id=\"edge13\" class=\"edge\">\n<title>11&#45;&gt;13</title>\n<path fill=\"none\" stroke=\"#000000\" d=\"M1308.6065,-103.9815C1309.1316,-95.618 1309.6854,-86.7965 1310.2163,-78.3409\"/>\n<polygon fill=\"#000000\" stroke=\"#000000\" points=\"1313.7154,-78.4634 1310.8489,-68.2637 1306.7291,-78.0247 1313.7154,-78.4634\"/>\n</g>\n<!-- 15 -->\n<g id=\"node16\" class=\"node\">\n<title>15</title>\n<path fill=\"#53aae8\" stroke=\"#000000\" d=\"M1626,-68C1626,-68 1448,-68 1448,-68 1442,-68 1436,-62 1436,-56 1436,-56 1436,-12 1436,-12 1436,-6 1442,0 1448,0 1448,0 1626,0 1626,0 1632,0 1638,-6 1638,-12 1638,-12 1638,-56 1638,-56 1638,-62 1632,-68 1626,-68\"/>\n<text text-anchor=\"start\" x=\"1499\" y=\"-52.8\" font-family=\"Helvetica,sans-Serif\" font-size=\"14.00\" fill=\"#000000\">gini = 0.218</text>\n<text text-anchor=\"start\" x=\"1493\" y=\"-37.8\" font-family=\"Helvetica,sans-Serif\" font-size=\"14.00\" fill=\"#000000\">samples = 25</text>\n<text text-anchor=\"start\" x=\"1444\" y=\"-22.8\" font-family=\"Helvetica,sans-Serif\" font-size=\"14.00\" fill=\"#000000\">value = [0, 1, 0, 2, 22, 0, 0, 0]</text>\n<text text-anchor=\"start\" x=\"1469\" y=\"-7.8\" font-family=\"Helvetica,sans-Serif\" font-size=\"14.00\" fill=\"#000000\">class = Desb_Molino</text>\n</g>\n<!-- 14&#45;&gt;15 -->\n<g id=\"edge15\" class=\"edge\">\n<title>14&#45;&gt;15</title>\n<path fill=\"none\" stroke=\"#000000\" d=\"M1540.7658,-103.9815C1540.3158,-95.618 1539.8411,-86.7965 1539.3861,-78.3409\"/>\n<polygon fill=\"#000000\" stroke=\"#000000\" points=\"1542.8762,-78.0611 1538.8438,-68.2637 1535.8863,-78.4373 1542.8762,-78.0611\"/>\n</g>\n<!-- 16 -->\n<g id=\"node17\" class=\"node\">\n<title>16</title>\n<path fill=\"#52e8b7\" stroke=\"#000000\" d=\"M1871.5,-68C1871.5,-68 1668.5,-68 1668.5,-68 1662.5,-68 1656.5,-62 1656.5,-56 1656.5,-56 1656.5,-12 1656.5,-12 1656.5,-6 1662.5,0 1668.5,0 1668.5,0 1871.5,0 1871.5,0 1877.5,0 1883.5,-6 1883.5,-12 1883.5,-12 1883.5,-56 1883.5,-56 1883.5,-62 1877.5,-68 1871.5,-68\"/>\n<text text-anchor=\"start\" x=\"1732\" y=\"-52.8\" font-family=\"Helvetica,sans-Serif\" font-size=\"14.00\" fill=\"#000000\">gini = 0.209</text>\n<text text-anchor=\"start\" x=\"1722\" y=\"-37.8\" font-family=\"Helvetica,sans-Serif\" font-size=\"14.00\" fill=\"#000000\">samples = 706</text>\n<text text-anchor=\"start\" x=\"1664.5\" y=\"-22.8\" font-family=\"Helvetica,sans-Serif\" font-size=\"14.00\" fill=\"#000000\">value = [67, 1, 2, 624, 12, 0, 0, 0]</text>\n<text text-anchor=\"start\" x=\"1684.5\" y=\"-7.8\" font-family=\"Helvetica,sans-Serif\" font-size=\"14.00\" fill=\"#000000\">class = SoltEst_BChumP3</text>\n</g>\n<!-- 14&#45;&gt;16 -->\n<g id=\"edge16\" class=\"edge\">\n<title>14&#45;&gt;16</title>\n<path fill=\"none\" stroke=\"#000000\" d=\"M1627.5264,-103.9815C1648.499,-93.68 1670.8861,-82.6837 1691.5538,-72.532\"/>\n<polygon fill=\"#000000\" stroke=\"#000000\" points=\"1693.1733,-75.6359 1700.6059,-68.0856 1690.0872,-69.3529 1693.1733,-75.6359\"/>\n</g>\n<!-- 18 -->\n<g id=\"node19\" class=\"node\">\n<title>18</title>\n<path fill=\"#daee7a\" stroke=\"#000000\" d=\"M2784,-306C2784,-306 2548,-306 2548,-306 2542,-306 2536,-300 2536,-294 2536,-294 2536,-235 2536,-235 2536,-229 2542,-223 2548,-223 2548,-223 2784,-223 2784,-223 2790,-223 2796,-229 2796,-235 2796,-235 2796,-294 2796,-294 2796,-300 2790,-306 2784,-306\"/>\n<text text-anchor=\"start\" x=\"2601\" y=\"-290.8\" font-family=\"Helvetica,sans-Serif\" font-size=\"14.00\" fill=\"#000000\">DIAG2_1X ≤ 10.263</text>\n<text text-anchor=\"start\" x=\"2632.5\" y=\"-275.8\" font-family=\"Helvetica,sans-Serif\" font-size=\"14.00\" fill=\"#000000\">gini = 0.39</text>\n<text text-anchor=\"start\" x=\"2614\" y=\"-260.8\" font-family=\"Helvetica,sans-Serif\" font-size=\"14.00\" fill=\"#000000\">samples = 2904</text>\n<text text-anchor=\"start\" x=\"2544\" y=\"-245.8\" font-family=\"Helvetica,sans-Serif\" font-size=\"14.00\" fill=\"#000000\">value = [660, 2169, 26, 5, 24, 19, 1, 0]</text>\n<text text-anchor=\"start\" x=\"2603\" y=\"-230.8\" font-family=\"Helvetica,sans-Serif\" font-size=\"14.00\" fill=\"#000000\">class = SoltEst_BM</text>\n</g>\n<!-- 17&#45;&gt;18 -->\n<g id=\"edge18\" class=\"edge\">\n<title>17&#45;&gt;18</title>\n<path fill=\"none\" stroke=\"#000000\" d=\"M2889.0352,-341.8796C2858.7473,-331.3715 2826.0952,-320.0432 2795.3669,-309.3824\"/>\n<polygon fill=\"#000000\" stroke=\"#000000\" points=\"2796.4918,-306.0681 2785.897,-306.0969 2794.1974,-312.6814 2796.4918,-306.0681\"/>\n</g>\n<!-- 25 -->\n<g id=\"node26\" class=\"node\">\n<title>25</title>\n<path fill=\"#f1f8fd\" stroke=\"#000000\" d=\"M3250,-306C3250,-306 3014,-306 3014,-306 3008,-306 3002,-300 3002,-294 3002,-294 3002,-235 3002,-235 3002,-229 3008,-223 3014,-223 3014,-223 3250,-223 3250,-223 3256,-223 3262,-229 3262,-235 3262,-235 3262,-294 3262,-294 3262,-300 3256,-306 3250,-306\"/>\n<text text-anchor=\"start\" x=\"3080\" y=\"-290.8\" font-family=\"Helvetica,sans-Serif\" font-size=\"14.00\" fill=\"#000000\">DIAG4 ≤ 10.041</text>\n<text text-anchor=\"start\" x=\"3094\" y=\"-275.8\" font-family=\"Helvetica,sans-Serif\" font-size=\"14.00\" fill=\"#000000\">gini = 0.704</text>\n<text text-anchor=\"start\" x=\"3084\" y=\"-260.8\" font-family=\"Helvetica,sans-Serif\" font-size=\"14.00\" fill=\"#000000\">samples = 634</text>\n<text text-anchor=\"start\" x=\"3010\" y=\"-245.8\" font-family=\"Helvetica,sans-Serif\" font-size=\"14.00\" fill=\"#000000\">value = [33, 102, 1, 215, 245, 35, 3, 0]</text>\n<text text-anchor=\"start\" x=\"3064\" y=\"-230.8\" font-family=\"Helvetica,sans-Serif\" font-size=\"14.00\" fill=\"#000000\">class = Desb_Molino</text>\n</g>\n<!-- 17&#45;&gt;25 -->\n<g id=\"edge25\" class=\"edge\">\n<title>17&#45;&gt;25</title>\n<path fill=\"none\" stroke=\"#000000\" d=\"M3052.0194,-341.8796C3061.5147,-332.6931 3071.6578,-322.8798 3081.4215,-313.4336\"/>\n<polygon fill=\"#000000\" stroke=\"#000000\" points=\"3084.0436,-315.7668 3088.797,-306.2981 3079.1763,-310.7359 3084.0436,-315.7668\"/>\n</g>\n<!-- 19 -->\n<g id=\"node20\" class=\"node\">\n<title>19</title>\n<path fill=\"#e6f3a7\" stroke=\"#000000\" d=\"M2406,-187C2406,-187 2170,-187 2170,-187 2164,-187 2158,-181 2158,-175 2158,-175 2158,-116 2158,-116 2158,-110 2164,-104 2170,-104 2170,-104 2406,-104 2406,-104 2412,-104 2418,-110 2418,-116 2418,-116 2418,-175 2418,-175 2418,-181 2412,-187 2406,-187\"/>\n<text text-anchor=\"start\" x=\"2240\" y=\"-171.8\" font-family=\"Helvetica,sans-Serif\" font-size=\"14.00\" fill=\"#000000\">DIAG1 ≤ 6.796</text>\n<text text-anchor=\"start\" x=\"2258.5\" y=\"-156.8\" font-family=\"Helvetica,sans-Serif\" font-size=\"14.00\" fill=\"#000000\">gini = 0.5</text>\n<text text-anchor=\"start\" x=\"2236\" y=\"-141.8\" font-family=\"Helvetica,sans-Serif\" font-size=\"14.00\" fill=\"#000000\">samples = 1607</text>\n<text text-anchor=\"start\" x=\"2166\" y=\"-126.8\" font-family=\"Helvetica,sans-Serif\" font-size=\"14.00\" fill=\"#000000\">value = [525, 1007, 26, 5, 24, 19, 1, 0]</text>\n<text text-anchor=\"start\" x=\"2225\" y=\"-111.8\" font-family=\"Helvetica,sans-Serif\" font-size=\"14.00\" fill=\"#000000\">class = SoltEst_BM</text>\n</g>\n<!-- 18&#45;&gt;19 -->\n<g id=\"edge19\" class=\"edge\">\n<title>18&#45;&gt;19</title>\n<path fill=\"none\" stroke=\"#000000\" d=\"M2535.9138,-223.547C2501.0696,-212.5775 2463.257,-200.6735 2427.9064,-189.5446\"/>\n<polygon fill=\"#000000\" stroke=\"#000000\" points=\"2428.5951,-186.0921 2418.0056,-186.4277 2426.493,-192.7691 2428.5951,-186.0921\"/>\n</g>\n<!-- 22 -->\n<g id=\"node23\" class=\"node\">\n<title>22</title>\n<path fill=\"#cee850\" stroke=\"#000000\" d=\"M2771.5,-187C2771.5,-187 2560.5,-187 2560.5,-187 2554.5,-187 2548.5,-181 2548.5,-175 2548.5,-175 2548.5,-116 2548.5,-116 2548.5,-110 2554.5,-104 2560.5,-104 2560.5,-104 2771.5,-104 2771.5,-104 2777.5,-104 2783.5,-110 2783.5,-116 2783.5,-116 2783.5,-175 2783.5,-175 2783.5,-181 2777.5,-187 2771.5,-187\"/>\n<text text-anchor=\"start\" x=\"2624\" y=\"-171.8\" font-family=\"Helvetica,sans-Serif\" font-size=\"14.00\" fill=\"#000000\">AXI2 ≤ 6.368</text>\n<text text-anchor=\"start\" x=\"2628\" y=\"-156.8\" font-family=\"Helvetica,sans-Serif\" font-size=\"14.00\" fill=\"#000000\">gini = 0.187</text>\n<text text-anchor=\"start\" x=\"2614\" y=\"-141.8\" font-family=\"Helvetica,sans-Serif\" font-size=\"14.00\" fill=\"#000000\">samples = 1297</text>\n<text text-anchor=\"start\" x=\"2556.5\" y=\"-126.8\" font-family=\"Helvetica,sans-Serif\" font-size=\"14.00\" fill=\"#000000\">value = [135, 1162, 0, 0, 0, 0, 0, 0]</text>\n<text text-anchor=\"start\" x=\"2603\" y=\"-111.8\" font-family=\"Helvetica,sans-Serif\" font-size=\"14.00\" fill=\"#000000\">class = SoltEst_BM</text>\n</g>\n<!-- 18&#45;&gt;22 -->\n<g id=\"edge22\" class=\"edge\">\n<title>18&#45;&gt;22</title>\n<path fill=\"none\" stroke=\"#000000\" d=\"M2666,-222.8796C2666,-214.6838 2666,-205.9891 2666,-197.5013\"/>\n<polygon fill=\"#000000\" stroke=\"#000000\" points=\"2669.5001,-197.298 2666,-187.2981 2662.5001,-197.2981 2669.5001,-197.298\"/>\n</g>\n<!-- 20 -->\n<g id=\"node21\" class=\"node\">\n<title>20</title>\n<path fill=\"#d5eb67\" stroke=\"#000000\" d=\"M2140.5,-68C2140.5,-68 1913.5,-68 1913.5,-68 1907.5,-68 1901.5,-62 1901.5,-56 1901.5,-56 1901.5,-12 1901.5,-12 1901.5,-6 1907.5,0 1913.5,0 1913.5,0 2140.5,0 2140.5,0 2146.5,0 2152.5,-6 2152.5,-12 2152.5,-12 2152.5,-56 2152.5,-56 2152.5,-62 2146.5,-68 2140.5,-68\"/>\n<text text-anchor=\"start\" x=\"1989\" y=\"-52.8\" font-family=\"Helvetica,sans-Serif\" font-size=\"14.00\" fill=\"#000000\">gini = 0.335</text>\n<text text-anchor=\"start\" x=\"1975\" y=\"-37.8\" font-family=\"Helvetica,sans-Serif\" font-size=\"14.00\" fill=\"#000000\">samples = 1128</text>\n<text text-anchor=\"start\" x=\"1909.5\" y=\"-22.8\" font-family=\"Helvetica,sans-Serif\" font-size=\"14.00\" fill=\"#000000\">value = [168, 904, 13, 4, 24, 14, 1, 0]</text>\n<text text-anchor=\"start\" x=\"1964\" y=\"-7.8\" font-family=\"Helvetica,sans-Serif\" font-size=\"14.00\" fill=\"#000000\">class = SoltEst_BM</text>\n</g>\n<!-- 19&#45;&gt;20 -->\n<g id=\"edge20\" class=\"edge\">\n<title>19&#45;&gt;20</title>\n<path fill=\"none\" stroke=\"#000000\" d=\"M2190.8132,-103.9815C2166.3749,-93.5414 2140.2663,-82.3877 2116.2379,-72.1227\"/>\n<polygon fill=\"#000000\" stroke=\"#000000\" points=\"2117.3589,-68.7956 2106.7879,-68.0856 2114.6089,-75.2328 2117.3589,-68.7956\"/>\n</g>\n<!-- 21 -->\n<g id=\"node22\" class=\"node\">\n<title>21</title>\n<path fill=\"#edaa79\" stroke=\"#000000\" d=\"M2393.5,-68C2393.5,-68 2182.5,-68 2182.5,-68 2176.5,-68 2170.5,-62 2170.5,-56 2170.5,-56 2170.5,-12 2170.5,-12 2170.5,-6 2176.5,0 2182.5,0 2182.5,0 2393.5,0 2393.5,0 2399.5,0 2405.5,-6 2405.5,-12 2405.5,-12 2405.5,-56 2405.5,-56 2405.5,-62 2399.5,-68 2393.5,-68\"/>\n<text text-anchor=\"start\" x=\"2250\" y=\"-52.8\" font-family=\"Helvetica,sans-Serif\" font-size=\"14.00\" fill=\"#000000\">gini = 0.397</text>\n<text text-anchor=\"start\" x=\"2240\" y=\"-37.8\" font-family=\"Helvetica,sans-Serif\" font-size=\"14.00\" fill=\"#000000\">samples = 479</text>\n<text text-anchor=\"start\" x=\"2178.5\" y=\"-22.8\" font-family=\"Helvetica,sans-Serif\" font-size=\"14.00\" fill=\"#000000\">value = [357, 103, 13, 1, 0, 5, 0, 0]</text>\n<text text-anchor=\"start\" x=\"2252.5\" y=\"-7.8\" font-family=\"Helvetica,sans-Serif\" font-size=\"14.00\" fill=\"#000000\">class = OK</text>\n</g>\n<!-- 19&#45;&gt;21 -->\n<g id=\"edge21\" class=\"edge\">\n<title>19&#45;&gt;21</title>\n<path fill=\"none\" stroke=\"#000000\" d=\"M2288,-103.9815C2288,-95.618 2288,-86.7965 2288,-78.3409\"/>\n<polygon fill=\"#000000\" stroke=\"#000000\" points=\"2291.5001,-78.2636 2288,-68.2637 2284.5001,-78.2637 2291.5001,-78.2636\"/>\n</g>\n<!-- 23 -->\n<g id=\"node24\" class=\"node\">\n<title>23</title>\n<path fill=\"#d9ed76\" stroke=\"#000000\" d=\"M2638.5,-68C2638.5,-68 2435.5,-68 2435.5,-68 2429.5,-68 2423.5,-62 2423.5,-56 2423.5,-56 2423.5,-12 2423.5,-12 2423.5,-6 2429.5,0 2435.5,0 2435.5,0 2638.5,0 2638.5,0 2644.5,0 2650.5,-6 2650.5,-12 2650.5,-12 2650.5,-56 2650.5,-56 2650.5,-62 2644.5,-68 2638.5,-68\"/>\n<text text-anchor=\"start\" x=\"2499\" y=\"-52.8\" font-family=\"Helvetica,sans-Serif\" font-size=\"14.00\" fill=\"#000000\">gini = 0.361</text>\n<text text-anchor=\"start\" x=\"2489\" y=\"-37.8\" font-family=\"Helvetica,sans-Serif\" font-size=\"14.00\" fill=\"#000000\">samples = 461</text>\n<text text-anchor=\"start\" x=\"2431.5\" y=\"-22.8\" font-family=\"Helvetica,sans-Serif\" font-size=\"14.00\" fill=\"#000000\">value = [109, 352, 0, 0, 0, 0, 0, 0]</text>\n<text text-anchor=\"start\" x=\"2474\" y=\"-7.8\" font-family=\"Helvetica,sans-Serif\" font-size=\"14.00\" fill=\"#000000\">class = SoltEst_BM</text>\n</g>\n<!-- 22&#45;&gt;23 -->\n<g id=\"edge23\" class=\"edge\">\n<title>22&#45;&gt;23</title>\n<path fill=\"none\" stroke=\"#000000\" d=\"M2617.9652,-103.9815C2607.013,-94.5151 2595.3821,-84.462 2584.4544,-75.0168\"/>\n<polygon fill=\"#000000\" stroke=\"#000000\" points=\"2586.4957,-72.155 2576.6414,-68.2637 2581.9182,-77.4509 2586.4957,-72.155\"/>\n</g>\n<!-- 24 -->\n<g id=\"node25\" class=\"node\">\n<title>24</title>\n<path fill=\"#cae63f\" stroke=\"#000000\" d=\"M2875,-68C2875,-68 2681,-68 2681,-68 2675,-68 2669,-62 2669,-56 2669,-56 2669,-12 2669,-12 2669,-6 2675,0 2681,0 2681,0 2875,0 2875,0 2881,0 2887,-6 2887,-12 2887,-12 2887,-56 2887,-56 2887,-62 2881,-68 2875,-68\"/>\n<text text-anchor=\"start\" x=\"2744.5\" y=\"-52.8\" font-family=\"Helvetica,sans-Serif\" font-size=\"14.00\" fill=\"#000000\">gini = 0.06</text>\n<text text-anchor=\"start\" x=\"2730\" y=\"-37.8\" font-family=\"Helvetica,sans-Serif\" font-size=\"14.00\" fill=\"#000000\">samples = 836</text>\n<text text-anchor=\"start\" x=\"2677\" y=\"-22.8\" font-family=\"Helvetica,sans-Serif\" font-size=\"14.00\" fill=\"#000000\">value = [26, 810, 0, 0, 0, 0, 0, 0]</text>\n<text text-anchor=\"start\" x=\"2715\" y=\"-7.8\" font-family=\"Helvetica,sans-Serif\" font-size=\"14.00\" fill=\"#000000\">class = SoltEst_BM</text>\n</g>\n<!-- 22&#45;&gt;24 -->\n<g id=\"edge24\" class=\"edge\">\n<title>22&#45;&gt;24</title>\n<path fill=\"none\" stroke=\"#000000\" d=\"M2707.7047,-103.9815C2717.0289,-94.6989 2726.9197,-84.8522 2736.2459,-75.5677\"/>\n<polygon fill=\"#000000\" stroke=\"#000000\" points=\"2738.9651,-77.7993 2743.5827,-68.2637 2734.0264,-72.8385 2738.9651,-77.7993\"/>\n</g>\n<!-- 26 -->\n<g id=\"node27\" class=\"node\">\n<title>26</title>\n<path fill=\"#baf6e2\" stroke=\"#000000\" d=\"M3237.5,-187C3237.5,-187 3026.5,-187 3026.5,-187 3020.5,-187 3014.5,-181 3014.5,-175 3014.5,-175 3014.5,-116 3014.5,-116 3014.5,-110 3020.5,-104 3026.5,-104 3026.5,-104 3237.5,-104 3237.5,-104 3243.5,-104 3249.5,-110 3249.5,-116 3249.5,-116 3249.5,-175 3249.5,-175 3249.5,-181 3243.5,-187 3237.5,-187\"/>\n<text text-anchor=\"start\" x=\"3080\" y=\"-171.8\" font-family=\"Helvetica,sans-Serif\" font-size=\"14.00\" fill=\"#000000\">DIAG2 ≤ 10.138</text>\n<text text-anchor=\"start\" x=\"3094\" y=\"-156.8\" font-family=\"Helvetica,sans-Serif\" font-size=\"14.00\" fill=\"#000000\">gini = 0.642</text>\n<text text-anchor=\"start\" x=\"3084\" y=\"-141.8\" font-family=\"Helvetica,sans-Serif\" font-size=\"14.00\" fill=\"#000000\">samples = 378</text>\n<text text-anchor=\"start\" x=\"3022.5\" y=\"-126.8\" font-family=\"Helvetica,sans-Serif\" font-size=\"14.00\" fill=\"#000000\">value = [17, 98, 0, 195, 56, 9, 3, 0]</text>\n<text text-anchor=\"start\" x=\"3046.5\" y=\"-111.8\" font-family=\"Helvetica,sans-Serif\" font-size=\"14.00\" fill=\"#000000\">class = SoltEst_BChumP3</text>\n</g>\n<!-- 25&#45;&gt;26 -->\n<g id=\"edge26\" class=\"edge\">\n<title>25&#45;&gt;26</title>\n<path fill=\"none\" stroke=\"#000000\" d=\"M3132,-222.8796C3132,-214.6838 3132,-205.9891 3132,-197.5013\"/>\n<polygon fill=\"#000000\" stroke=\"#000000\" points=\"3135.5001,-197.298 3132,-187.2981 3128.5001,-197.2981 3135.5001,-197.298\"/>\n</g>\n<!-- 29 -->\n<g id=\"node30\" class=\"node\">\n<title>29</title>\n<path fill=\"#73baed\" stroke=\"#000000\" d=\"M3598.5,-187C3598.5,-187 3387.5,-187 3387.5,-187 3381.5,-187 3375.5,-181 3375.5,-175 3375.5,-175 3375.5,-116 3375.5,-116 3375.5,-110 3381.5,-104 3387.5,-104 3387.5,-104 3598.5,-104 3598.5,-104 3604.5,-104 3610.5,-110 3610.5,-116 3610.5,-116 3610.5,-175 3610.5,-175 3610.5,-181 3604.5,-187 3598.5,-187\"/>\n<text text-anchor=\"start\" x=\"3451\" y=\"-171.8\" font-family=\"Helvetica,sans-Serif\" font-size=\"14.00\" fill=\"#000000\">AXI2 ≤ 7.157</text>\n<text text-anchor=\"start\" x=\"3455\" y=\"-156.8\" font-family=\"Helvetica,sans-Serif\" font-size=\"14.00\" fill=\"#000000\">gini = 0.434</text>\n<text text-anchor=\"start\" x=\"3445\" y=\"-141.8\" font-family=\"Helvetica,sans-Serif\" font-size=\"14.00\" fill=\"#000000\">samples = 256</text>\n<text text-anchor=\"start\" x=\"3383.5\" y=\"-126.8\" font-family=\"Helvetica,sans-Serif\" font-size=\"14.00\" fill=\"#000000\">value = [16, 4, 1, 20, 189, 26, 0, 0]</text>\n<text text-anchor=\"start\" x=\"3425\" y=\"-111.8\" font-family=\"Helvetica,sans-Serif\" font-size=\"14.00\" fill=\"#000000\">class = Desb_Molino</text>\n</g>\n<!-- 25&#45;&gt;29 -->\n<g id=\"edge29\" class=\"edge\">\n<title>25&#45;&gt;29</title>\n<path fill=\"none\" stroke=\"#000000\" d=\"M3258.0068,-222.9631C3292.8677,-211.4716 3330.7211,-198.9936 3365.6574,-187.4772\"/>\n<polygon fill=\"#000000\" stroke=\"#000000\" points=\"3367.0274,-190.7109 3375.4289,-184.2561 3364.8359,-184.0628 3367.0274,-190.7109\"/>\n</g>\n<!-- 27 -->\n<g id=\"node28\" class=\"node\">\n<title>27</title>\n<path fill=\"#92f1d1\" stroke=\"#000000\" d=\"M3128.5,-68C3128.5,-68 2917.5,-68 2917.5,-68 2911.5,-68 2905.5,-62 2905.5,-56 2905.5,-56 2905.5,-12 2905.5,-12 2905.5,-6 2911.5,0 2917.5,0 2917.5,0 3128.5,0 3128.5,0 3134.5,0 3140.5,-6 3140.5,-12 3140.5,-12 3140.5,-56 3140.5,-56 3140.5,-62 3134.5,-68 3128.5,-68\"/>\n<text text-anchor=\"start\" x=\"2985\" y=\"-52.8\" font-family=\"Helvetica,sans-Serif\" font-size=\"14.00\" fill=\"#000000\">gini = 0.554</text>\n<text text-anchor=\"start\" x=\"2975\" y=\"-37.8\" font-family=\"Helvetica,sans-Serif\" font-size=\"14.00\" fill=\"#000000\">samples = 308</text>\n<text text-anchor=\"start\" x=\"2913.5\" y=\"-22.8\" font-family=\"Helvetica,sans-Serif\" font-size=\"14.00\" fill=\"#000000\">value = [16, 29, 0, 195, 56, 9, 3, 0]</text>\n<text text-anchor=\"start\" x=\"2937.5\" y=\"-7.8\" font-family=\"Helvetica,sans-Serif\" font-size=\"14.00\" fill=\"#000000\">class = SoltEst_BChumP3</text>\n</g>\n<!-- 26&#45;&gt;27 -->\n<g id=\"edge27\" class=\"edge\">\n<title>26&#45;&gt;27</title>\n<path fill=\"none\" stroke=\"#000000\" d=\"M3091.4124,-103.9815C3082.338,-94.6989 3072.7121,-84.8522 3063.6357,-75.5677\"/>\n<polygon fill=\"#000000\" stroke=\"#000000\" points=\"3065.9887,-72.9678 3056.4954,-68.2637 3060.9831,-77.8611 3065.9887,-72.9678\"/>\n</g>\n<!-- 28 -->\n<g id=\"node29\" class=\"node\">\n<title>28</title>\n<path fill=\"#c9e53c\" stroke=\"#000000\" d=\"M3349,-68C3349,-68 3171,-68 3171,-68 3165,-68 3159,-62 3159,-56 3159,-56 3159,-12 3159,-12 3159,-6 3165,0 3171,0 3171,0 3349,0 3349,0 3355,0 3361,-6 3361,-12 3361,-12 3361,-56 3361,-56 3361,-62 3355,-68 3349,-68\"/>\n<text text-anchor=\"start\" x=\"3222\" y=\"-52.8\" font-family=\"Helvetica,sans-Serif\" font-size=\"14.00\" fill=\"#000000\">gini = 0.028</text>\n<text text-anchor=\"start\" x=\"3216\" y=\"-37.8\" font-family=\"Helvetica,sans-Serif\" font-size=\"14.00\" fill=\"#000000\">samples = 70</text>\n<text text-anchor=\"start\" x=\"3167\" y=\"-22.8\" font-family=\"Helvetica,sans-Serif\" font-size=\"14.00\" fill=\"#000000\">value = [1, 69, 0, 0, 0, 0, 0, 0]</text>\n<text text-anchor=\"start\" x=\"3197\" y=\"-7.8\" font-family=\"Helvetica,sans-Serif\" font-size=\"14.00\" fill=\"#000000\">class = SoltEst_BM</text>\n</g>\n<!-- 26&#45;&gt;28 -->\n<g id=\"edge28\" class=\"edge\">\n<title>26&#45;&gt;28</title>\n<path fill=\"none\" stroke=\"#000000\" d=\"M3179.6625,-103.9815C3190.5297,-94.5151 3202.0705,-84.462 3212.9135,-75.0168\"/>\n<polygon fill=\"#000000\" stroke=\"#000000\" points=\"3215.4245,-77.4712 3220.6659,-68.2637 3210.8266,-72.1929 3215.4245,-77.4712\"/>\n</g>\n<!-- 30 -->\n<g id=\"node31\" class=\"node\">\n<title>30</title>\n<path fill=\"#65b3eb\" stroke=\"#000000\" d=\"M3594.5,-68C3594.5,-68 3391.5,-68 3391.5,-68 3385.5,-68 3379.5,-62 3379.5,-56 3379.5,-56 3379.5,-12 3379.5,-12 3379.5,-6 3385.5,0 3391.5,0 3391.5,0 3594.5,0 3594.5,0 3600.5,0 3606.5,-6 3606.5,-12 3606.5,-12 3606.5,-56 3606.5,-56 3606.5,-62 3600.5,-68 3594.5,-68\"/>\n<text text-anchor=\"start\" x=\"3455\" y=\"-52.8\" font-family=\"Helvetica,sans-Serif\" font-size=\"14.00\" fill=\"#000000\">gini = 0.351</text>\n<text text-anchor=\"start\" x=\"3445\" y=\"-37.8\" font-family=\"Helvetica,sans-Serif\" font-size=\"14.00\" fill=\"#000000\">samples = 232</text>\n<text text-anchor=\"start\" x=\"3387.5\" y=\"-22.8\" font-family=\"Helvetica,sans-Serif\" font-size=\"14.00\" fill=\"#000000\">value = [16, 4, 1, 20, 185, 6, 0, 0]</text>\n<text text-anchor=\"start\" x=\"3425\" y=\"-7.8\" font-family=\"Helvetica,sans-Serif\" font-size=\"14.00\" fill=\"#000000\">class = Desb_Molino</text>\n</g>\n<!-- 29&#45;&gt;30 -->\n<g id=\"edge30\" class=\"edge\">\n<title>29&#45;&gt;30</title>\n<path fill=\"none\" stroke=\"#000000\" d=\"M3493,-103.9815C3493,-95.618 3493,-86.7965 3493,-78.3409\"/>\n<polygon fill=\"#000000\" stroke=\"#000000\" points=\"3496.5001,-78.2636 3493,-68.2637 3489.5001,-78.2637 3496.5001,-78.2636\"/>\n</g>\n<!-- 31 -->\n<g id=\"node32\" class=\"node\">\n<title>31</title>\n<path fill=\"#7861ea\" stroke=\"#000000\" d=\"M3815,-68C3815,-68 3637,-68 3637,-68 3631,-68 3625,-62 3625,-56 3625,-56 3625,-12 3625,-12 3625,-6 3631,0 3637,0 3637,0 3815,0 3815,0 3821,0 3827,-6 3827,-12 3827,-12 3827,-56 3827,-56 3827,-62 3821,-68 3815,-68\"/>\n<text text-anchor=\"start\" x=\"3688\" y=\"-52.8\" font-family=\"Helvetica,sans-Serif\" font-size=\"14.00\" fill=\"#000000\">gini = 0.278</text>\n<text text-anchor=\"start\" x=\"3682\" y=\"-37.8\" font-family=\"Helvetica,sans-Serif\" font-size=\"14.00\" fill=\"#000000\">samples = 24</text>\n<text text-anchor=\"start\" x=\"3633\" y=\"-22.8\" font-family=\"Helvetica,sans-Serif\" font-size=\"14.00\" fill=\"#000000\">value = [0, 0, 0, 0, 4, 20, 0, 0]</text>\n<text text-anchor=\"start\" x=\"3655.5\" y=\"-7.8\" font-family=\"Helvetica,sans-Serif\" font-size=\"14.00\" fill=\"#000000\">class = Desal_Acople</text>\n</g>\n<!-- 29&#45;&gt;31 -->\n<g id=\"edge31\" class=\"edge\">\n<title>29&#45;&gt;31</title>\n<path fill=\"none\" stroke=\"#000000\" d=\"M3579.7606,-103.9815C3601.2876,-93.68 3624.2664,-82.6837 3645.4803,-72.532\"/>\n<polygon fill=\"#000000\" stroke=\"#000000\" points=\"3647.2622,-75.5594 3654.7717,-68.0856 3644.2405,-69.2452 3647.2622,-75.5594\"/>\n</g>\n<!-- 33 -->\n<g id=\"node34\" class=\"node\">\n<title>33</title>\n<path fill=\"#6cea61\" stroke=\"#000000\" d=\"M4831,-425C4831,-425 4571,-425 4571,-425 4565,-425 4559,-419 4559,-413 4559,-413 4559,-354 4559,-354 4559,-348 4565,-342 4571,-342 4571,-342 4831,-342 4831,-342 4837,-342 4843,-348 4843,-354 4843,-354 4843,-413 4843,-413 4843,-419 4837,-425 4831,-425\"/>\n<text text-anchor=\"start\" x=\"4640\" y=\"-409.8\" font-family=\"Helvetica,sans-Serif\" font-size=\"14.00\" fill=\"#000000\">DIAG3_1X ≤ 7.187</text>\n<text text-anchor=\"start\" x=\"4663\" y=\"-394.8\" font-family=\"Helvetica,sans-Serif\" font-size=\"14.00\" fill=\"#000000\">gini = 0.326</text>\n<text text-anchor=\"start\" x=\"4649\" y=\"-379.8\" font-family=\"Helvetica,sans-Serif\" font-size=\"14.00\" fill=\"#000000\">samples = 2993</text>\n<text text-anchor=\"start\" x=\"4567\" y=\"-364.8\" font-family=\"Helvetica,sans-Serif\" font-size=\"14.00\" fill=\"#000000\">value = [171, 64, 2438, 36, 250, 17, 11, 6]</text>\n<text text-anchor=\"start\" x=\"4615.5\" y=\"-349.8\" font-family=\"Helvetica,sans-Serif\" font-size=\"14.00\" fill=\"#000000\">class = SoltEst_BChumP4</text>\n</g>\n<!-- 32&#45;&gt;33 -->\n<g id=\"edge33\" class=\"edge\">\n<title>32&#45;&gt;33</title>\n<path fill=\"none\" stroke=\"#000000\" d=\"M4701,-460.8796C4701,-452.6838 4701,-443.9891 4701,-435.5013\"/>\n<polygon fill=\"#000000\" stroke=\"#000000\" points=\"4704.5001,-435.298 4701,-425.2981 4697.5001,-435.2981 4704.5001,-435.298\"/>\n</g>\n<!-- 48 -->\n<g id=\"node49\" class=\"node\">\n<title>48</title>\n<path fill=\"#d2ea5d\" stroke=\"#000000\" d=\"M6246.5,-425C6246.5,-425 6043.5,-425 6043.5,-425 6037.5,-425 6031.5,-419 6031.5,-413 6031.5,-413 6031.5,-354 6031.5,-354 6031.5,-348 6037.5,-342 6043.5,-342 6043.5,-342 6246.5,-342 6246.5,-342 6252.5,-342 6258.5,-348 6258.5,-354 6258.5,-354 6258.5,-413 6258.5,-413 6258.5,-419 6252.5,-425 6246.5,-425\"/>\n<text text-anchor=\"start\" x=\"6103\" y=\"-409.8\" font-family=\"Helvetica,sans-Serif\" font-size=\"14.00\" fill=\"#000000\">AXI2 ≤ 3.053</text>\n<text text-anchor=\"start\" x=\"6111.5\" y=\"-394.8\" font-family=\"Helvetica,sans-Serif\" font-size=\"14.00\" fill=\"#000000\">gini = 0.28</text>\n<text text-anchor=\"start\" x=\"6097\" y=\"-379.8\" font-family=\"Helvetica,sans-Serif\" font-size=\"14.00\" fill=\"#000000\">samples = 424</text>\n<text text-anchor=\"start\" x=\"6039.5\" y=\"-364.8\" font-family=\"Helvetica,sans-Serif\" font-size=\"14.00\" fill=\"#000000\">value = [10, 356, 51, 0, 7, 0, 0, 0]</text>\n<text text-anchor=\"start\" x=\"6082\" y=\"-349.8\" font-family=\"Helvetica,sans-Serif\" font-size=\"14.00\" fill=\"#000000\">class = SoltEst_BM</text>\n</g>\n<!-- 32&#45;&gt;48 -->\n<g id=\"edge48\" class=\"edge\">\n<title>32&#45;&gt;48</title>\n<path fill=\"none\" stroke=\"#000000\" d=\"M4847.7401,-490.4072C5132.4959,-466.9404 5755.3186,-415.6136 6020.9624,-393.7219\"/>\n<polygon fill=\"#000000\" stroke=\"#000000\" points=\"6021.3524,-397.2018 6031.0312,-392.8922 6020.7775,-390.2254 6021.3524,-397.2018\"/>\n</g>\n<!-- 34 -->\n<g id=\"node35\" class=\"node\">\n<title>34</title>\n<path fill=\"#62e956\" stroke=\"#000000\" d=\"M4703,-306C4703,-306 4459,-306 4459,-306 4453,-306 4447,-300 4447,-294 4447,-294 4447,-235 4447,-235 4447,-229 4453,-223 4459,-223 4459,-223 4703,-223 4703,-223 4709,-223 4715,-229 4715,-235 4715,-235 4715,-294 4715,-294 4715,-300 4709,-306 4703,-306\"/>\n<text text-anchor=\"start\" x=\"4526\" y=\"-290.8\" font-family=\"Helvetica,sans-Serif\" font-size=\"14.00\" fill=\"#000000\">AXI2_1X ≤ 3.117</text>\n<text text-anchor=\"start\" x=\"4543\" y=\"-275.8\" font-family=\"Helvetica,sans-Serif\" font-size=\"14.00\" fill=\"#000000\">gini = 0.251</text>\n<text text-anchor=\"start\" x=\"4529\" y=\"-260.8\" font-family=\"Helvetica,sans-Serif\" font-size=\"14.00\" fill=\"#000000\">samples = 2793</text>\n<text text-anchor=\"start\" x=\"4455\" y=\"-245.8\" font-family=\"Helvetica,sans-Serif\" font-size=\"14.00\" fill=\"#000000\">value = [153, 63, 2407, 3, 144, 6, 11, 6]</text>\n<text text-anchor=\"start\" x=\"4495.5\" y=\"-230.8\" font-family=\"Helvetica,sans-Serif\" font-size=\"14.00\" fill=\"#000000\">class = SoltEst_BChumP4</text>\n</g>\n<!-- 33&#45;&gt;34 -->\n<g id=\"edge34\" class=\"edge\">\n<title>33&#45;&gt;34</title>\n<path fill=\"none\" stroke=\"#000000\" d=\"M4659.0298,-341.8796C4649.7662,-332.6931 4639.8704,-322.8798 4630.3448,-313.4336\"/>\n<polygon fill=\"#000000\" stroke=\"#000000\" points=\"4632.7144,-310.8543 4623.1493,-306.2981 4627.7854,-315.8247 4632.7144,-310.8543\"/>\n</g>\n<!-- 41 -->\n<g id=\"node42\" class=\"node\">\n<title>41</title>\n<path fill=\"#a8d4f4\" stroke=\"#000000\" d=\"M5148.5,-306C5148.5,-306 4929.5,-306 4929.5,-306 4923.5,-306 4917.5,-300 4917.5,-294 4917.5,-294 4917.5,-235 4917.5,-235 4917.5,-229 4923.5,-223 4929.5,-223 4929.5,-223 5148.5,-223 5148.5,-223 5154.5,-223 5160.5,-229 5160.5,-235 5160.5,-235 5160.5,-294 5160.5,-294 5160.5,-300 5154.5,-306 5148.5,-306\"/>\n<text text-anchor=\"start\" x=\"4991\" y=\"-290.8\" font-family=\"Helvetica,sans-Serif\" font-size=\"14.00\" fill=\"#000000\">DIAG1 ≤ 4.941</text>\n<text text-anchor=\"start\" x=\"5001\" y=\"-275.8\" font-family=\"Helvetica,sans-Serif\" font-size=\"14.00\" fill=\"#000000\">gini = 0.657</text>\n<text text-anchor=\"start\" x=\"4991\" y=\"-260.8\" font-family=\"Helvetica,sans-Serif\" font-size=\"14.00\" fill=\"#000000\">samples = 200</text>\n<text text-anchor=\"start\" x=\"4925.5\" y=\"-245.8\" font-family=\"Helvetica,sans-Serif\" font-size=\"14.00\" fill=\"#000000\">value = [18, 1, 31, 33, 106, 11, 0, 0]</text>\n<text text-anchor=\"start\" x=\"4971\" y=\"-230.8\" font-family=\"Helvetica,sans-Serif\" font-size=\"14.00\" fill=\"#000000\">class = Desb_Molino</text>\n</g>\n<!-- 33&#45;&gt;41 -->\n<g id=\"edge41\" class=\"edge\">\n<title>33&#45;&gt;41</title>\n<path fill=\"none\" stroke=\"#000000\" d=\"M4819.216,-341.8796C4848.9338,-331.4168 4880.9612,-320.1409 4911.1273,-309.5203\"/>\n<polygon fill=\"#000000\" stroke=\"#000000\" points=\"4912.5806,-312.7193 4920.8508,-306.0969 4910.2559,-306.1165 4912.5806,-312.7193\"/>\n</g>\n<!-- 35 -->\n<g id=\"node36\" class=\"node\">\n<title>35</title>\n<path fill=\"#58e74c\" stroke=\"#000000\" d=\"M4317.5,-187C4317.5,-187 4098.5,-187 4098.5,-187 4092.5,-187 4086.5,-181 4086.5,-175 4086.5,-175 4086.5,-116 4086.5,-116 4086.5,-110 4092.5,-104 4098.5,-104 4098.5,-104 4317.5,-104 4317.5,-104 4323.5,-104 4329.5,-110 4329.5,-116 4329.5,-116 4329.5,-175 4329.5,-175 4329.5,-181 4323.5,-187 4317.5,-187\"/>\n<text text-anchor=\"start\" x=\"4143\" y=\"-171.8\" font-family=\"Helvetica,sans-Serif\" font-size=\"14.00\" fill=\"#000000\">DIAG4_1X ≤ 10.459</text>\n<text text-anchor=\"start\" x=\"4170\" y=\"-156.8\" font-family=\"Helvetica,sans-Serif\" font-size=\"14.00\" fill=\"#000000\">gini = 0.164</text>\n<text text-anchor=\"start\" x=\"4156\" y=\"-141.8\" font-family=\"Helvetica,sans-Serif\" font-size=\"14.00\" fill=\"#000000\">samples = 2289</text>\n<text text-anchor=\"start\" x=\"4094.5\" y=\"-126.8\" font-family=\"Helvetica,sans-Serif\" font-size=\"14.00\" fill=\"#000000\">value = [142, 9, 2088, 1, 45, 0, 0, 4]</text>\n<text text-anchor=\"start\" x=\"4122.5\" y=\"-111.8\" font-family=\"Helvetica,sans-Serif\" font-size=\"14.00\" fill=\"#000000\">class = SoltEst_BChumP4</text>\n</g>\n<!-- 34&#45;&gt;35 -->\n<g id=\"edge35\" class=\"edge\">\n<title>34&#45;&gt;35</title>\n<path fill=\"none\" stroke=\"#000000\" d=\"M4450.8046,-222.9631C4414.7274,-211.4532 4375.5484,-198.9538 4339.4029,-187.4221\"/>\n<polygon fill=\"#000000\" stroke=\"#000000\" points=\"4340.3806,-184.0603 4329.7898,-184.3552 4338.2529,-190.7291 4340.3806,-184.0603\"/>\n</g>\n<!-- 38 -->\n<g id=\"node39\" class=\"node\">\n<title>38</title>\n<path fill=\"#9bf193\" stroke=\"#000000\" d=\"M4690.5,-187C4690.5,-187 4471.5,-187 4471.5,-187 4465.5,-187 4459.5,-181 4459.5,-175 4459.5,-175 4459.5,-116 4459.5,-116 4459.5,-110 4465.5,-104 4471.5,-104 4471.5,-104 4690.5,-104 4690.5,-104 4696.5,-104 4702.5,-110 4702.5,-116 4702.5,-116 4702.5,-175 4702.5,-175 4702.5,-181 4696.5,-187 4690.5,-187\"/>\n<text text-anchor=\"start\" x=\"4529\" y=\"-171.8\" font-family=\"Helvetica,sans-Serif\" font-size=\"14.00\" fill=\"#000000\">DIAG4 ≤ 12.939</text>\n<text text-anchor=\"start\" x=\"4543\" y=\"-156.8\" font-family=\"Helvetica,sans-Serif\" font-size=\"14.00\" fill=\"#000000\">gini = 0.548</text>\n<text text-anchor=\"start\" x=\"4533\" y=\"-141.8\" font-family=\"Helvetica,sans-Serif\" font-size=\"14.00\" fill=\"#000000\">samples = 504</text>\n<text text-anchor=\"start\" x=\"4467.5\" y=\"-126.8\" font-family=\"Helvetica,sans-Serif\" font-size=\"14.00\" fill=\"#000000\">value = [11, 54, 319, 2, 99, 6, 11, 2]</text>\n<text text-anchor=\"start\" x=\"4495.5\" y=\"-111.8\" font-family=\"Helvetica,sans-Serif\" font-size=\"14.00\" fill=\"#000000\">class = SoltEst_BChumP4</text>\n</g>\n<!-- 34&#45;&gt;38 -->\n<g id=\"edge38\" class=\"edge\">\n<title>34&#45;&gt;38</title>\n<path fill=\"none\" stroke=\"#000000\" d=\"M4581,-222.8796C4581,-214.6838 4581,-205.9891 4581,-197.5013\"/>\n<polygon fill=\"#000000\" stroke=\"#000000\" points=\"4584.5001,-197.298 4581,-187.2981 4577.5001,-197.2981 4584.5001,-197.298\"/>\n</g>\n<!-- 36 -->\n<g id=\"node37\" class=\"node\">\n<title>36</title>\n<path fill=\"#7fed75\" stroke=\"#000000\" d=\"M4060.5,-68C4060.5,-68 3857.5,-68 3857.5,-68 3851.5,-68 3845.5,-62 3845.5,-56 3845.5,-56 3845.5,-12 3845.5,-12 3845.5,-6 3851.5,0 3857.5,0 3857.5,0 4060.5,0 4060.5,0 4066.5,0 4072.5,-6 4072.5,-12 4072.5,-12 4072.5,-56 4072.5,-56 4072.5,-62 4066.5,-68 4060.5,-68\"/>\n<text text-anchor=\"start\" x=\"3921\" y=\"-52.8\" font-family=\"Helvetica,sans-Serif\" font-size=\"14.00\" fill=\"#000000\">gini = 0.376</text>\n<text text-anchor=\"start\" x=\"3911\" y=\"-37.8\" font-family=\"Helvetica,sans-Serif\" font-size=\"14.00\" fill=\"#000000\">samples = 486</text>\n<text text-anchor=\"start\" x=\"3853.5\" y=\"-22.8\" font-family=\"Helvetica,sans-Serif\" font-size=\"14.00\" fill=\"#000000\">value = [102, 5, 370, 0, 6, 0, 0, 3]</text>\n<text text-anchor=\"start\" x=\"3873.5\" y=\"-7.8\" font-family=\"Helvetica,sans-Serif\" font-size=\"14.00\" fill=\"#000000\">class = SoltEst_BChumP4</text>\n</g>\n<!-- 35&#45;&gt;36 -->\n<g id=\"edge36\" class=\"edge\">\n<title>35&#45;&gt;36</title>\n<path fill=\"none\" stroke=\"#000000\" d=\"M4115.2816,-103.9815C4092.0701,-93.5876 4067.279,-82.4864 4044.4394,-72.259\"/>\n<polygon fill=\"#000000\" stroke=\"#000000\" points=\"4045.6766,-68.9782 4035.1195,-68.0856 4042.8158,-75.3669 4045.6766,-68.9782\"/>\n</g>\n<!-- 37 -->\n<g id=\"node38\" class=\"node\">\n<title>37</title>\n<path fill=\"#50e643\" stroke=\"#000000\" d=\"M4313.5,-68C4313.5,-68 4102.5,-68 4102.5,-68 4096.5,-68 4090.5,-62 4090.5,-56 4090.5,-56 4090.5,-12 4090.5,-12 4090.5,-6 4096.5,0 4102.5,0 4102.5,0 4313.5,0 4313.5,0 4319.5,0 4325.5,-6 4325.5,-12 4325.5,-12 4325.5,-56 4325.5,-56 4325.5,-62 4319.5,-68 4313.5,-68\"/>\n<text text-anchor=\"start\" x=\"4170\" y=\"-52.8\" font-family=\"Helvetica,sans-Serif\" font-size=\"14.00\" fill=\"#000000\">gini = 0.091</text>\n<text text-anchor=\"start\" x=\"4156\" y=\"-37.8\" font-family=\"Helvetica,sans-Serif\" font-size=\"14.00\" fill=\"#000000\">samples = 1803</text>\n<text text-anchor=\"start\" x=\"4098.5\" y=\"-22.8\" font-family=\"Helvetica,sans-Serif\" font-size=\"14.00\" fill=\"#000000\">value = [40, 4, 1718, 1, 39, 0, 0, 1]</text>\n<text text-anchor=\"start\" x=\"4122.5\" y=\"-7.8\" font-family=\"Helvetica,sans-Serif\" font-size=\"14.00\" fill=\"#000000\">class = SoltEst_BChumP4</text>\n</g>\n<!-- 35&#45;&gt;37 -->\n<g id=\"edge37\" class=\"edge\">\n<title>35&#45;&gt;37</title>\n<path fill=\"none\" stroke=\"#000000\" d=\"M4208,-103.9815C4208,-95.618 4208,-86.7965 4208,-78.3409\"/>\n<polygon fill=\"#000000\" stroke=\"#000000\" points=\"4211.5001,-78.2636 4208,-68.2637 4204.5001,-78.2637 4211.5001,-78.2636\"/>\n</g>\n<!-- 39 -->\n<g id=\"node40\" class=\"node\">\n<title>39</title>\n<path fill=\"#e9f4fc\" stroke=\"#000000\" d=\"M4550,-68C4550,-68 4356,-68 4356,-68 4350,-68 4344,-62 4344,-56 4344,-56 4344,-12 4344,-12 4344,-6 4350,0 4356,0 4356,0 4550,0 4550,0 4556,0 4562,-6 4562,-12 4562,-12 4562,-56 4562,-56 4562,-62 4556,-68 4550,-68\"/>\n<text text-anchor=\"start\" x=\"4415\" y=\"-52.8\" font-family=\"Helvetica,sans-Serif\" font-size=\"14.00\" fill=\"#000000\">gini = 0.647</text>\n<text text-anchor=\"start\" x=\"4405\" y=\"-37.8\" font-family=\"Helvetica,sans-Serif\" font-size=\"14.00\" fill=\"#000000\">samples = 204</text>\n<text text-anchor=\"start\" x=\"4352\" y=\"-22.8\" font-family=\"Helvetica,sans-Serif\" font-size=\"14.00\" fill=\"#000000\">value = [8, 27, 76, 2, 90, 1, 0, 0]</text>\n<text text-anchor=\"start\" x=\"4385\" y=\"-7.8\" font-family=\"Helvetica,sans-Serif\" font-size=\"14.00\" fill=\"#000000\">class = Desb_Molino</text>\n</g>\n<!-- 38&#45;&gt;39 -->\n<g id=\"edge39\" class=\"edge\">\n<title>38&#45;&gt;39</title>\n<path fill=\"none\" stroke=\"#000000\" d=\"M4533.3375,-103.9815C4522.4703,-94.5151 4510.9295,-84.462 4500.0865,-75.0168\"/>\n<polygon fill=\"#000000\" stroke=\"#000000\" points=\"4502.1734,-72.1929 4492.3341,-68.2637 4497.5755,-77.4712 4502.1734,-72.1929\"/>\n</g>\n<!-- 40 -->\n<g id=\"node41\" class=\"node\">\n<title>40</title>\n<path fill=\"#6dea62\" stroke=\"#000000\" d=\"M4795.5,-68C4795.5,-68 4592.5,-68 4592.5,-68 4586.5,-68 4580.5,-62 4580.5,-56 4580.5,-56 4580.5,-12 4580.5,-12 4580.5,-6 4586.5,0 4592.5,0 4592.5,0 4795.5,0 4795.5,0 4801.5,0 4807.5,-6 4807.5,-12 4807.5,-12 4807.5,-56 4807.5,-56 4807.5,-62 4801.5,-68 4795.5,-68\"/>\n<text text-anchor=\"start\" x=\"4656\" y=\"-52.8\" font-family=\"Helvetica,sans-Serif\" font-size=\"14.00\" fill=\"#000000\">gini = 0.333</text>\n<text text-anchor=\"start\" x=\"4646\" y=\"-37.8\" font-family=\"Helvetica,sans-Serif\" font-size=\"14.00\" fill=\"#000000\">samples = 300</text>\n<text text-anchor=\"start\" x=\"4588.5\" y=\"-22.8\" font-family=\"Helvetica,sans-Serif\" font-size=\"14.00\" fill=\"#000000\">value = [3, 27, 243, 0, 9, 5, 11, 2]</text>\n<text text-anchor=\"start\" x=\"4608.5\" y=\"-7.8\" font-family=\"Helvetica,sans-Serif\" font-size=\"14.00\" fill=\"#000000\">class = SoltEst_BChumP4</text>\n</g>\n<!-- 38&#45;&gt;40 -->\n<g id=\"edge40\" class=\"edge\">\n<title>38&#45;&gt;40</title>\n<path fill=\"none\" stroke=\"#000000\" d=\"M4623.077,-103.9815C4632.5776,-94.607 4642.6613,-84.6572 4652.1524,-75.2921\"/>\n<polygon fill=\"#000000\" stroke=\"#000000\" points=\"4654.6155,-77.7787 4659.2754,-68.2637 4649.6989,-72.796 4654.6155,-77.7787\"/>\n</g>\n<!-- 42 -->\n<g id=\"node43\" class=\"node\">\n<title>42</title>\n<path fill=\"#98ccf1\" stroke=\"#000000\" d=\"M5140.5,-187C5140.5,-187 4937.5,-187 4937.5,-187 4931.5,-187 4925.5,-181 4925.5,-175 4925.5,-175 4925.5,-116 4925.5,-116 4925.5,-110 4931.5,-104 4937.5,-104 4937.5,-104 5140.5,-104 5140.5,-104 5146.5,-104 5152.5,-110 5152.5,-116 5152.5,-116 5152.5,-175 5152.5,-175 5152.5,-181 5146.5,-187 5140.5,-187\"/>\n<text text-anchor=\"start\" x=\"4997\" y=\"-171.8\" font-family=\"Helvetica,sans-Serif\" font-size=\"14.00\" fill=\"#000000\">AXI2 ≤ 4.644</text>\n<text text-anchor=\"start\" x=\"5001\" y=\"-156.8\" font-family=\"Helvetica,sans-Serif\" font-size=\"14.00\" fill=\"#000000\">gini = 0.567</text>\n<text text-anchor=\"start\" x=\"4991\" y=\"-141.8\" font-family=\"Helvetica,sans-Serif\" font-size=\"14.00\" fill=\"#000000\">samples = 146</text>\n<text text-anchor=\"start\" x=\"4933.5\" y=\"-126.8\" font-family=\"Helvetica,sans-Serif\" font-size=\"14.00\" fill=\"#000000\">value = [13, 1, 29, 2, 90, 11, 0, 0]</text>\n<text text-anchor=\"start\" x=\"4971\" y=\"-111.8\" font-family=\"Helvetica,sans-Serif\" font-size=\"14.00\" fill=\"#000000\">class = Desb_Molino</text>\n</g>\n<!-- 41&#45;&gt;42 -->\n<g id=\"edge42\" class=\"edge\">\n<title>41&#45;&gt;42</title>\n<path fill=\"none\" stroke=\"#000000\" d=\"M5039,-222.8796C5039,-214.6838 5039,-205.9891 5039,-197.5013\"/>\n<polygon fill=\"#000000\" stroke=\"#000000\" points=\"5042.5001,-197.298 5039,-187.2981 5035.5001,-197.2981 5042.5001,-197.298\"/>\n</g>\n<!-- 45 -->\n<g id=\"node46\" class=\"node\">\n<title>45</title>\n<path fill=\"#b1f5de\" stroke=\"#000000\" d=\"M5476,-187C5476,-187 5290,-187 5290,-187 5284,-187 5278,-181 5278,-175 5278,-175 5278,-116 5278,-116 5278,-110 5284,-104 5290,-104 5290,-104 5476,-104 5476,-104 5482,-104 5488,-110 5488,-116 5488,-116 5488,-175 5488,-175 5488,-181 5482,-187 5476,-187\"/>\n<text text-anchor=\"start\" x=\"5331\" y=\"-171.8\" font-family=\"Helvetica,sans-Serif\" font-size=\"14.00\" fill=\"#000000\">DIAG4 ≤ 11.434</text>\n<text text-anchor=\"start\" x=\"5345\" y=\"-156.8\" font-family=\"Helvetica,sans-Serif\" font-size=\"14.00\" fill=\"#000000\">gini = 0.573</text>\n<text text-anchor=\"start\" x=\"5339\" y=\"-141.8\" font-family=\"Helvetica,sans-Serif\" font-size=\"14.00\" fill=\"#000000\">samples = 54</text>\n<text text-anchor=\"start\" x=\"5286\" y=\"-126.8\" font-family=\"Helvetica,sans-Serif\" font-size=\"14.00\" fill=\"#000000\">value = [5, 0, 2, 31, 16, 0, 0, 0]</text>\n<text text-anchor=\"start\" x=\"5297.5\" y=\"-111.8\" font-family=\"Helvetica,sans-Serif\" font-size=\"14.00\" fill=\"#000000\">class = SoltEst_BChumP3</text>\n</g>\n<!-- 41&#45;&gt;45 -->\n<g id=\"edge45\" class=\"edge\">\n<title>41&#45;&gt;45</title>\n<path fill=\"none\" stroke=\"#000000\" d=\"M5159.3145,-222.8796C5194.6458,-210.6574 5233.1846,-197.3257 5268.1644,-185.2251\"/>\n<polygon fill=\"#000000\" stroke=\"#000000\" points=\"5269.6242,-188.4237 5277.9304,-181.8467 5267.3357,-181.8083 5269.6242,-188.4237\"/>\n</g>\n<!-- 43 -->\n<g id=\"node44\" class=\"node\">\n<title>43</title>\n<path fill=\"#adf3a6\" stroke=\"#000000\" d=\"M5024,-68C5024,-68 4838,-68 4838,-68 4832,-68 4826,-62 4826,-56 4826,-56 4826,-12 4826,-12 4826,-6 4832,0 4838,0 4838,0 5024,0 5024,0 5030,0 5036,-6 5036,-12 5036,-12 5036,-56 5036,-56 5036,-62 5030,-68 5024,-68\"/>\n<text text-anchor=\"start\" x=\"4893\" y=\"-52.8\" font-family=\"Helvetica,sans-Serif\" font-size=\"14.00\" fill=\"#000000\">gini = 0.563</text>\n<text text-anchor=\"start\" x=\"4887\" y=\"-37.8\" font-family=\"Helvetica,sans-Serif\" font-size=\"14.00\" fill=\"#000000\">samples = 39</text>\n<text text-anchor=\"start\" x=\"4834\" y=\"-22.8\" font-family=\"Helvetica,sans-Serif\" font-size=\"14.00\" fill=\"#000000\">value = [6, 0, 23, 0, 10, 0, 0, 0]</text>\n<text text-anchor=\"start\" x=\"4845.5\" y=\"-7.8\" font-family=\"Helvetica,sans-Serif\" font-size=\"14.00\" fill=\"#000000\">class = SoltEst_BChumP4</text>\n</g>\n<!-- 42&#45;&gt;43 -->\n<g id=\"edge43\" class=\"edge\">\n<title>42&#45;&gt;43</title>\n<path fill=\"none\" stroke=\"#000000\" d=\"M4998.7848,-103.9815C4989.7936,-94.6989 4980.256,-84.8522 4971.2629,-75.5677\"/>\n<polygon fill=\"#000000\" stroke=\"#000000\" points=\"4973.6596,-73.0115 4964.1881,-68.2637 4968.6316,-77.8817 4973.6596,-73.0115\"/>\n</g>\n<!-- 44 -->\n<g id=\"node45\" class=\"node\">\n<title>44</title>\n<path fill=\"#71b9ec\" stroke=\"#000000\" d=\"M5252,-68C5252,-68 5066,-68 5066,-68 5060,-68 5054,-62 5054,-56 5054,-56 5054,-12 5054,-12 5054,-6 5060,0 5066,0 5066,0 5252,0 5252,0 5258,0 5264,-6 5264,-12 5264,-12 5264,-56 5264,-56 5264,-62 5258,-68 5252,-68\"/>\n<text text-anchor=\"start\" x=\"5121\" y=\"-52.8\" font-family=\"Helvetica,sans-Serif\" font-size=\"14.00\" fill=\"#000000\">gini = 0.423</text>\n<text text-anchor=\"start\" x=\"5111\" y=\"-37.8\" font-family=\"Helvetica,sans-Serif\" font-size=\"14.00\" fill=\"#000000\">samples = 107</text>\n<text text-anchor=\"start\" x=\"5062\" y=\"-22.8\" font-family=\"Helvetica,sans-Serif\" font-size=\"14.00\" fill=\"#000000\">value = [7, 1, 6, 2, 80, 11, 0, 0]</text>\n<text text-anchor=\"start\" x=\"5091\" y=\"-7.8\" font-family=\"Helvetica,sans-Serif\" font-size=\"14.00\" fill=\"#000000\">class = Desb_Molino</text>\n</g>\n<!-- 42&#45;&gt;44 -->\n<g id=\"edge44\" class=\"edge\">\n<title>42&#45;&gt;44</title>\n<path fill=\"none\" stroke=\"#000000\" d=\"M5083.6836,-103.9815C5093.7727,-94.607 5104.481,-84.6572 5114.5601,-75.2921\"/>\n<polygon fill=\"#000000\" stroke=\"#000000\" points=\"5117.1809,-77.6346 5122.1243,-68.2637 5112.4161,-72.5065 5117.1809,-77.6346\"/>\n</g>\n<!-- 46 -->\n<g id=\"node47\" class=\"node\">\n<title>46</title>\n<path fill=\"#daedfa\" stroke=\"#000000\" d=\"M5472,-68C5472,-68 5294,-68 5294,-68 5288,-68 5282,-62 5282,-56 5282,-56 5282,-12 5282,-12 5282,-6 5288,0 5294,0 5294,0 5472,0 5472,0 5478,0 5484,-6 5484,-12 5484,-12 5484,-56 5484,-56 5484,-62 5478,-68 5472,-68\"/>\n<text text-anchor=\"start\" x=\"5345\" y=\"-52.8\" font-family=\"Helvetica,sans-Serif\" font-size=\"14.00\" fill=\"#000000\">gini = 0.614</text>\n<text text-anchor=\"start\" x=\"5339\" y=\"-37.8\" font-family=\"Helvetica,sans-Serif\" font-size=\"14.00\" fill=\"#000000\">samples = 25</text>\n<text text-anchor=\"start\" x=\"5290\" y=\"-22.8\" font-family=\"Helvetica,sans-Serif\" font-size=\"14.00\" fill=\"#000000\">value = [4, 0, 0, 9, 12, 0, 0, 0]</text>\n<text text-anchor=\"start\" x=\"5315\" y=\"-7.8\" font-family=\"Helvetica,sans-Serif\" font-size=\"14.00\" fill=\"#000000\">class = Desb_Molino</text>\n</g>\n<!-- 45&#45;&gt;46 -->\n<g id=\"edge46\" class=\"edge\">\n<title>45&#45;&gt;46</title>\n<path fill=\"none\" stroke=\"#000000\" d=\"M5383,-103.9815C5383,-95.618 5383,-86.7965 5383,-78.3409\"/>\n<polygon fill=\"#000000\" stroke=\"#000000\" points=\"5386.5001,-78.2636 5383,-68.2637 5379.5001,-78.2637 5386.5001,-78.2636\"/>\n</g>\n<!-- 47 -->\n<g id=\"node48\" class=\"node\">\n<title>47</title>\n<path fill=\"#70ecc3\" stroke=\"#000000\" d=\"M5692,-68C5692,-68 5514,-68 5514,-68 5508,-68 5502,-62 5502,-56 5502,-56 5502,-12 5502,-12 5502,-6 5508,0 5514,0 5514,0 5692,0 5692,0 5698,0 5704,-6 5704,-12 5704,-12 5704,-56 5704,-56 5704,-62 5698,-68 5692,-68\"/>\n<text text-anchor=\"start\" x=\"5573.5\" y=\"-52.8\" font-family=\"Helvetica,sans-Serif\" font-size=\"14.00\" fill=\"#000000\">gini = 0.4</text>\n<text text-anchor=\"start\" x=\"5559\" y=\"-37.8\" font-family=\"Helvetica,sans-Serif\" font-size=\"14.00\" fill=\"#000000\">samples = 29</text>\n<text text-anchor=\"start\" x=\"5510\" y=\"-22.8\" font-family=\"Helvetica,sans-Serif\" font-size=\"14.00\" fill=\"#000000\">value = [1, 0, 2, 22, 4, 0, 0, 0]</text>\n<text text-anchor=\"start\" x=\"5517.5\" y=\"-7.8\" font-family=\"Helvetica,sans-Serif\" font-size=\"14.00\" fill=\"#000000\">class = SoltEst_BChumP3</text>\n</g>\n<!-- 45&#45;&gt;47 -->\n<g id=\"edge47\" class=\"edge\">\n<title>45&#45;&gt;47</title>\n<path fill=\"none\" stroke=\"#000000\" d=\"M5464.9199,-103.9815C5485.1546,-93.7262 5506.748,-82.7823 5526.7032,-72.6686\"/>\n<polygon fill=\"#000000\" stroke=\"#000000\" points=\"5528.4083,-75.7283 5535.7459,-68.0856 5525.2438,-69.4845 5528.4083,-75.7283\"/>\n</g>\n<!-- 49 -->\n<g id=\"node50\" class=\"node\">\n<title>49</title>\n<path fill=\"#8bef82\" stroke=\"#000000\" d=\"M6234,-306C6234,-306 6056,-306 6056,-306 6050,-306 6044,-300 6044,-294 6044,-294 6044,-235 6044,-235 6044,-229 6050,-223 6056,-223 6056,-223 6234,-223 6234,-223 6240,-223 6246,-229 6246,-235 6246,-235 6246,-294 6246,-294 6246,-300 6240,-306 6234,-306\"/>\n<text text-anchor=\"start\" x=\"6080\" y=\"-290.8\" font-family=\"Helvetica,sans-Serif\" font-size=\"14.00\" fill=\"#000000\">DIAG4_1X ≤ 18.746</text>\n<text text-anchor=\"start\" x=\"6107\" y=\"-275.8\" font-family=\"Helvetica,sans-Serif\" font-size=\"14.00\" fill=\"#000000\">gini = 0.452</text>\n<text text-anchor=\"start\" x=\"6101\" y=\"-260.8\" font-family=\"Helvetica,sans-Serif\" font-size=\"14.00\" fill=\"#000000\">samples = 34</text>\n<text text-anchor=\"start\" x=\"6052\" y=\"-245.8\" font-family=\"Helvetica,sans-Serif\" font-size=\"14.00\" fill=\"#000000\">value = [0, 3, 24, 0, 7, 0, 0, 0]</text>\n<text text-anchor=\"start\" x=\"6059.5\" y=\"-230.8\" font-family=\"Helvetica,sans-Serif\" font-size=\"14.00\" fill=\"#000000\">class = SoltEst_BChumP4</text>\n</g>\n<!-- 48&#45;&gt;49 -->\n<g id=\"edge49\" class=\"edge\">\n<title>48&#45;&gt;49</title>\n<path fill=\"none\" stroke=\"#000000\" d=\"M6145,-341.8796C6145,-333.6838 6145,-324.9891 6145,-316.5013\"/>\n<polygon fill=\"#000000\" stroke=\"#000000\" points=\"6148.5001,-316.298 6145,-306.2981 6141.5001,-316.2981 6148.5001,-316.298\"/>\n</g>\n<!-- 56 -->\n<g id=\"node57\" class=\"node\">\n<title>56</title>\n<path fill=\"#cee84d\" stroke=\"#000000\" d=\"M6892.5,-306C6892.5,-306 6689.5,-306 6689.5,-306 6683.5,-306 6677.5,-300 6677.5,-294 6677.5,-294 6677.5,-235 6677.5,-235 6677.5,-229 6683.5,-223 6689.5,-223 6689.5,-223 6892.5,-223 6892.5,-223 6898.5,-223 6904.5,-229 6904.5,-235 6904.5,-235 6904.5,-294 6904.5,-294 6904.5,-300 6898.5,-306 6892.5,-306\"/>\n<text text-anchor=\"start\" x=\"6734\" y=\"-290.8\" font-family=\"Helvetica,sans-Serif\" font-size=\"14.00\" fill=\"#000000\">DIAG2_1X ≤ 8.62</text>\n<text text-anchor=\"start\" x=\"6753\" y=\"-275.8\" font-family=\"Helvetica,sans-Serif\" font-size=\"14.00\" fill=\"#000000\">gini = 0.175</text>\n<text text-anchor=\"start\" x=\"6743\" y=\"-260.8\" font-family=\"Helvetica,sans-Serif\" font-size=\"14.00\" fill=\"#000000\">samples = 390</text>\n<text text-anchor=\"start\" x=\"6685.5\" y=\"-245.8\" font-family=\"Helvetica,sans-Serif\" font-size=\"14.00\" fill=\"#000000\">value = [10, 353, 27, 0, 0, 0, 0, 0]</text>\n<text text-anchor=\"start\" x=\"6728\" y=\"-230.8\" font-family=\"Helvetica,sans-Serif\" font-size=\"14.00\" fill=\"#000000\">class = SoltEst_BM</text>\n</g>\n<!-- 48&#45;&gt;56 -->\n<g id=\"edge56\" class=\"edge\">\n<title>48&#45;&gt;56</title>\n<path fill=\"none\" stroke=\"#000000\" d=\"M6258.6341,-362.5674C6373.1394,-341.4743 6549.327,-309.0187 6667.2947,-287.2878\"/>\n<polygon fill=\"#000000\" stroke=\"#000000\" points=\"6668.2577,-290.6694 6677.4581,-285.4156 6666.9895,-283.7852 6668.2577,-290.6694\"/>\n</g>\n<!-- 50 -->\n<g id=\"node51\" class=\"node\">\n<title>50</title>\n<path fill=\"#56e749\" stroke=\"#000000\" d=\"M6126,-187C6126,-187 5948,-187 5948,-187 5942,-187 5936,-181 5936,-175 5936,-175 5936,-116 5936,-116 5936,-110 5942,-104 5948,-104 5948,-104 6126,-104 6126,-104 6132,-104 6138,-110 6138,-116 6138,-116 6138,-175 6138,-175 6138,-181 6132,-187 6126,-187\"/>\n<text text-anchor=\"start\" x=\"5982\" y=\"-171.8\" font-family=\"Helvetica,sans-Serif\" font-size=\"14.00\" fill=\"#000000\">AXI2_1X ≤ 1.667</text>\n<text text-anchor=\"start\" x=\"5999\" y=\"-156.8\" font-family=\"Helvetica,sans-Serif\" font-size=\"14.00\" fill=\"#000000\">gini = 0.142</text>\n<text text-anchor=\"start\" x=\"5993\" y=\"-141.8\" font-family=\"Helvetica,sans-Serif\" font-size=\"14.00\" fill=\"#000000\">samples = 26</text>\n<text text-anchor=\"start\" x=\"5944\" y=\"-126.8\" font-family=\"Helvetica,sans-Serif\" font-size=\"14.00\" fill=\"#000000\">value = [0, 2, 24, 0, 0, 0, 0, 0]</text>\n<text text-anchor=\"start\" x=\"5951.5\" y=\"-111.8\" font-family=\"Helvetica,sans-Serif\" font-size=\"14.00\" fill=\"#000000\">class = SoltEst_BChumP4</text>\n</g>\n<!-- 49&#45;&gt;50 -->\n<g id=\"edge50\" class=\"edge\">\n<title>49&#45;&gt;50</title>\n<path fill=\"none\" stroke=\"#000000\" d=\"M6107.2268,-222.8796C6098.9713,-213.7832 6090.158,-204.0722 6081.6626,-194.7116\"/>\n<polygon fill=\"#000000\" stroke=\"#000000\" points=\"6084.2467,-192.3509 6074.9344,-187.2981 6079.0632,-197.0553 6084.2467,-192.3509\"/>\n</g>\n<!-- 53 -->\n<g id=\"node54\" class=\"node\">\n<title>53</title>\n<path fill=\"#55abe9\" stroke=\"#000000\" d=\"M6338,-187C6338,-187 6168,-187 6168,-187 6162,-187 6156,-181 6156,-175 6156,-175 6156,-116 6156,-116 6156,-110 6162,-104 6168,-104 6168,-104 6338,-104 6338,-104 6344,-104 6350,-110 6350,-116 6350,-116 6350,-175 6350,-175 6350,-181 6344,-187 6338,-187\"/>\n<text text-anchor=\"start\" x=\"6188\" y=\"-171.8\" font-family=\"Helvetica,sans-Serif\" font-size=\"14.00\" fill=\"#000000\">DIAG4_1X ≤ 29.158</text>\n<text text-anchor=\"start\" x=\"6215\" y=\"-156.8\" font-family=\"Helvetica,sans-Serif\" font-size=\"14.00\" fill=\"#000000\">gini = 0.219</text>\n<text text-anchor=\"start\" x=\"6213.5\" y=\"-141.8\" font-family=\"Helvetica,sans-Serif\" font-size=\"14.00\" fill=\"#000000\">samples = 8</text>\n<text text-anchor=\"start\" x=\"6164\" y=\"-126.8\" font-family=\"Helvetica,sans-Serif\" font-size=\"14.00\" fill=\"#000000\">value = [0, 1, 0, 0, 7, 0, 0, 0]</text>\n<text text-anchor=\"start\" x=\"6185\" y=\"-111.8\" font-family=\"Helvetica,sans-Serif\" font-size=\"14.00\" fill=\"#000000\">class = Desb_Molino</text>\n</g>\n<!-- 49&#45;&gt;53 -->\n<g id=\"edge53\" class=\"edge\">\n<title>49&#45;&gt;53</title>\n<path fill=\"none\" stroke=\"#000000\" d=\"M6182.7732,-222.8796C6191.0287,-213.7832 6199.842,-204.0722 6208.3374,-194.7116\"/>\n<polygon fill=\"#000000\" stroke=\"#000000\" points=\"6210.9368,-197.0553 6215.0656,-187.2981 6205.7533,-192.3509 6210.9368,-197.0553\"/>\n</g>\n<!-- 51 -->\n<g id=\"node52\" class=\"node\">\n<title>51</title>\n<path fill=\"#4fe642\" stroke=\"#000000\" d=\"M5912,-68C5912,-68 5734,-68 5734,-68 5728,-68 5722,-62 5722,-56 5722,-56 5722,-12 5722,-12 5722,-6 5728,0 5734,0 5734,0 5912,0 5912,0 5918,0 5924,-6 5924,-12 5924,-12 5924,-56 5924,-56 5924,-62 5918,-68 5912,-68\"/>\n<text text-anchor=\"start\" x=\"5789.5\" y=\"-52.8\" font-family=\"Helvetica,sans-Serif\" font-size=\"14.00\" fill=\"#000000\">gini = 0.08</text>\n<text text-anchor=\"start\" x=\"5779\" y=\"-37.8\" font-family=\"Helvetica,sans-Serif\" font-size=\"14.00\" fill=\"#000000\">samples = 24</text>\n<text text-anchor=\"start\" x=\"5730\" y=\"-22.8\" font-family=\"Helvetica,sans-Serif\" font-size=\"14.00\" fill=\"#000000\">value = [0, 1, 23, 0, 0, 0, 0, 0]</text>\n<text text-anchor=\"start\" x=\"5737.5\" y=\"-7.8\" font-family=\"Helvetica,sans-Serif\" font-size=\"14.00\" fill=\"#000000\">class = SoltEst_BChumP4</text>\n</g>\n<!-- 50&#45;&gt;51 -->\n<g id=\"edge51\" class=\"edge\">\n<title>50&#45;&gt;51</title>\n<path fill=\"none\" stroke=\"#000000\" d=\"M5957.3143,-103.9815C5937.7201,-93.7724 5916.8162,-82.8809 5897.4784,-72.8053\"/>\n<polygon fill=\"#000000\" stroke=\"#000000\" points=\"5898.9057,-69.6024 5888.4199,-68.0856 5895.6711,-75.8103 5898.9057,-69.6024\"/>\n</g>\n<!-- 52 -->\n<g id=\"node53\" class=\"node\">\n<title>52</title>\n<path fill=\"#ffffff\" stroke=\"#000000\" d=\"M6124,-68C6124,-68 5954,-68 5954,-68 5948,-68 5942,-62 5942,-56 5942,-56 5942,-12 5942,-12 5942,-6 5948,0 5954,0 5954,0 6124,0 6124,0 6130,0 6136,-6 6136,-12 6136,-12 6136,-56 6136,-56 6136,-62 6130,-68 6124,-68\"/>\n<text text-anchor=\"start\" x=\"6009.5\" y=\"-52.8\" font-family=\"Helvetica,sans-Serif\" font-size=\"14.00\" fill=\"#000000\">gini = 0.5</text>\n<text text-anchor=\"start\" x=\"5999.5\" y=\"-37.8\" font-family=\"Helvetica,sans-Serif\" font-size=\"14.00\" fill=\"#000000\">samples = 2</text>\n<text text-anchor=\"start\" x=\"5950\" y=\"-22.8\" font-family=\"Helvetica,sans-Serif\" font-size=\"14.00\" fill=\"#000000\">value = [0, 1, 1, 0, 0, 0, 0, 0]</text>\n<text text-anchor=\"start\" x=\"5976\" y=\"-7.8\" font-family=\"Helvetica,sans-Serif\" font-size=\"14.00\" fill=\"#000000\">class = SoltEst_BM</text>\n</g>\n<!-- 50&#45;&gt;52 -->\n<g id=\"edge52\" class=\"edge\">\n<title>50&#45;&gt;52</title>\n<path fill=\"none\" stroke=\"#000000\" d=\"M6037.7447,-103.9815C6037.8947,-95.618 6038.053,-86.7965 6038.2046,-78.3409\"/>\n<polygon fill=\"#000000\" stroke=\"#000000\" points=\"6041.7054,-78.3249 6038.3854,-68.2637 6034.7065,-78.1993 6041.7054,-78.3249\"/>\n</g>\n<!-- 54 -->\n<g id=\"node55\" class=\"node\">\n<title>54</title>\n<path fill=\"#399de5\" stroke=\"#000000\" d=\"M6336,-68C6336,-68 6166,-68 6166,-68 6160,-68 6154,-62 6154,-56 6154,-56 6154,-12 6154,-12 6154,-6 6160,0 6166,0 6166,0 6336,0 6336,0 6342,0 6348,-6 6348,-12 6348,-12 6348,-56 6348,-56 6348,-62 6342,-68 6336,-68\"/>\n<text text-anchor=\"start\" x=\"6221.5\" y=\"-52.8\" font-family=\"Helvetica,sans-Serif\" font-size=\"14.00\" fill=\"#000000\">gini = 0.0</text>\n<text text-anchor=\"start\" x=\"6211.5\" y=\"-37.8\" font-family=\"Helvetica,sans-Serif\" font-size=\"14.00\" fill=\"#000000\">samples = 7</text>\n<text text-anchor=\"start\" x=\"6162\" y=\"-22.8\" font-family=\"Helvetica,sans-Serif\" font-size=\"14.00\" fill=\"#000000\">value = [0, 0, 0, 0, 7, 0, 0, 0]</text>\n<text text-anchor=\"start\" x=\"6183\" y=\"-7.8\" font-family=\"Helvetica,sans-Serif\" font-size=\"14.00\" fill=\"#000000\">class = Desb_Molino</text>\n</g>\n<!-- 53&#45;&gt;54 -->\n<g id=\"edge54\" class=\"edge\">\n<title>53&#45;&gt;54</title>\n<path fill=\"none\" stroke=\"#000000\" d=\"M6252.2553,-103.9815C6252.1053,-95.618 6251.947,-86.7965 6251.7954,-78.3409\"/>\n<polygon fill=\"#000000\" stroke=\"#000000\" points=\"6255.2935,-78.1993 6251.6146,-68.2637 6248.2946,-78.3249 6255.2935,-78.1993\"/>\n</g>\n<!-- 55 -->\n<g id=\"node56\" class=\"node\">\n<title>55</title>\n<path fill=\"#c8e539\" stroke=\"#000000\" d=\"M6548,-68C6548,-68 6378,-68 6378,-68 6372,-68 6366,-62 6366,-56 6366,-56 6366,-12 6366,-12 6366,-6 6372,0 6378,0 6378,0 6548,0 6548,0 6554,0 6560,-6 6560,-12 6560,-12 6560,-56 6560,-56 6560,-62 6554,-68 6548,-68\"/>\n<text text-anchor=\"start\" x=\"6433.5\" y=\"-52.8\" font-family=\"Helvetica,sans-Serif\" font-size=\"14.00\" fill=\"#000000\">gini = 0.0</text>\n<text text-anchor=\"start\" x=\"6423.5\" y=\"-37.8\" font-family=\"Helvetica,sans-Serif\" font-size=\"14.00\" fill=\"#000000\">samples = 1</text>\n<text text-anchor=\"start\" x=\"6374\" y=\"-22.8\" font-family=\"Helvetica,sans-Serif\" font-size=\"14.00\" fill=\"#000000\">value = [0, 1, 0, 0, 0, 0, 0, 0]</text>\n<text text-anchor=\"start\" x=\"6400\" y=\"-7.8\" font-family=\"Helvetica,sans-Serif\" font-size=\"14.00\" fill=\"#000000\">class = SoltEst_BM</text>\n</g>\n<!-- 53&#45;&gt;55 -->\n<g id=\"edge55\" class=\"edge\">\n<title>53&#45;&gt;55</title>\n<path fill=\"none\" stroke=\"#000000\" d=\"M6331.1962,-103.9815C6350.4242,-93.7724 6370.9374,-82.8809 6389.9138,-72.8053\"/>\n<polygon fill=\"#000000\" stroke=\"#000000\" points=\"6391.6119,-75.8665 6398.8029,-68.0856 6388.3293,-69.6839 6391.6119,-75.8665\"/>\n</g>\n<!-- 57 -->\n<g id=\"node58\" class=\"node\">\n<title>57</title>\n<path fill=\"#dbee7e\" stroke=\"#000000\" d=\"M6884,-187C6884,-187 6698,-187 6698,-187 6692,-187 6686,-181 6686,-175 6686,-175 6686,-116 6686,-116 6686,-110 6692,-104 6698,-104 6698,-104 6884,-104 6884,-104 6890,-104 6896,-110 6896,-116 6896,-116 6896,-175 6896,-175 6896,-181 6890,-187 6884,-187\"/>\n<text text-anchor=\"start\" x=\"6743\" y=\"-171.8\" font-family=\"Helvetica,sans-Serif\" font-size=\"14.00\" fill=\"#000000\">DIAG2 ≤ 7.786</text>\n<text text-anchor=\"start\" x=\"6753\" y=\"-156.8\" font-family=\"Helvetica,sans-Serif\" font-size=\"14.00\" fill=\"#000000\">gini = 0.404</text>\n<text text-anchor=\"start\" x=\"6747\" y=\"-141.8\" font-family=\"Helvetica,sans-Serif\" font-size=\"14.00\" fill=\"#000000\">samples = 98</text>\n<text text-anchor=\"start\" x=\"6694\" y=\"-126.8\" font-family=\"Helvetica,sans-Serif\" font-size=\"14.00\" fill=\"#000000\">value = [3, 72, 23, 0, 0, 0, 0, 0]</text>\n<text text-anchor=\"start\" x=\"6728\" y=\"-111.8\" font-family=\"Helvetica,sans-Serif\" font-size=\"14.00\" fill=\"#000000\">class = SoltEst_BM</text>\n</g>\n<!-- 56&#45;&gt;57 -->\n<g id=\"edge57\" class=\"edge\">\n<title>56&#45;&gt;57</title>\n<path fill=\"none\" stroke=\"#000000\" d=\"M6791,-222.8796C6791,-214.6838 6791,-205.9891 6791,-197.5013\"/>\n<polygon fill=\"#000000\" stroke=\"#000000\" points=\"6794.5001,-197.298 6791,-187.2981 6787.5001,-197.2981 6794.5001,-197.298\"/>\n</g>\n<!-- 60 -->\n<g id=\"node61\" class=\"node\">\n<title>60</title>\n<path fill=\"#cae641\" stroke=\"#000000\" d=\"M7224,-187C7224,-187 7038,-187 7038,-187 7032,-187 7026,-181 7026,-175 7026,-175 7026,-116 7026,-116 7026,-110 7032,-104 7038,-104 7038,-104 7224,-104 7224,-104 7230,-104 7236,-110 7236,-116 7236,-116 7236,-175 7236,-175 7236,-181 7230,-187 7224,-187\"/>\n<text text-anchor=\"start\" x=\"7089\" y=\"-171.8\" font-family=\"Helvetica,sans-Serif\" font-size=\"14.00\" fill=\"#000000\">AXI2 ≤ 9.381</text>\n<text text-anchor=\"start\" x=\"7093\" y=\"-156.8\" font-family=\"Helvetica,sans-Serif\" font-size=\"14.00\" fill=\"#000000\">gini = 0.073</text>\n<text text-anchor=\"start\" x=\"7083\" y=\"-141.8\" font-family=\"Helvetica,sans-Serif\" font-size=\"14.00\" fill=\"#000000\">samples = 292</text>\n<text text-anchor=\"start\" x=\"7034\" y=\"-126.8\" font-family=\"Helvetica,sans-Serif\" font-size=\"14.00\" fill=\"#000000\">value = [7, 281, 4, 0, 0, 0, 0, 0]</text>\n<text text-anchor=\"start\" x=\"7068\" y=\"-111.8\" font-family=\"Helvetica,sans-Serif\" font-size=\"14.00\" fill=\"#000000\">class = SoltEst_BM</text>\n</g>\n<!-- 56&#45;&gt;60 -->\n<g id=\"edge60\" class=\"edge\">\n<title>56&#45;&gt;60</title>\n<path fill=\"none\" stroke=\"#000000\" d=\"M6904.6878,-224.7093C6940.5732,-212.1494 6980.2326,-198.2686 7016.1954,-185.6816\"/>\n<polygon fill=\"#000000\" stroke=\"#000000\" points=\"7017.4603,-188.9472 7025.7426,-182.3401 7015.1478,-182.3402 7017.4603,-188.9472\"/>\n</g>\n<!-- 58 -->\n<g id=\"node59\" class=\"node\">\n<title>58</title>\n<path fill=\"#cbe642\" stroke=\"#000000\" d=\"M6768,-68C6768,-68 6590,-68 6590,-68 6584,-68 6578,-62 6578,-56 6578,-56 6578,-12 6578,-12 6578,-6 6584,0 6590,0 6590,0 6768,0 6768,0 6774,0 6780,-6 6780,-12 6780,-12 6780,-56 6780,-56 6780,-62 6774,-68 6768,-68\"/>\n<text text-anchor=\"start\" x=\"6645.5\" y=\"-52.8\" font-family=\"Helvetica,sans-Serif\" font-size=\"14.00\" fill=\"#000000\">gini = 0.09</text>\n<text text-anchor=\"start\" x=\"6635\" y=\"-37.8\" font-family=\"Helvetica,sans-Serif\" font-size=\"14.00\" fill=\"#000000\">samples = 43</text>\n<text text-anchor=\"start\" x=\"6586\" y=\"-22.8\" font-family=\"Helvetica,sans-Serif\" font-size=\"14.00\" fill=\"#000000\">value = [1, 41, 1, 0, 0, 0, 0, 0]</text>\n<text text-anchor=\"start\" x=\"6616\" y=\"-7.8\" font-family=\"Helvetica,sans-Serif\" font-size=\"14.00\" fill=\"#000000\">class = SoltEst_BM</text>\n</g>\n<!-- 57&#45;&gt;58 -->\n<g id=\"edge58\" class=\"edge\">\n<title>57&#45;&gt;58</title>\n<path fill=\"none\" stroke=\"#000000\" d=\"M6749.2953,-103.9815C6739.9711,-94.6989 6730.0803,-84.8522 6720.7541,-75.5677\"/>\n<polygon fill=\"#000000\" stroke=\"#000000\" points=\"6722.9736,-72.8385 6713.4173,-68.2637 6718.0349,-77.7993 6722.9736,-72.8385\"/>\n</g>\n<!-- 59 -->\n<g id=\"node60\" class=\"node\">\n<title>59</title>\n<path fill=\"#f0f8c9\" stroke=\"#000000\" d=\"M6996,-68C6996,-68 6810,-68 6810,-68 6804,-68 6798,-62 6798,-56 6798,-56 6798,-12 6798,-12 6798,-6 6804,0 6810,0 6810,0 6996,0 6996,0 7002,0 7008,-6 7008,-12 7008,-12 7008,-56 7008,-56 7008,-62 7002,-68 6996,-68\"/>\n<text text-anchor=\"start\" x=\"6865\" y=\"-52.8\" font-family=\"Helvetica,sans-Serif\" font-size=\"14.00\" fill=\"#000000\">gini = 0.521</text>\n<text text-anchor=\"start\" x=\"6859\" y=\"-37.8\" font-family=\"Helvetica,sans-Serif\" font-size=\"14.00\" fill=\"#000000\">samples = 55</text>\n<text text-anchor=\"start\" x=\"6806\" y=\"-22.8\" font-family=\"Helvetica,sans-Serif\" font-size=\"14.00\" fill=\"#000000\">value = [2, 31, 22, 0, 0, 0, 0, 0]</text>\n<text text-anchor=\"start\" x=\"6840\" y=\"-7.8\" font-family=\"Helvetica,sans-Serif\" font-size=\"14.00\" fill=\"#000000\">class = SoltEst_BM</text>\n</g>\n<!-- 57&#45;&gt;59 -->\n<g id=\"edge59\" class=\"edge\">\n<title>57&#45;&gt;59</title>\n<path fill=\"none\" stroke=\"#000000\" d=\"M6832.7047,-103.9815C6842.0289,-94.6989 6851.9197,-84.8522 6861.2459,-75.5677\"/>\n<polygon fill=\"#000000\" stroke=\"#000000\" points=\"6863.9651,-77.7993 6868.5827,-68.2637 6859.0264,-72.8385 6863.9651,-77.7993\"/>\n</g>\n<!-- 61 -->\n<g id=\"node62\" class=\"node\">\n<title>61</title>\n<path fill=\"#c9e63e\" stroke=\"#000000\" d=\"M7224,-68C7224,-68 7038,-68 7038,-68 7032,-68 7026,-62 7026,-56 7026,-56 7026,-12 7026,-12 7026,-6 7032,0 7038,0 7038,0 7224,0 7224,0 7230,0 7236,-6 7236,-12 7236,-12 7236,-56 7236,-56 7236,-62 7230,-68 7224,-68\"/>\n<text text-anchor=\"start\" x=\"7093\" y=\"-52.8\" font-family=\"Helvetica,sans-Serif\" font-size=\"14.00\" fill=\"#000000\">gini = 0.049</text>\n<text text-anchor=\"start\" x=\"7083\" y=\"-37.8\" font-family=\"Helvetica,sans-Serif\" font-size=\"14.00\" fill=\"#000000\">samples = 283</text>\n<text text-anchor=\"start\" x=\"7034\" y=\"-22.8\" font-family=\"Helvetica,sans-Serif\" font-size=\"14.00\" fill=\"#000000\">value = [3, 276, 4, 0, 0, 0, 0, 0]</text>\n<text text-anchor=\"start\" x=\"7068\" y=\"-7.8\" font-family=\"Helvetica,sans-Serif\" font-size=\"14.00\" fill=\"#000000\">class = SoltEst_BM</text>\n</g>\n<!-- 60&#45;&gt;61 -->\n<g id=\"edge61\" class=\"edge\">\n<title>60&#45;&gt;61</title>\n<path fill=\"none\" stroke=\"#000000\" d=\"M7131,-103.9815C7131,-95.618 7131,-86.7965 7131,-78.3409\"/>\n<polygon fill=\"#000000\" stroke=\"#000000\" points=\"7134.5001,-78.2636 7131,-68.2637 7127.5001,-78.2637 7134.5001,-78.2636\"/>\n</g>\n<!-- 62 -->\n<g id=\"node63\" class=\"node\">\n<title>62</title>\n<path fill=\"#f4fad7\" stroke=\"#000000\" d=\"M7436,-68C7436,-68 7266,-68 7266,-68 7260,-68 7254,-62 7254,-56 7254,-56 7254,-12 7254,-12 7254,-6 7260,0 7266,0 7266,0 7436,0 7436,0 7442,0 7448,-6 7448,-12 7448,-12 7448,-56 7448,-56 7448,-62 7442,-68 7436,-68\"/>\n<text text-anchor=\"start\" x=\"7313\" y=\"-52.8\" font-family=\"Helvetica,sans-Serif\" font-size=\"14.00\" fill=\"#000000\">gini = 0.494</text>\n<text text-anchor=\"start\" x=\"7311.5\" y=\"-37.8\" font-family=\"Helvetica,sans-Serif\" font-size=\"14.00\" fill=\"#000000\">samples = 9</text>\n<text text-anchor=\"start\" x=\"7262\" y=\"-22.8\" font-family=\"Helvetica,sans-Serif\" font-size=\"14.00\" fill=\"#000000\">value = [4, 5, 0, 0, 0, 0, 0, 0]</text>\n<text text-anchor=\"start\" x=\"7288\" y=\"-7.8\" font-family=\"Helvetica,sans-Serif\" font-size=\"14.00\" fill=\"#000000\">class = SoltEst_BM</text>\n</g>\n<!-- 60&#45;&gt;62 -->\n<g id=\"edge62\" class=\"edge\">\n<title>60&#45;&gt;62</title>\n<path fill=\"none\" stroke=\"#000000\" d=\"M7212.9199,-103.9815C7233.1546,-93.7262 7254.748,-82.7823 7274.7032,-72.6686\"/>\n<polygon fill=\"#000000\" stroke=\"#000000\" points=\"7276.4083,-75.7283 7283.7459,-68.0856 7273.2438,-69.4845 7276.4083,-75.7283\"/>\n</g>\n</g>\n</svg>\n"
          },
          "metadata": {
            "tags": []
          },
          "execution_count": 206
        }
      ]
    },
    {
      "cell_type": "markdown",
      "metadata": {
        "id": "NQ4JGFuLxetW",
        "colab_type": "text"
      },
      "source": [
        "Mirar las características más importantes de este árbol. Se puede observar que las decisiónes están más distribuidas en las características. La componente DIAG3 no aporta nada a la decisión y las componentes DIAG2_1X y DIAG4_1X siguen siendo las más importantes."
      ]
    },
    {
      "cell_type": "code",
      "metadata": {
        "id": "aFLH5neJH6R6",
        "colab_type": "code",
        "outputId": "db1e158a-1970-4837-9220-012d5485d4b9",
        "colab": {
          "base_uri": "https://localhost:8080/",
          "height": 185
        }
      },
      "source": [
        "features = X.columns.tolist()\n",
        "fi = modelo2.feature_importances_\n",
        "\n",
        "l = len(features)\n",
        "for i in range(0,len(features)):\n",
        "    print('{:.<20} {:3}'.format(features[i],fi[i]))"
      ],
      "execution_count": 207,
      "outputs": [
        {
          "output_type": "stream",
          "text": [
            "DIAG1............... 0.03444084854386727\n",
            "DIAG2............... 0.010521069666573965\n",
            "AXI2................ 0.013854169697269\n",
            "DIAG3............... 0.0\n",
            "DIAG4............... 0.020181545436523254\n",
            "DIAG1_1X............ 0.0630938120200506\n",
            "DIAG2_1X............ 0.30997127574586214\n",
            "AXI2_1X............. 0.014570982085524464\n",
            "DIAG3_1X............ 0.1924396583823703\n",
            "DIAG4_1X............ 0.34092663842195897\n"
          ],
          "name": "stdout"
        }
      ]
    },
    {
      "cell_type": "markdown",
      "metadata": {
        "id": "zevQAEWjxhg2",
        "colab_type": "text"
      },
      "source": [
        "Se crear otro modelo de Árbol de Decisión con máxima profundidad."
      ]
    },
    {
      "cell_type": "code",
      "metadata": {
        "_cell_guid": "32a4d8a7-b285-47c2-988c-8aa6a66933e2",
        "_uuid": "cabee45b6dd75bd0aac571320e300c5d2c94c045",
        "colab_type": "code",
        "id": "pKsuElYHzvBw",
        "outputId": "40c950ff-a7ab-4c9e-cf6b-e2ca2eaac35b",
        "colab": {
          "base_uri": "https://localhost:8080/",
          "height": 50
        }
      },
      "source": [
        "# Árbol de decisión completamente profunda\n",
        "modelo5 = tree.DecisionTreeClassifier()\n",
        "modelo5.fit(x_train, y_train)\n",
        "modelo5_score_train = modelo5.score(x_train, y_train)\n",
        "print(\"Training score: \", modelo5_score_train)\n",
        "modelo5_score_test = modelo5.score(x_test, y_test)\n",
        "print(\"Testing score: \", modelo5_score_test)"
      ],
      "execution_count": 208,
      "outputs": [
        {
          "output_type": "stream",
          "text": [
            "Training score:  1.0\n",
            "Testing score:  0.8794009458749343\n"
          ],
          "name": "stdout"
        }
      ]
    },
    {
      "cell_type": "markdown",
      "metadata": {
        "id": "FbiwHYbAx8co",
        "colab_type": "text"
      },
      "source": [
        "Se compara los modelos y determinar cual de los 3 es el mejor."
      ]
    },
    {
      "cell_type": "code",
      "metadata": {
        "_cell_guid": "6fb20c58-b5dc-4944-9b78-258d2f2e0da2",
        "_uuid": "92eee54d59182aeed9b828fe2a57818ffcfcbb31",
        "colab_type": "code",
        "id": "o4D-vz6ezvB0",
        "outputId": "ecb9444f-ff64-44d8-b5fe-33e0aff383fb",
        "scrolled": true,
        "colab": {
          "base_uri": "https://localhost:8080/",
          "height": 101
        }
      },
      "source": [
        "# Comparación de los modelos exactitud\n",
        "\n",
        "print('{:10} {:20} {:20}'.format('Profundidad', 'Desempeño entrenamiento','Desempeño prueba'))\n",
        "print('{:10} {:20} {:20}'.format('-----------', '-----------------------','----------------'))\n",
        "print('{:1} {:>25} {:>20}'.format(2, modelo1_score_train, modelo1_score_test))\n",
        "print('{:1} {:>25} {:>20}'.format(5, modelo2_score_train, modelo2_score_test))\n",
        "print('{:1} {:>23} {:>20}'.format(\"max\", modelo5_score_train, modelo5_score_test))"
      ],
      "execution_count": 209,
      "outputs": [
        {
          "output_type": "stream",
          "text": [
            "Profundidad Desempeño entrenamiento Desempeño prueba    \n",
            "----------- ----------------------- ----------------    \n",
            "2        0.8100650417186781   0.8092485549132948\n",
            "5        0.8997437750476316   0.8896479243300053\n",
            "max                     1.0   0.8794009458749343\n"
          ],
          "name": "stdout"
        }
      ]
    },
    {
      "cell_type": "markdown",
      "metadata": {
        "_cell_guid": "a2ee959f-14f5-4236-8d7f-bfe781d37f49",
        "_uuid": "9262f9c49fb675e6b7a107e66ea959868b9176b4",
        "colab_type": "text",
        "id": "ttoxRaqXzvB2"
      },
      "source": [
        "Se podría ver que, a mayor profundidad, el puntaje de desempeño aumenta. El árbol de profundidad máxima se sobreentrenó pues obtuvo un puntaje de 1.0 en el entrenamiento pero en el puntaje de prueba fue menor. Según las observaciones anteriores, el árbol con una profundidad de 5 parece ser el modelo más razonable, ya que tanto los puntajes de entrenamiento como de prueba son altos."
      ]
    },
    {
      "cell_type": "markdown",
      "metadata": {
        "id": "M-Eqr0OaP4Pc",
        "colab_type": "text"
      },
      "source": [
        "**RANDOM FOREST**"
      ]
    },
    {
      "cell_type": "markdown",
      "metadata": {
        "id": "sCmonz52yvUn",
        "colab_type": "text"
      },
      "source": [
        "Debido al sobreentrenamiento se prueba un modelo con Bosqueas aleatorios, es decir, una serie de árboles de decisión. Este modelo tiena la capacidad de partir el data set aleatoriamente y asignarlo a árboles de decisión diferentes y finalmente realiza un promeido para verificar cual de todos los árboles es el mejor. La aleatoriedad de entrenamiento de los árboles elimina el sobreentrenamiento."
      ]
    },
    {
      "cell_type": "markdown",
      "metadata": {
        "id": "wWGsP3zHzQWo",
        "colab_type": "text"
      },
      "source": [
        "Se entrena el modelo"
      ]
    },
    {
      "cell_type": "code",
      "metadata": {
        "id": "qhHG9t_jQMq5",
        "colab_type": "code",
        "outputId": "d13707dc-74b4-4136-ab2d-448aa7355911",
        "colab": {
          "base_uri": "https://localhost:8080/",
          "height": 151
        }
      },
      "source": [
        "model = RandomForestClassifier(n_estimators=1000)\n",
        "model.fit(x_train, y_train)"
      ],
      "execution_count": 210,
      "outputs": [
        {
          "output_type": "execute_result",
          "data": {
            "text/plain": [
              "RandomForestClassifier(bootstrap=True, ccp_alpha=0.0, class_weight=None,\n",
              "                       criterion='gini', max_depth=None, max_features='auto',\n",
              "                       max_leaf_nodes=None, max_samples=None,\n",
              "                       min_impurity_decrease=0.0, min_impurity_split=None,\n",
              "                       min_samples_leaf=1, min_samples_split=2,\n",
              "                       min_weight_fraction_leaf=0.0, n_estimators=1000,\n",
              "                       n_jobs=None, oob_score=False, random_state=None,\n",
              "                       verbose=0, warm_start=False)"
            ]
          },
          "metadata": {
            "tags": []
          },
          "execution_count": 210
        }
      ]
    },
    {
      "cell_type": "code",
      "metadata": {
        "id": "xh2ghMTNRrOA",
        "colab_type": "code",
        "outputId": "6bb22ab0-4edd-4dd5-daad-945c15cd5397",
        "colab": {
          "base_uri": "https://localhost:8080/",
          "height": 269
        }
      },
      "source": [
        "y_pred = model.predict(x_test)\n",
        "print(metrics.classification_report(y_pred, y_test))"
      ],
      "execution_count": 211,
      "outputs": [
        {
          "output_type": "stream",
          "text": [
            "              precision    recall  f1-score   support\n",
            "\n",
            "           0       0.94      0.95      0.94      2007\n",
            "           1       0.90      0.92      0.91       699\n",
            "           2       0.93      0.89      0.91       664\n",
            "           3       0.87      0.85      0.86       273\n",
            "           4       0.75      0.76      0.76       137\n",
            "           5       0.54      0.44      0.48        16\n",
            "           6       0.21      1.00      0.35         3\n",
            "           7       0.57      0.57      0.57         7\n",
            "\n",
            "    accuracy                           0.92      3806\n",
            "   macro avg       0.72      0.80      0.72      3806\n",
            "weighted avg       0.92      0.92      0.92      3806\n",
            "\n"
          ],
          "name": "stdout"
        }
      ]
    },
    {
      "cell_type": "markdown",
      "metadata": {
        "id": "X3uWOhUkzUc2",
        "colab_type": "text"
      },
      "source": [
        "Se visualiza la matriz de confusión. Esta matriz nos permite hacer una relación de los datos que eran de determinada clase y el los clasificó en esa misma clase o en otra diferente. La diagonal principal es el objetivo de un buen modelo, los demás datos son errores en la predicción."
      ]
    },
    {
      "cell_type": "code",
      "metadata": {
        "id": "dKsL_kdESHy-",
        "colab_type": "code",
        "outputId": "320ca5f6-0a3c-489d-aa83-c698492923f5",
        "colab": {
          "base_uri": "https://localhost:8080/",
          "height": 606
        }
      },
      "source": [
        "mat = confusion_matrix(y_test, y_pred)\n",
        "sns.heatmap(mat.T, square=True, annot=True, fmt='d', cbar=False)\n",
        "plt.xlabel('true label')\n",
        "plt.ylabel('predicted label');"
      ],
      "execution_count": 212,
      "outputs": [
        {
          "output_type": "display_data",
          "data": {
            "image/png": "[encoded data removed]",
            "text/plain": [
              "<Figure size 720x720 with 1 Axes>"
            ]
          },
          "metadata": {
            "tags": []
          }
        }
      ]
    }
  ]
}